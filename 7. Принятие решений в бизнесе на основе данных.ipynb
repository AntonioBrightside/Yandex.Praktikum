{
 "cells": [
  {
   "cell_type": "markdown",
   "metadata": {},
   "source": [
    "<div style=\"border:solid green 2px; padding: 20px\">\n",
    "<h2> Комментарий ревьюера </h2>\n",
    "    \n",
    "Привет :) Меня зовут Макеева Таня, и я буду делать ревью твоей работы. Предлагаю общаться на \"ты\", надеюсь, ты не против :)\n",
    "\n",
    "Мои комментарии ты сможешь найти по заголовку \"комментарий ревьюера\", а ещё они отмечены тремя цветами:   \n",
    " \n",
    "<div class=\"alert alert-danger\">\n",
    "<h2> Комментарий ревьюера </h2>\n",
    "    \n",
    "Красным цветом выделены более критические моменты, которые обязательно нужно исправить.\n",
    "    \n",
    "</div>\n",
    "\n",
    "<div class=\"alert alert-warning\">\n",
    "<h2> Комментарий ревьюера </h2>\n",
    "    \n",
    "Жёлтым цветом выделены некоторые недочёты, которые тоже стоит улучшить. Если они совсем незначительные и их немного, работа может быть принята.\n",
    "    \n",
    "</div>\n",
    "\n",
    "<div class=\"alert alert-success\">\n",
    "<h2> Комментарий ревьюера </h2>\n",
    "    \n",
    "И зелёным цветом выделены советы на будущее, а также места, которые получились у тебя лучше всего.\n",
    "    \n",
    "</div>\n",
    "\n",
    "\n",
    "Давай вести диалог через комментарии. Задавай вопросы, если такие будут, а также пиши об изменениях в ответ на мои комментарии. Пожалуйста, оставляй свои сообщения заметным цветом, отличным от моих, чтобы я ничего не упустила. \n",
    "\n",
    "<div class=\"alert alert-info\">\n",
    "<h2> Комментарий студента </h2>\n",
    "\n",
    "К примеру, так\n",
    "    \n",
    "</div>\n",
    "\n",
    "И не удаляй комментарии, чтобы вся история общения была перед глазами :)"
   ]
  },
  {
   "cell_type": "markdown",
   "metadata": {},
   "source": [
    "<div class=\"alert alert-success\">\n",
    "<h2> Комментарий ревьюера v2</h2>\n",
    "    \n",
    "Мои комментарии по второй итерации будут с отметкой v2 :)\n",
    "    \n",
    "</div>"
   ]
  },
  {
   "cell_type": "markdown",
   "metadata": {},
   "source": [
    "<div class=\"alert alert-success\">\n",
    "<h2> Комментарий ревьюера v3</h2>\n",
    "    \n",
    "Мои комментарии по третьей итерации будут с отметкой v3 :)\n",
    "    \n",
    "</div>"
   ]
  },
  {
   "cell_type": "markdown",
   "metadata": {},
   "source": [
    "<div class=\"alert alert-success\">\n",
    "<h2> Комментарий ревьюера v4</h2>\n",
    "    \n",
    "Мои комментарии по четвёртой итерации ты сможешь найти с отметкой v4 :)\n",
    "    \n",
    "</div>"
   ]
  },
  {
   "cell_type": "markdown",
   "metadata": {},
   "source": [
    "<strong style=\"font-size: 13pt\">Описание проекта: </strong>\n",
    "<p> Отдел маректинга подготовил список гипотез для увеличения выручки</p>\n",
    "\n",
    "<strong style=\"font-size: 13pt\">Задача: </strong>\n",
    "<p> Приоритезировать гипотезы, запустите A/B-тест и проанализировать результаты. </p>"
   ]
  },
  {
   "cell_type": "markdown",
   "metadata": {},
   "source": [
    "### Шаг 1. Загружаем данные и подготавливаем их к анализу"
   ]
  },
  {
   "cell_type": "code",
   "execution_count": 1,
   "metadata": {},
   "outputs": [],
   "source": [
    "import pandas as pd\n",
    "import numpy as np\n",
    "import scipy.stats as stats\n",
    "import matplotlib.pyplot as plt\n",
    "\n",
    "hypothesis = pd.read_csv('/datasets/hypothesis.csv')\n",
    "orders = pd.read_csv('/datasets/orders.csv')\n",
    "visitors = pd.read_csv('/datasets/visitors.csv')"
   ]
  },
  {
   "cell_type": "code",
   "execution_count": 2,
   "metadata": {},
   "outputs": [
    {
     "name": "stdout",
     "output_type": "stream",
     "text": [
      "Данные из таблицы \"Гипотезы\":\n",
      "<class 'pandas.core.frame.DataFrame'>\n",
      "RangeIndex: 9 entries, 0 to 8\n",
      "Data columns (total 5 columns):\n",
      "Hypothesis    9 non-null object\n",
      "Reach         9 non-null int64\n",
      "Impact        9 non-null int64\n",
      "Confidence    9 non-null int64\n",
      "Efforts       9 non-null int64\n",
      "dtypes: int64(4), object(1)\n",
      "memory usage: 488.0+ bytes\n",
      "\n",
      " Данные из таблицы \"Заказы\":\n",
      "<class 'pandas.core.frame.DataFrame'>\n",
      "RangeIndex: 1197 entries, 0 to 1196\n",
      "Data columns (total 5 columns):\n",
      "transactionId    1197 non-null int64\n",
      "visitorId        1197 non-null int64\n",
      "date             1197 non-null object\n",
      "revenue          1197 non-null int64\n",
      "group            1197 non-null object\n",
      "dtypes: int64(3), object(2)\n",
      "memory usage: 46.9+ KB\n",
      "\n",
      " Данные из таблицы \"Визиты\":\n",
      "<class 'pandas.core.frame.DataFrame'>\n",
      "RangeIndex: 62 entries, 0 to 61\n",
      "Data columns (total 3 columns):\n",
      "date        62 non-null object\n",
      "group       62 non-null object\n",
      "visitors    62 non-null int64\n",
      "dtypes: int64(1), object(2)\n",
      "memory usage: 1.6+ KB\n"
     ]
    }
   ],
   "source": [
    "print('Данные из таблицы \"Гипотезы\":')\n",
    "hypothesis.info()\n",
    "print('\\n Данные из таблицы \"Заказы\":')\n",
    "orders.info()\n",
    "print('\\n Данные из таблицы \"Визиты\":')\n",
    "visitors.info()"
   ]
  },
  {
   "cell_type": "markdown",
   "metadata": {},
   "source": [
    "Во всех файлах присутсвубт все данные. Есть некорреткный тип данных \"дата\", разюеремся с ними в процессе"
   ]
  },
  {
   "cell_type": "markdown",
   "metadata": {},
   "source": [
    "<div class=\"alert alert-warning\">\n",
    "<h2> Комментарий ревьюера </h2>\n",
    "    \n",
    "Типы данных проверены, пропуски тоже. А что на счет дубликатов? Эту проверку тоже не стоит забывать.\n",
    "    \n",
    "</div>"
   ]
  },
  {
   "cell_type": "markdown",
   "metadata": {},
   "source": [
    "<div class=\"alert alert-info\">\n",
    "<h2> Комментарий студента </h2>\n",
    "    \n",
    "Прошу прощения, в своей версии быстро пробил информацию и не удосужился оставить) Ниже:"
   ]
  },
  {
   "cell_type": "code",
   "execution_count": 3,
   "metadata": {},
   "outputs": [
    {
     "name": "stdout",
     "output_type": "stream",
     "text": [
      "Количество задублированных строчек по массиву \"гипотезы\": 0\n",
      "Количество задублированных строчек по массиву \"заказы\": 0\n",
      "Количество задублированных строчек по массиву \"посетители\": 0\n"
     ]
    }
   ],
   "source": [
    "print('Количество задублированных строчек по массиву \"гипотезы\":',hypothesis.duplicated().sum())\n",
    "print('Количество задублированных строчек по массиву \"заказы\":',orders.duplicated().sum())\n",
    "print('Количество задублированных строчек по массиву \"посетители\":',visitors.duplicated().sum())"
   ]
  },
  {
   "cell_type": "markdown",
   "metadata": {},
   "source": [
    "<div class=\"alert alert-success\">\n",
    "<h2> Комментарий ревьюера v2</h2>\n",
    "    \n",
    "Отлично, что добавил!\n",
    "    \n",
    "Только точно \"заблированных\"? :)\n",
    "    \n",
    "</div>"
   ]
  },
  {
   "cell_type": "markdown",
   "metadata": {},
   "source": [
    "### Шаг 2. Приоритезация гипотез"
   ]
  },
  {
   "cell_type": "markdown",
   "metadata": {},
   "source": [
    "<em style=\"color:#0015f0\"> Применияем фреймворки ICE:</m>"
   ]
  },
  {
   "cell_type": "code",
   "execution_count": 4,
   "metadata": {},
   "outputs": [
    {
     "data": {
      "text/html": [
       "<div>\n",
       "<style scoped>\n",
       "    .dataframe tbody tr th:only-of-type {\n",
       "        vertical-align: middle;\n",
       "    }\n",
       "\n",
       "    .dataframe tbody tr th {\n",
       "        vertical-align: top;\n",
       "    }\n",
       "\n",
       "    .dataframe thead th {\n",
       "        text-align: right;\n",
       "    }\n",
       "</style>\n",
       "<table border=\"1\" class=\"dataframe\">\n",
       "  <thead>\n",
       "    <tr style=\"text-align: right;\">\n",
       "      <th></th>\n",
       "      <th>Hypothesis</th>\n",
       "      <th>Reach</th>\n",
       "      <th>Impact</th>\n",
       "      <th>Confidence</th>\n",
       "      <th>Efforts</th>\n",
       "      <th>ICE</th>\n",
       "    </tr>\n",
       "  </thead>\n",
       "  <tbody>\n",
       "    <tr>\n",
       "      <td>8</td>\n",
       "      <td>Запустить акцию, дающую скидку на товар в день...</td>\n",
       "      <td>1</td>\n",
       "      <td>9</td>\n",
       "      <td>9</td>\n",
       "      <td>5</td>\n",
       "      <td>16.2</td>\n",
       "    </tr>\n",
       "    <tr>\n",
       "      <td>0</td>\n",
       "      <td>Добавить два новых канала привлечения трафика,...</td>\n",
       "      <td>3</td>\n",
       "      <td>10</td>\n",
       "      <td>8</td>\n",
       "      <td>6</td>\n",
       "      <td>13.3</td>\n",
       "    </tr>\n",
       "    <tr>\n",
       "      <td>7</td>\n",
       "      <td>Добавить форму подписки на все основные страни...</td>\n",
       "      <td>10</td>\n",
       "      <td>7</td>\n",
       "      <td>8</td>\n",
       "      <td>5</td>\n",
       "      <td>11.2</td>\n",
       "    </tr>\n",
       "    <tr>\n",
       "      <td>6</td>\n",
       "      <td>Показать на главной странице баннеры с актуаль...</td>\n",
       "      <td>5</td>\n",
       "      <td>3</td>\n",
       "      <td>8</td>\n",
       "      <td>3</td>\n",
       "      <td>8.0</td>\n",
       "    </tr>\n",
       "    <tr>\n",
       "      <td>2</td>\n",
       "      <td>Добавить блоки рекомендаций товаров на сайт ин...</td>\n",
       "      <td>8</td>\n",
       "      <td>3</td>\n",
       "      <td>7</td>\n",
       "      <td>3</td>\n",
       "      <td>7.0</td>\n",
       "    </tr>\n",
       "    <tr>\n",
       "      <td>1</td>\n",
       "      <td>Запустить собственную службу доставки, что сок...</td>\n",
       "      <td>2</td>\n",
       "      <td>5</td>\n",
       "      <td>4</td>\n",
       "      <td>10</td>\n",
       "      <td>2.0</td>\n",
       "    </tr>\n",
       "    <tr>\n",
       "      <td>5</td>\n",
       "      <td>Добавить страницу отзывов клиентов о магазине,...</td>\n",
       "      <td>3</td>\n",
       "      <td>2</td>\n",
       "      <td>2</td>\n",
       "      <td>3</td>\n",
       "      <td>1.3</td>\n",
       "    </tr>\n",
       "    <tr>\n",
       "      <td>3</td>\n",
       "      <td>Изменить структура категорий, что увеличит кон...</td>\n",
       "      <td>8</td>\n",
       "      <td>3</td>\n",
       "      <td>3</td>\n",
       "      <td>8</td>\n",
       "      <td>1.1</td>\n",
       "    </tr>\n",
       "    <tr>\n",
       "      <td>4</td>\n",
       "      <td>Изменить цвет фона главной страницы, чтобы уве...</td>\n",
       "      <td>3</td>\n",
       "      <td>1</td>\n",
       "      <td>1</td>\n",
       "      <td>1</td>\n",
       "      <td>1.0</td>\n",
       "    </tr>\n",
       "  </tbody>\n",
       "</table>\n",
       "</div>"
      ],
      "text/plain": [
       "                                          Hypothesis  Reach  Impact  \\\n",
       "8  Запустить акцию, дающую скидку на товар в день...      1       9   \n",
       "0  Добавить два новых канала привлечения трафика,...      3      10   \n",
       "7  Добавить форму подписки на все основные страни...     10       7   \n",
       "6  Показать на главной странице баннеры с актуаль...      5       3   \n",
       "2  Добавить блоки рекомендаций товаров на сайт ин...      8       3   \n",
       "1  Запустить собственную службу доставки, что сок...      2       5   \n",
       "5  Добавить страницу отзывов клиентов о магазине,...      3       2   \n",
       "3  Изменить структура категорий, что увеличит кон...      8       3   \n",
       "4  Изменить цвет фона главной страницы, чтобы уве...      3       1   \n",
       "\n",
       "   Confidence  Efforts   ICE  \n",
       "8           9        5  16.2  \n",
       "0           8        6  13.3  \n",
       "7           8        5  11.2  \n",
       "6           8        3   8.0  \n",
       "2           7        3   7.0  \n",
       "1           4       10   2.0  \n",
       "5           2        3   1.3  \n",
       "3           3        8   1.1  \n",
       "4           1        1   1.0  "
      ]
     },
     "metadata": {},
     "output_type": "display_data"
    }
   ],
   "source": [
    "hypothesis['ICE'] = (hypothesis['Impact'] * hypothesis['Confidence'] / hypothesis['Efforts']).round(1)\n",
    "\n",
    "display(hypothesis.sort_values(by='ICE', ascending=False))"
   ]
  },
  {
   "cell_type": "markdown",
   "metadata": {},
   "source": [
    "<em style=\"color:#0015f0\"> Применияем фреймворки RICE:</m>"
   ]
  },
  {
   "cell_type": "code",
   "execution_count": 5,
   "metadata": {},
   "outputs": [
    {
     "data": {
      "text/html": [
       "<div>\n",
       "<style scoped>\n",
       "    .dataframe tbody tr th:only-of-type {\n",
       "        vertical-align: middle;\n",
       "    }\n",
       "\n",
       "    .dataframe tbody tr th {\n",
       "        vertical-align: top;\n",
       "    }\n",
       "\n",
       "    .dataframe thead th {\n",
       "        text-align: right;\n",
       "    }\n",
       "</style>\n",
       "<table border=\"1\" class=\"dataframe\">\n",
       "  <thead>\n",
       "    <tr style=\"text-align: right;\">\n",
       "      <th></th>\n",
       "      <th>Hypothesis</th>\n",
       "      <th>Reach</th>\n",
       "      <th>Impact</th>\n",
       "      <th>Confidence</th>\n",
       "      <th>Efforts</th>\n",
       "      <th>ICE</th>\n",
       "      <th>RICE</th>\n",
       "    </tr>\n",
       "  </thead>\n",
       "  <tbody>\n",
       "    <tr>\n",
       "      <td>7</td>\n",
       "      <td>Добавить форму подписки на все основные страницы, чтобы собрать базу клиентов для email-рассылок</td>\n",
       "      <td>10</td>\n",
       "      <td>7</td>\n",
       "      <td>8</td>\n",
       "      <td>5</td>\n",
       "      <td>11.2</td>\n",
       "      <td>112.0</td>\n",
       "    </tr>\n",
       "    <tr>\n",
       "      <td>2</td>\n",
       "      <td>Добавить блоки рекомендаций товаров на сайт интернет магазина, чтобы повысить конверсию и средний чек заказа</td>\n",
       "      <td>8</td>\n",
       "      <td>3</td>\n",
       "      <td>7</td>\n",
       "      <td>3</td>\n",
       "      <td>7.0</td>\n",
       "      <td>56.0</td>\n",
       "    </tr>\n",
       "    <tr>\n",
       "      <td>0</td>\n",
       "      <td>Добавить два новых канала привлечения трафика, что позволит привлекать на 30% больше пользователей</td>\n",
       "      <td>3</td>\n",
       "      <td>10</td>\n",
       "      <td>8</td>\n",
       "      <td>6</td>\n",
       "      <td>13.3</td>\n",
       "      <td>40.0</td>\n",
       "    </tr>\n",
       "    <tr>\n",
       "      <td>6</td>\n",
       "      <td>Показать на главной странице баннеры с актуальными акциями и распродажами, чтобы увеличить конверсию</td>\n",
       "      <td>5</td>\n",
       "      <td>3</td>\n",
       "      <td>8</td>\n",
       "      <td>3</td>\n",
       "      <td>8.0</td>\n",
       "      <td>40.0</td>\n",
       "    </tr>\n",
       "    <tr>\n",
       "      <td>8</td>\n",
       "      <td>Запустить акцию, дающую скидку на товар в день рождения</td>\n",
       "      <td>1</td>\n",
       "      <td>9</td>\n",
       "      <td>9</td>\n",
       "      <td>5</td>\n",
       "      <td>16.2</td>\n",
       "      <td>16.2</td>\n",
       "    </tr>\n",
       "    <tr>\n",
       "      <td>3</td>\n",
       "      <td>Изменить структура категорий, что увеличит конверсию, т.к. пользователи быстрее найдут нужный товар</td>\n",
       "      <td>8</td>\n",
       "      <td>3</td>\n",
       "      <td>3</td>\n",
       "      <td>8</td>\n",
       "      <td>1.1</td>\n",
       "      <td>9.0</td>\n",
       "    </tr>\n",
       "    <tr>\n",
       "      <td>1</td>\n",
       "      <td>Запустить собственную службу доставки, что сократит срок доставки заказов</td>\n",
       "      <td>2</td>\n",
       "      <td>5</td>\n",
       "      <td>4</td>\n",
       "      <td>10</td>\n",
       "      <td>2.0</td>\n",
       "      <td>4.0</td>\n",
       "    </tr>\n",
       "    <tr>\n",
       "      <td>5</td>\n",
       "      <td>Добавить страницу отзывов клиентов о магазине, что позволит увеличить количество заказов</td>\n",
       "      <td>3</td>\n",
       "      <td>2</td>\n",
       "      <td>2</td>\n",
       "      <td>3</td>\n",
       "      <td>1.3</td>\n",
       "      <td>4.0</td>\n",
       "    </tr>\n",
       "    <tr>\n",
       "      <td>4</td>\n",
       "      <td>Изменить цвет фона главной страницы, чтобы увеличить вовлеченность пользователей</td>\n",
       "      <td>3</td>\n",
       "      <td>1</td>\n",
       "      <td>1</td>\n",
       "      <td>1</td>\n",
       "      <td>1.0</td>\n",
       "      <td>3.0</td>\n",
       "    </tr>\n",
       "  </tbody>\n",
       "</table>\n",
       "</div>"
      ],
      "text/plain": [
       "                                                                                                     Hypothesis  \\\n",
       "7  Добавить форму подписки на все основные страницы, чтобы собрать базу клиентов для email-рассылок               \n",
       "2  Добавить блоки рекомендаций товаров на сайт интернет магазина, чтобы повысить конверсию и средний чек заказа   \n",
       "0  Добавить два новых канала привлечения трафика, что позволит привлекать на 30% больше пользователей             \n",
       "6  Показать на главной странице баннеры с актуальными акциями и распродажами, чтобы увеличить конверсию           \n",
       "8  Запустить акцию, дающую скидку на товар в день рождения                                                        \n",
       "3  Изменить структура категорий, что увеличит конверсию, т.к. пользователи быстрее найдут нужный товар            \n",
       "1  Запустить собственную службу доставки, что сократит срок доставки заказов                                      \n",
       "5  Добавить страницу отзывов клиентов о магазине, что позволит увеличить количество заказов                       \n",
       "4  Изменить цвет фона главной страницы, чтобы увеличить вовлеченность пользователей                               \n",
       "\n",
       "   Reach  Impact  Confidence  Efforts   ICE   RICE  \n",
       "7  10     7       8           5        11.2  112.0  \n",
       "2  8      3       7           3        7.0   56.0   \n",
       "0  3      10      8           6        13.3  40.0   \n",
       "6  5      3       8           3        8.0   40.0   \n",
       "8  1      9       9           5        16.2  16.2   \n",
       "3  8      3       3           8        1.1   9.0    \n",
       "1  2      5       4           10       2.0   4.0    \n",
       "5  3      2       2           3        1.3   4.0    \n",
       "4  3      1       1           1        1.0   3.0    "
      ]
     },
     "metadata": {},
     "output_type": "display_data"
    }
   ],
   "source": [
    "hypothesis['RICE'] = (hypothesis['Reach']*hypothesis['Impact']*hypothesis['Confidence']/hypothesis['Efforts']).round(1)\n",
    "\n",
    "pd.set_option('display.max_colwidth', -1)\n",
    "display(hypothesis.sort_values(by='RICE', ascending=False))"
   ]
  },
  {
   "cell_type": "markdown",
   "metadata": {},
   "source": [
    "<strong style=\"font-size: 13pt\">Вывод: </strong>\n",
    "<p> Очевидно, что при добавлении метрики Reach (RICE) результаты приоритезации сильно изменились, т.к. сильно стало влиять количество затронутых гипотезой пользователей</p>\n",
    "<li> Значительно впереди по методике RICE вырвалась: \"добавление формы подписки на все основные страницы...\"  </li>\n",
    "<li> Гипотеза с добавлением блока рекомендендаций товаров значительно скакнуло по приоритезации (RICE), несмотря не свой потенциально низкий вклад (по данным маркетологов) </li>"
   ]
  },
  {
   "cell_type": "markdown",
   "metadata": {},
   "source": [
    "<div class=\"alert alert-success\">\n",
    "<h2> Комментарий ревьюера </h2>\n",
    "    \n",
    "Расчёты по метрикам проведены верно. Приоритезация гипотез тоже правильная. Различие между метриками подчёркнуто верно. Молодец :)\n",
    "    \n",
    "Ещё здесь можно было отметить, что первая пятёрка гипотез по обоим методам одинакова :)\n",
    "    \n",
    "</div>"
   ]
  },
  {
   "cell_type": "markdown",
   "metadata": {},
   "source": [
    "### Шаг 2. Анализ A/B-теста"
   ]
  },
  {
   "cell_type": "markdown",
   "metadata": {},
   "source": [
    "Проверим, нет ли в группе пользователей, которые входили в обе группы, дабы тес можно было считать валидным:"
   ]
  },
  {
   "cell_type": "code",
   "execution_count": 6,
   "metadata": {},
   "outputs": [
    {
     "data": {
      "text/html": [
       "<div>\n",
       "<style scoped>\n",
       "    .dataframe tbody tr th:only-of-type {\n",
       "        vertical-align: middle;\n",
       "    }\n",
       "\n",
       "    .dataframe tbody tr th {\n",
       "        vertical-align: top;\n",
       "    }\n",
       "\n",
       "    .dataframe thead th {\n",
       "        text-align: right;\n",
       "    }\n",
       "</style>\n",
       "<table border=\"1\" class=\"dataframe\">\n",
       "  <thead>\n",
       "    <tr style=\"text-align: right;\">\n",
       "      <th></th>\n",
       "      <th>visitorId</th>\n",
       "      <th>group</th>\n",
       "      <th>group_duplication</th>\n",
       "    </tr>\n",
       "  </thead>\n",
       "  <tbody>\n",
       "    <tr>\n",
       "      <td>0</td>\n",
       "      <td>3062433592</td>\n",
       "      <td>BBBAB</td>\n",
       "      <td>Yes</td>\n",
       "    </tr>\n",
       "    <tr>\n",
       "      <td>558</td>\n",
       "      <td>1230306981</td>\n",
       "      <td>ABBAA</td>\n",
       "      <td>Yes</td>\n",
       "    </tr>\n",
       "    <tr>\n",
       "      <td>565</td>\n",
       "      <td>2927087541</td>\n",
       "      <td>AB</td>\n",
       "      <td>Yes</td>\n",
       "    </tr>\n",
       "    <tr>\n",
       "      <td>564</td>\n",
       "      <td>2954449915</td>\n",
       "      <td>AB</td>\n",
       "      <td>Yes</td>\n",
       "    </tr>\n",
       "    <tr>\n",
       "      <td>563</td>\n",
       "      <td>3766097110</td>\n",
       "      <td>AB</td>\n",
       "      <td>Yes</td>\n",
       "    </tr>\n",
       "  </tbody>\n",
       "</table>\n",
       "</div>"
      ],
      "text/plain": [
       "      visitorId  group group_duplication\n",
       "0    3062433592  BBBAB  Yes             \n",
       "558  1230306981  ABBAA  Yes             \n",
       "565  2927087541  AB     Yes             \n",
       "564  2954449915  AB     Yes             \n",
       "563  3766097110  AB     Yes             "
      ]
     },
     "metadata": {},
     "output_type": "display_data"
    },
    {
     "name": "stdout",
     "output_type": "stream",
     "text": [
      "No     528\n",
      "Yes    58 \n",
      "Name: group_duplication, dtype: int64\n"
     ]
    }
   ],
   "source": [
    "orders_dup_check = orders.groupby('visitorId').agg({'group':'sum'}).sort_values(by='group', ascending=False).reset_index()\n",
    "dup_list = [] #список ID пользоваталей, которые поучаствовали и в контрольной и в тестовой группе\n",
    "\n",
    "def duplication(data):\n",
    "    if ('A') in data['group']:\n",
    "        if ('B') in data['group']:\n",
    "            dup_list.append(data['visitorId'])\n",
    "            return 'Yes'\n",
    "    else:\n",
    "        return 'No'\n",
    "\n",
    "orders_dup_check['group_duplication'] = orders_dup_check.apply(duplication, axis=1)\n",
    "\n",
    "display(orders_dup_check.sort_values(by='group_duplication', ascending=False).head(5))\n",
    "print(orders_dup_check['group_duplication'].value_counts())"
   ]
  },
  {
   "cell_type": "markdown",
   "metadata": {},
   "source": [
    "Как видно из анализа, это существенная группа пользователей, которая может значительно повлиять на тест гипотезы. В связи с чем необходимо отфильтровать данные за вычетом данных пользователей:"
   ]
  },
  {
   "cell_type": "markdown",
   "metadata": {},
   "source": [
    "<div class=\"alert alert-success\">\n",
    "<h2> Комментарий ревьюера </h2>\n",
    "    \n",
    "Отлично, что делаешь такую проверку! Метод duplication() написан верно, но можно было иначе использовать условный опреатор if. Вместо двух проверок подряд можно было написать одну: if ('A') in data['group'] and ('B') in data['group'].\n",
    "    \n",
    "</div>"
   ]
  },
  {
   "cell_type": "code",
   "execution_count": 7,
   "metadata": {},
   "outputs": [
    {
     "name": "stdout",
     "output_type": "stream",
     "text": [
      "<class 'pandas.core.frame.DataFrame'>\n",
      "Int64Index: 1016 entries, 0 to 1196\n",
      "Data columns (total 5 columns):\n",
      "transactionId    1016 non-null int64\n",
      "visitorId        1016 non-null int64\n",
      "date             1016 non-null object\n",
      "revenue          1016 non-null int64\n",
      "group            1016 non-null object\n",
      "dtypes: int64(3), object(2)\n",
      "memory usage: 47.6+ KB\n",
      "None\n"
     ]
    }
   ],
   "source": [
    "orders_wo_dup = orders.query('visitorId not in @dup_list')\n",
    "print(orders_wo_dup.info())"
   ]
  },
  {
   "cell_type": "markdown",
   "metadata": {},
   "source": [
    "Избавились от ~180 строк или ~17% данных. Теперь данные для анализа гипотез можно считать корректными. Приступаем к анализу, подготаливаем данные для расчетов и визуализации"
   ]
  },
  {
   "cell_type": "markdown",
   "metadata": {},
   "source": [
    "<div class=\"alert alert-warning\">\n",
    "<h2> Комментарий ревьюера </h2>\n",
    "    \n",
    "В код ниже стоит добавить комментарии, чтобы работа стала более понятной и прозрачной :)\n",
    "    \n",
    "</div>"
   ]
  },
  {
   "cell_type": "markdown",
   "metadata": {},
   "source": [
    "<div class=\"alert alert-info\">\n",
    "<h2> Комментарий студента </h2>\n",
    "\n",
    "Добавляем комментарии: \n",
    "Считаем куммулятивные данные для построения графиков"
   ]
  },
  {
   "cell_type": "markdown",
   "metadata": {},
   "source": [
    "<div class=\"alert alert-warning\">\n",
    "<h2> Комментарий ревьюера v2</h2>\n",
    "    \n",
    "Всё-таки было бы хорошо прокомментировать через # промежуточные этапы внутри ячейки с кодом. Для стороннего наблюдателя это может быть неочевидным. Нам же надо старался делать свою работу так, чтобы она была понятно коллеге / клиенту, которые не вникали в неё  процессе.\n",
    "    \n",
    "</div>"
   ]
  },
  {
   "cell_type": "markdown",
   "metadata": {},
   "source": [
    "<div class=\"alert alert-info\">\n",
    "<h2> Комментарий студента </h2>\n",
    "\n",
    "Добавлено"
   ]
  },
  {
   "cell_type": "markdown",
   "metadata": {},
   "source": [
    "<div class=\"alert alert-success\">\n",
    "<h2> Комментарий ревьюера v3</h2>\n",
    "    \n",
    "Отлично :)\n",
    "    \n",
    "</div>"
   ]
  },
  {
   "cell_type": "code",
   "execution_count": 8,
   "metadata": {},
   "outputs": [
    {
     "name": "stderr",
     "output_type": "stream",
     "text": [
      "/opt/conda/lib/python3.7/site-packages/ipykernel_launcher.py:1: SettingWithCopyWarning: \n",
      "A value is trying to be set on a copy of a slice from a DataFrame.\n",
      "Try using .loc[row_indexer,col_indexer] = value instead\n",
      "\n",
      "See the caveats in the documentation: http://pandas.pydata.org/pandas-docs/stable/user_guide/indexing.html#returning-a-view-versus-a-copy\n",
      "  \"\"\"Entry point for launching an IPython kernel.\n"
     ]
    }
   ],
   "source": [
    "orders_wo_dup['date'] = pd.to_datetime(orders_wo_dup['date'], format='%Y-%m-%d')\n",
    "visitors['date'] = pd.to_datetime(visitors['date'], format='%Y-%m-%d')\n",
    "\n",
    "#Создаем массив по периодам теста для групп\n",
    "datesGroups  = orders_wo_dup.loc[:,['group', 'date']].drop_duplicates()\n",
    "\n",
    "#Создаем массив куммулятивных данных по дням по заказам\n",
    "ordersAggregated = datesGroups.apply(\n",
    "lambda x: orders_wo_dup[np.logical_and(orders_wo_dup['date'] <= x['date'], \n",
    "                                       orders_wo_dup['group'] == x['group'])].agg({'date' : 'max',\n",
    "                                                                                   'group' : 'max',\n",
    "                                                                                   'transactionId' : 'nunique',\n",
    "                                                                                   'visitorId' : 'nunique',\n",
    "                                                                                   'revenue' : 'sum'}), \n",
    "                                        axis=1).sort_values(by=['date','group'])\n",
    "\n",
    "#Создаем массив куммулятивных данных по дням по визитам\n",
    "visitorsAggregated = datesGroups.apply(lambda x: visitors[np.logical_and(visitors['date'] <= x['date'], \n",
    "                                                                         visitors['group'] == x['group'])].agg({'date' : 'max', \n",
    "                                                                                                                'group' : 'max', \n",
    "                                                                                                                'visitors' : 'sum'}), \n",
    "                                       axis=1).sort_values(by=['date','group'])\n",
    "\n",
    "#Создаем общий массив куммулятивных данных по дням\n",
    "cumulativeData = ordersAggregated.merge(visitorsAggregated, left_on=['date', 'group'], right_on=['date', 'group'])\n",
    "cumulativeData.columns = ['date', 'group', 'orders', 'buyers', 'revenue', 'visitors']"
   ]
  },
  {
   "cell_type": "markdown",
   "metadata": {},
   "source": [
    "<div class=\"alert alert-success\">\n",
    "<h2> Комментарий ревьюера </h2>\n",
    "    \n",
    "Данные для построения графиков подготовлены верно. Отлично :)\n",
    "    \n",
    "А ещё подобного рода вычисления можно сделать при помощи метода cumsum(), которые есть в пакете pandas. Этот метот используется для расчёта кумулятивных сумм, обрати на него внимание :)\n",
    "    \n",
    "Обрати внимание на предупреждение. Чтобы оно не появлялось, в сточках с преобразованием даты лучше обращаться к данным через .loc(). Например, вот так у меня отработано без предупреждения: orders_wo_dup.loc[:, 'date'] = pd.to_datetime(orders_wo_dup['date'], format='%Y-%m-%d').\n",
    "\n",
    "</div>"
   ]
  },
  {
   "cell_type": "markdown",
   "metadata": {},
   "source": [
    "<em style=\"color:#0015f0\"> Строим график куммулятивной выручки по группам</m>"
   ]
  },
  {
   "cell_type": "code",
   "execution_count": 9,
   "metadata": {},
   "outputs": [
    {
     "data": {
      "text/plain": [
       "<matplotlib.legend.Legend at 0x7f27f3c95950>"
      ]
     },
     "execution_count": 9,
     "metadata": {},
     "output_type": "execute_result"
    },
    {
     "data": {
      "image/png": "[encoded data removed]",
      "text/plain": [
       "<Figure size 432x288 with 1 Axes>"
      ]
     },
     "metadata": {
      "needs_background": "light"
     },
     "output_type": "display_data"
    }
   ],
   "source": [
    "cumulativeRevenueA = cumulativeData[cumulativeData['group']=='A'][['date','revenue', 'orders']]\n",
    "cumulativeRevenueB = cumulativeData[cumulativeData['group']=='B'][['date','revenue', 'orders']]\n",
    "\n",
    "from pandas.plotting import register_matplotlib_converters\n",
    "register_matplotlib_converters()\n",
    "\n",
    "plt.plot(cumulativeRevenueA['date'], cumulativeRevenueA['revenue'], label='A')\n",
    "plt.plot(cumulativeRevenueB['date'], cumulativeRevenueB['revenue'], label='B')\n",
    "plt.title('Куммулятивная выручка по группа по дням')\n",
    "plt.xticks(rotation=30)\n",
    "plt.grid(axis='x',linestyle=':')\n",
    "plt.legend()"
   ]
  },
  {
   "cell_type": "markdown",
   "metadata": {},
   "source": [
    "<div class=\"alert alert-success\">\n",
    "<h2> Комментарий ревьюера </h2>\n",
    "    \n",
    "Обрати внимание на предупреждение, которое появилось при построение графика. Чтобы его избежать нужно добавить следующие строчки перед построением:\n",
    "    \n",
    "- from pandas.plotting import register_matplotlib_converters\n",
    "- register_matplotlib_converters()\n",
    "    \n",
    "На данный момент, это не обязательно, код отработает и без них. Но в будущих версиях, когда будет необходимость вызвать конвертер типов данных, эти строчки будут обязательны.\n",
    "    \n",
    "</div>"
   ]
  },
  {
   "cell_type": "markdown",
   "metadata": {},
   "source": [
    "<div class=\"alert alert-info\">\n",
    "<h2> Комментарий студента </h2>\n",
    "\n",
    "Спасибо!"
   ]
  },
  {
   "cell_type": "markdown",
   "metadata": {},
   "source": [
    "<strong style=\"font-size: 13pt\">Вывод: </strong>\n",
    "<p> До ~18.08.2019 выручка росла с перепадами в пользу группы 'B'. После этой даты в оден день случился резкий скачок и группа 'B' значительно вырвалась вперед примерно в 2 раза. Предполагается, что на эту дату пришелся выброс - крупный заказ от пользвателя / ограниченного числа пользователей</p>"
   ]
  },
  {
   "cell_type": "markdown",
   "metadata": {},
   "source": [
    "<div class=\"alert alert-warning\">\n",
    "<h2> Комментарий ревьюера </h2>\n",
    "    \n",
    "График построен верно. А вот к выводу есть вопросы. Не понятно, как читались 10% и что они значат. Можно подробнее, что тут имелось в виду? И что значит ~х2.\n",
    "    \n",
    "</div>"
   ]
  },
  {
   "cell_type": "markdown",
   "metadata": {},
   "source": [
    "<div class=\"alert alert-info\">\n",
    "<h2> Комментарий студента </h2>\n",
    "\n",
    "~10% - отклонение кумм. выручки групп друг от друга на разные периоды времени до аномального скачка\n",
    "    \n",
    "~x2 - разница кумм. суммы группы 'B' по сравнению с группой 'A' после аномальной покупки\n",
    "    \n",
    "считалось все из графика, поэтому везде отношения примерны"
   ]
  },
  {
   "cell_type": "markdown",
   "metadata": {},
   "source": [
    "<div class=\"alert alert-warning\">\n",
    "<h2> Комментарий ревьюера v2</h2>\n",
    "    \n",
    "Лучше или приводить расчёты, или писать только те числа, которые очевидны на глаз. Иначе не совсем понятно, откуда они берутся. Также обозначение ~x2 не понятно всё-равно. Имеется в виду \"приблизительно в два раза\"? Можно прочитать это и как \"икс два\". Не стоит употреблять такие сокращение. Лучше писать всё так, чтобы было понятно каждому :)\n",
    "    \n",
    "</div>"
   ]
  },
  {
   "cell_type": "markdown",
   "metadata": {},
   "source": [
    "<div class=\"alert alert-info\">\n",
    "<h2> Комментарий студента </h2>\n",
    "\n",
    "Поправлено"
   ]
  },
  {
   "cell_type": "markdown",
   "metadata": {},
   "source": [
    "<div class=\"alert alert-success\">\n",
    "<h2> Комментарий ревьюера v4</h2>\n",
    "    \n",
    "Отлично :)\n",
    "    \n",
    "</div>"
   ]
  },
  {
   "cell_type": "markdown",
   "metadata": {},
   "source": [
    "<em style=\"color:#0015f0\"> Строим график куммулятивного среднего чека по группам</m>"
   ]
  },
  {
   "cell_type": "code",
   "execution_count": 10,
   "metadata": {},
   "outputs": [
    {
     "data": {
      "text/plain": [
       "<matplotlib.legend.Legend at 0x7f27f3c9b350>"
      ]
     },
     "execution_count": 10,
     "metadata": {},
     "output_type": "execute_result"
    },
    {
     "data": {
      "image/png": "[encoded data removed]",
      "text/plain": [
       "<Figure size 432x288 with 1 Axes>"
      ]
     },
     "metadata": {
      "needs_background": "light"
     },
     "output_type": "display_data"
    }
   ],
   "source": [
    "plt.plot(cumulativeRevenueA['date'], cumulativeRevenueA['revenue']/cumulativeRevenueA['orders'], label='A')\n",
    "plt.plot(cumulativeRevenueB['date'], cumulativeRevenueB['revenue']/cumulativeRevenueB['orders'], label='B')\n",
    "plt.title('Куммулятивный средний чек по дням')\n",
    "plt.xticks(rotation=30)\n",
    "plt.grid(axis='x',linestyle=':')\n",
    "plt.legend()"
   ]
  },
  {
   "cell_type": "markdown",
   "metadata": {},
   "source": [
    "<strong style=\"font-size: 13pt\">Вывод: </strong>\n",
    "<p> Средний чек колебался не так очевидно, как средняя выручка и в период ~11.09 - 17.09 группа 'B' слегка больше набирала чек. В тот же день ~18.09 произошел всплеск данных, что значительно подняло чек группы 'В' ~2 раза. В дальнейшем наблюдается стремление среднего чека группы 'В' к чеку группы 'Ф', что как раз-таки аргументирует в пользу временного всплеска выручки - аномалией. Необходимо в дальнейшем очистить данные от выбросов и посмотреть на получаемые результаты заново</p>"
   ]
  },
  {
   "cell_type": "markdown",
   "metadata": {},
   "source": [
    "<div class=\"alert alert-success\">\n",
    "<h2> Комментарий ревьюера </h2>\n",
    "    \n",
    "В целом вывод по графику верный. Отлично :) Действительно, такой большой всплеск должен быть устранён при фильтрации аномалий. Ты верно упоминаешь это.\n",
    "    \n",
    "</div>"
   ]
  },
  {
   "cell_type": "markdown",
   "metadata": {},
   "source": [
    "<div class=\"alert alert-warning\">\n",
    "<h2> Комментарий ревьюера </h2>\n",
    "    \n",
    "Лучше не использвоать неочевидные сокращения типа ~x2. Давай словами? :)\n",
    "    \n",
    "</div>"
   ]
  },
  {
   "cell_type": "markdown",
   "metadata": {},
   "source": [
    "<div class=\"alert alert-info\">\n",
    "<h2> Комментарий студента </h2>\n",
    "\n",
    "Поправлено, но все еще на свой лад)"
   ]
  },
  {
   "cell_type": "markdown",
   "metadata": {},
   "source": [
    "<div class=\"alert alert-success\">\n",
    "<h2> Комментарий ревьюера v2</h2>\n",
    "    \n",
    "Так лучше :)\n",
    "    \n",
    "</div>"
   ]
  },
  {
   "cell_type": "markdown",
   "metadata": {},
   "source": [
    "<em style=\"color:#0015f0\"> Строим график относительного изменения кумулятивного среднего чека группы B к группе A</m>"
   ]
  },
  {
   "cell_type": "code",
   "execution_count": 11,
   "metadata": {},
   "outputs": [
    {
     "data": {
      "image/png": "[encoded data removed]",
      "text/plain": [
       "<Figure size 432x288 with 1 Axes>"
      ]
     },
     "metadata": {
      "needs_background": "light"
     },
     "output_type": "display_data"
    }
   ],
   "source": [
    "mergedCumulativeRevenue = cumulativeRevenueA.merge(cumulativeRevenueB, left_on='date', right_on='date', how='left', \n",
    "                                                   suffixes=['A', 'B'])\n",
    "\n",
    "plt.plot(mergedCumulativeRevenue['date'], (mergedCumulativeRevenue['revenueB']/mergedCumulativeRevenue['ordersB'])/\n",
    "         (mergedCumulativeRevenue['revenueA']/mergedCumulativeRevenue['ordersA'])-1)\n",
    "plt.title('Относительное изменения среднего чека по группам в пользу группы \"В\"')\n",
    "plt.axhline(y=0, color='black', linestyle='--')\n",
    "plt.xticks(rotation=30)\n",
    "plt.grid(axis='x',linestyle=':')"
   ]
  },
  {
   "cell_type": "markdown",
   "metadata": {},
   "source": [
    "<strong style=\"font-size: 13pt\">Вывод: </strong>\n",
    "<p> Более очевидный график, который показывает преобладание на первой неделе чека у группы 'В', но в дальнейшем данные начали выравниваться с группой 'B'. ~18.09 скачок и дальнейший возврат к паритету</p>"
   ]
  },
  {
   "cell_type": "markdown",
   "metadata": {},
   "source": [
    "<div class=\"alert alert-success\">\n",
    "<h2> Комментарий ревьюера </h2>\n",
    "    \n",
    "График построен верно. Здорово, что на рисунке ещё отмечено значение, с которым стоит сравнивать основной график, чтобы сделать выводы. Молодец :)\n",
    "    \n",
    "</div>"
   ]
  },
  {
   "cell_type": "markdown",
   "metadata": {},
   "source": [
    "<em style=\"color:#0015f0\"> Строим график кумулятивной конверсии по группам</m>"
   ]
  },
  {
   "cell_type": "code",
   "execution_count": 12,
   "metadata": {},
   "outputs": [
    {
     "data": {
      "text/plain": [
       "<matplotlib.legend.Legend at 0x7f27f3489090>"
      ]
     },
     "execution_count": 12,
     "metadata": {},
     "output_type": "execute_result"
    },
    {
     "data": {
      "image/png": "[encoded data removed]",
      "text/plain": [
       "<Figure size 432x288 with 1 Axes>"
      ]
     },
     "metadata": {
      "needs_background": "light"
     },
     "output_type": "display_data"
    }
   ],
   "source": [
    "cumulativeData['conversion'] = cumulativeData['orders']/cumulativeData['visitors']\n",
    "\n",
    "cumulativeDataA = cumulativeData[cumulativeData['group']=='A']\n",
    "cumulativeDataB = cumulativeData[cumulativeData['group']=='B']\n",
    "\n",
    "plt.plot(cumulativeDataA['date'], cumulativeDataA['conversion'], label='A')\n",
    "plt.plot(cumulativeDataB['date'], cumulativeDataB['conversion'], label='B')\n",
    "plt.title('Куммулятивная конверсия по группам по дням')\n",
    "plt.xticks(rotation=30)\n",
    "plt.grid(axis='x',linestyle=':')\n",
    "plt.legend()"
   ]
  },
  {
   "cell_type": "markdown",
   "metadata": {},
   "source": [
    "<strong style=\"font-size: 13pt\">Вывод: </strong>\n",
    "<p> В данном случае график очевидно говорит в пользу группы 'В' и  визуально  значительно на него не сказались какие либо выбросы</p>"
   ]
  },
  {
   "cell_type": "markdown",
   "metadata": {},
   "source": [
    "<div class=\"alert alert-success\">\n",
    "<h2> Комментарий ревьюера </h2>\n",
    "    \n",
    "Вывод по графику верный. Отлично :) Ещё здесь можно было сделать вывод о том, стабилизировались конверсии или нет.\n",
    "</div>"
   ]
  },
  {
   "cell_type": "markdown",
   "metadata": {},
   "source": [
    "<em style=\"color:#0015f0\"> Строим график относительного изменения кумулятивной конверсии группы B к группе A</m>"
   ]
  },
  {
   "cell_type": "code",
   "execution_count": 13,
   "metadata": {},
   "outputs": [
    {
     "data": {
      "image/png": "[encoded data removed]",
      "text/plain": [
       "<Figure size 432x288 with 1 Axes>"
      ]
     },
     "metadata": {
      "needs_background": "light"
     },
     "output_type": "display_data"
    }
   ],
   "source": [
    "mergedCumulativeConversions = cumulativeDataA[['date','conversion']].merge(cumulativeDataB[['date','conversion']], \n",
    "                                                left_on='date', right_on='date', how='left', suffixes=['A', 'B'])\n",
    "\n",
    "plt.plot(mergedCumulativeConversions['date'], mergedCumulativeConversions['conversionB']/mergedCumulativeConversions['conversionA']-1)\n",
    "plt.title('Относительное изменение куммулятивной конверсии в пользу группы \"В\"')\n",
    "plt.axhline(y=0, color='black', linestyle='--')\n",
    "plt.axhline(y=0.14, color='grey', linestyle='--')\n",
    "plt.axhline(y=0.19, color='grey', linestyle='--')\n",
    "plt.xticks(rotation=30)\n",
    "plt.grid(axis='x',linestyle=':')"
   ]
  },
  {
   "cell_type": "markdown",
   "metadata": {},
   "source": [
    "<strong style=\"font-size: 13pt\">Вывод: </strong>\n",
    "<p> Подтверждается вывод из прошлого графика, что у группы 'В конверсия достаточно стабильна. После выхода на примелимый объем данных отношение конверсий колеблится в корридоре 14%-19% в пользу группы 'B' </p>"
   ]
  },
  {
   "cell_type": "markdown",
   "metadata": {},
   "source": [
    "<div class=\"alert alert-success\">\n",
    "<h2> Комментарий ревьюера </h2>\n",
    "    \n",
    "Классно, что на графике отмечены те значения, которые ты упоминаешь в выводе :)\n",
    "    \n",
    "</div>"
   ]
  },
  {
   "cell_type": "markdown",
   "metadata": {},
   "source": [
    "<div class=\"alert alert-warning\">\n",
    "<h2> Комментарий ревьюера </h2>\n",
    "    \n",
    "Смущает формулировка \"конверсия колеблится в корридоре 0.14 - 0.19\". Это разве график конверсии? Это конверсия на колеблется? Или всё таки отношение конверсий?\n",
    "    \n",
    "</div>"
   ]
  },
  {
   "cell_type": "markdown",
   "metadata": {},
   "source": [
    "<div class=\"alert alert-info\">\n",
    "<h2> Комментарий студента </h2>\n",
    "\n",
    "Да, все верно, спасибо. Поправлено"
   ]
  },
  {
   "cell_type": "markdown",
   "metadata": {},
   "source": [
    "<div class=\"alert alert-success\">\n",
    "<h2> Комментарий ревьюера v2</h2>\n",
    "    \n",
    "Отлично :)\n",
    "    \n",
    "</div>"
   ]
  },
  {
   "cell_type": "markdown",
   "metadata": {},
   "source": [
    "<em style=\"color:#0015f0\"> Строим точечный график количества заказов по пользователям</m>"
   ]
  },
  {
   "cell_type": "code",
   "execution_count": 14,
   "metadata": {},
   "outputs": [
    {
     "data": {
      "image/png": "[encoded data removed]",
      "text/plain": [
       "<Figure size 1080x216 with 1 Axes>"
      ]
     },
     "metadata": {
      "needs_background": "light"
     },
     "output_type": "display_data"
    },
    {
     "data": {
      "text/plain": [
       "(0, 50)"
      ]
     },
     "execution_count": 14,
     "metadata": {},
     "output_type": "execute_result"
    },
    {
     "data": {
      "image/png": "[encoded data removed]",
      "text/plain": [
       "<Figure size 1080x216 with 1 Axes>"
      ]
     },
     "metadata": {
      "needs_background": "light"
     },
     "output_type": "display_data"
    }
   ],
   "source": [
    "orders_data = orders_wo_dup.groupby(['visitorId']).agg({'transactionId':'count'}).sort_values(by='transactionId', \n",
    "                                                                                               ascending=False)\n",
    "\n",
    "#fig, (ax1, ax2) = plt.subplots(1,2, sharex=True, figsize=(17,5))\n",
    "plt.subplots(figsize=(15,3))\n",
    "plt.scatter(range(0,len(orders_data['transactionId'])), orders_data['transactionId'])\n",
    "plt.title('Количество покупок на пользователя', fontdict={'fontsize':'15'})\n",
    "plt.yticks(np.arange(0, 3.2, step=1))\n",
    "plt.grid(axis='x',linestyle=':')\n",
    "plt.show()\n",
    "\n",
    "\n",
    "plt.subplots(figsize=(15,3))\n",
    "plt.scatter(range(0,len(orders_data['transactionId'])), orders_data['transactionId'])\n",
    "plt.title('Количество покупок на пользователя в срезе 0 - 50 пользователей с сортировкой по количеству покупок',fontdict={'fontsize':'15'})\n",
    "plt.yticks(np.arange(0, 3.2, step=1))\n",
    "plt.xlim(0, 50)"
   ]
  },
  {
   "cell_type": "markdown",
   "metadata": {},
   "source": [
    "<strong style=\"font-size: 13pt\">Вывод: </strong>\n",
    "<p> Из имеющегося объема данных лишь малая часть заказывала больше одного раза ~35 пользователей. Скорее всего мы останемся в рамках 1 заказа на пользователя</p>"
   ]
  },
  {
   "cell_type": "markdown",
   "metadata": {},
   "source": [
    "<div class=\"alert alert-warning\">\n",
    "<h2> Комментарий ревьюера </h2>\n",
    "    \n",
    "По графику выглядит так, что \"точек\" для двух заказов больше, чем для одного. Кажется, неочень здорово ограничить значения по оси X. Так твои выводы выглядят необоснованными. \n",
    "    \n",
    "И хотелось вы увидеть, как рассчитано, что больше одного раза заказывают ~35 пользователей? Цифры в выодах должны быть подкреплены расчётами.\n",
    "    \n",
    "</div>"
   ]
  },
  {
   "cell_type": "markdown",
   "metadata": {},
   "source": [
    "<div class=\"alert alert-info\">\n",
    "<h2> Комментарий студента </h2>\n",
    "\n",
    "Исправлено:\n",
    "- Добавлен график для всех пользователей\n",
    "    \n",
    "Как рассчитано? - график отсортирован по убыванию, поэтому на срезе 0-50 можно легко посчитать количество пользователей"
   ]
  },
  {
   "cell_type": "markdown",
   "metadata": {},
   "source": [
    "<div class=\"alert alert-success\">\n",
    "<h2> Комментарий ревьюера v2</h2>\n",
    "    \n",
    "Было бы хорошо, так и добавить в вывод \"Из имеющегося объема данных лишь малая часть заказывала больше одного раза: ~35 пользователей. Это видно по графику, где отображено 50 пользователей. Сортировка идёт по убыванию, поэтому все пользователи с 2мя и 3мя заказами располгаются в одном месте (по оси X до 35)\".\n",
    "    \n",
    "</div>"
   ]
  },
  {
   "cell_type": "markdown",
   "metadata": {},
   "source": [
    "<em style=\"color:#0015f0\"> Убираем аномальных пользователей на основании числа покупок</m>"
   ]
  },
  {
   "cell_type": "code",
   "execution_count": 15,
   "metadata": {},
   "outputs": [
    {
     "name": "stdout",
     "output_type": "stream",
     "text": [
      "[1. 2.]\n"
     ]
    }
   ],
   "source": [
    "print(np.percentile(orders_data['transactionId'], [95,99]))\n",
    "\n",
    "to_order_list = orders_data[orders_data['transactionId'] >1].reset_index()\n",
    "order_list_to_delete = to_order_list['visitorId'].tolist()\n",
    "orders_filtered = orders_wo_dup.query('visitorId not in @order_list_to_delete') #Создаем новый список, исключая все аномалии"
   ]
  },
  {
   "cell_type": "markdown",
   "metadata": {},
   "source": [
    "<strong style=\"font-size: 13pt\">Вывод: </strong>\n",
    "<p>За основу возьмем 95-персентиль и пользователей, которые совершали всего одну покупку</p>"
   ]
  },
  {
   "cell_type": "markdown",
   "metadata": {},
   "source": [
    "<div class=\"alert alert-success\">\n",
    "<h2> Комментарий ревьюера </h2>\n",
    "    \n",
    "Выбор границы для аномалий уместный. Фльтрация проведена корректно :) Супер!\n",
    "    \n",
    "</div>"
   ]
  },
  {
   "cell_type": "markdown",
   "metadata": {},
   "source": [
    "<div class=\"alert alert-warning\">\n",
    "<h2> Комментарий ревьюера </h2>\n",
    "    \n",
    "Обрати внимание, что тут мы говорим про 95й перцентиль. Квартиль - это частный случай перцентиля (25%, 50%, 75%, 100%)\n",
    "    \n",
    "</div>"
   ]
  },
  {
   "cell_type": "markdown",
   "metadata": {},
   "source": [
    "<div class=\"alert alert-info\">\n",
    "<h2> Комментарий студента </h2>\n",
    "\n",
    "Да, это описка, спасибо. Я даже потом вспомнил эту ошибку, когда сдал работу)"
   ]
  },
  {
   "cell_type": "markdown",
   "metadata": {},
   "source": [
    "<div class=\"alert alert-success\">\n",
    "<h2> Комментарий ревьюера v2</h2>\n",
    "    \n",
    "Отлично, главное, что есть понимание, что же это значит :)\n",
    "    \n",
    "</div>"
   ]
  },
  {
   "cell_type": "markdown",
   "metadata": {},
   "source": [
    "<em style=\"color:#0015f0\"> Строим точечный график стоимостей заказов</m>"
   ]
  },
  {
   "cell_type": "code",
   "execution_count": 16,
   "metadata": {},
   "outputs": [
    {
     "data": {
      "image/png": "[encoded data removed]",
      "text/plain": [
       "<Figure size 1080x216 with 1 Axes>"
      ]
     },
     "metadata": {
      "needs_background": "light"
     },
     "output_type": "display_data"
    },
    {
     "data": {
      "text/plain": [
       "(0, 10)"
      ]
     },
     "execution_count": 16,
     "metadata": {},
     "output_type": "execute_result"
    },
    {
     "data": {
      "image/png": "[encoded data removed]",
      "text/plain": [
       "<Figure size 1080x216 with 1 Axes>"
      ]
     },
     "metadata": {
      "needs_background": "light"
     },
     "output_type": "display_data"
    }
   ],
   "source": [
    "revenue_data = orders_wo_dup.groupby(['visitorId']).agg({'revenue':'sum'}).sort_values(by='revenue', \n",
    "                                                                                               ascending=False)\n",
    "\n",
    "\n",
    "plt.subplots(figsize=(15,3))\n",
    "plt.scatter(range(0,len(revenue_data['revenue'])), revenue_data['revenue'])\n",
    "plt.title('Стоимость заказов',fontdict={'fontsize':'15'})\n",
    "plt.show()\n",
    "\n",
    "plt.subplots(figsize=(15,3))\n",
    "plt.scatter(range(0,len(revenue_data['revenue'])), revenue_data['revenue'])\n",
    "plt.title('Стоимость заказов в срезе наиболее крупных',fontdict={'fontsize':'15'})\n",
    "plt.grid(axis='x',linestyle=':')\n",
    "plt.xticks(np.arange(0, 1000, step=2))\n",
    "plt.xlim(0, 10)"
   ]
  },
  {
   "cell_type": "markdown",
   "metadata": {},
   "source": [
    "<strong style=\"font-size: 13pt\">Вывод: </strong>\n",
    "<p>На графике присутствует всего 1-2 аномалии. Предполагаем, что именно они прощошло с гуппой \"B\" в период ~18.09, при значительном росте кумм. выручки Средний чек по заказам достаточно высокий..</p>"
   ]
  },
  {
   "cell_type": "markdown",
   "metadata": {},
   "source": [
    "<div class=\"alert alert-success\">\n",
    "<h2> Комментарий ревьюера </h2>\n",
    "    \n",
    "Очень загадочный вывод получился :) Я конечно догадываюсь о чем ты, но давай всё-таки допишешь свою мысль явно? \n",
    "    \n",
    "Но больше меня настораживает график. Давай всё-таки ты уберешь ограничение по оси X. Иначе этот рисунок вообще не показательный :(\n",
    "    \n",
    "</div>"
   ]
  },
  {
   "cell_type": "markdown",
   "metadata": {},
   "source": [
    "<div class=\"alert alert-info\">\n",
    "<h2> Комментарий студента </h2>\n",
    "\n",
    "Поправлено"
   ]
  },
  {
   "cell_type": "markdown",
   "metadata": {},
   "source": [
    "<div class=\"alert alert-success\">\n",
    "<h2> Комментарий ревьюера v2</h2>\n",
    "    \n",
    "Здорово, что учёл комментарий! Кстати, здесь ещё можно было более детально посмотреть на общую ситуацию, ограничив значения по оси Y.\n",
    "    \n",
    "</div>"
   ]
  },
  {
   "cell_type": "markdown",
   "metadata": {},
   "source": [
    "<em style=\"color:#0015f0\"> Убираем аномальных пользователей на основании суммы покупки</m>"
   ]
  },
  {
   "cell_type": "code",
   "execution_count": 17,
   "metadata": {},
   "outputs": [
    {
     "name": "stdout",
     "output_type": "stream",
     "text": [
      "[28910. 59082.]\n"
     ]
    }
   ],
   "source": [
    "print(np.percentile(revenue_data['revenue'], [95,99]))\n",
    "\n",
    "to_revenue_list = revenue_data[revenue_data['revenue'] >= 28910].reset_index()\n",
    "revenue_list_to_delete = to_revenue_list['visitorId'].tolist()\n",
    "orders_filtered = orders_filtered.query('visitorId not in @revenue_list_to_delete') #основной массив с заказами после чистки выбросов"
   ]
  },
  {
   "cell_type": "markdown",
   "metadata": {},
   "source": [
    "<strong style=\"font-size: 13pt\">Вывод: </strong>\n",
    "<p>Возьмем 95-персентиль с заказами меньше 28К руб.</p>"
   ]
  },
  {
   "cell_type": "markdown",
   "metadata": {},
   "source": [
    "<div class=\"alert alert-success\">\n",
    "<h2> Комментарий ревьюера </h2>\n",
    "    \n",
    "Отлично, теперь пользователи полностью \"чисты\" от аномалий :)\n",
    "    \n",
    "</div>"
   ]
  },
  {
   "cell_type": "markdown",
   "metadata": {},
   "source": [
    "<div class=\"alert alert-warning\">\n",
    "<h2> Комментарий ревьюера </h2>\n",
    "    \n",
    "Тот же самый комментарий про квартиль, что и выше :)\n",
    "    \n",
    "</div>"
   ]
  },
  {
   "cell_type": "markdown",
   "metadata": {},
   "source": [
    "<div class=\"alert alert-info\">\n",
    "<h2> Комментарий студента </h2>\n",
    "\n",
    "Поправлено"
   ]
  },
  {
   "cell_type": "markdown",
   "metadata": {},
   "source": [
    "<em style=\"color:#0015f0\"> Считаем статистическую значимость различий в конверсии между группами по \"сырым\" и \"очищенным\" данным</m>"
   ]
  },
  {
   "cell_type": "markdown",
   "metadata": {},
   "source": [
    "##### Нулевая гипотеза: \n",
    "представленные средние по конверсиям у группы \"А\" и группы \"B\" равны\n",
    "##### Альтернативная гипотеза:\n",
    "представленные средние по конверсиям у группы \"А\" и группы \"B\" не равны\n",
    "\n",
    "Посчитаем p-value для конверсий по сырым и очищенным данным"
   ]
  },
  {
   "cell_type": "code",
   "execution_count": 18,
   "metadata": {},
   "outputs": [
    {
     "name": "stdout",
     "output_type": "stream",
     "text": [
      "P-value значение по конверсиям в группах до очистки данных:  0.0055\n",
      "Вывод: Отвергаем нулевую гипотезу: разница статистически значима\n",
      "Отношения конверсии группы 'B' и группы 'A' (B/A) до очистки данных: 0.16\n"
     ]
    }
   ],
   "source": [
    "#Сырые данные\n",
    "ordersByUsersA_raw = orders_wo_dup[orders_wo_dup['group']=='A'].groupby('visitorId', as_index=False).agg({'transactionId' : 'nunique'})\n",
    "ordersByUsersA_raw.columns = ['visitorId', 'transactions']\n",
    "\n",
    "sampleA_raw = pd.concat([ordersByUsersA_raw['transactions'],pd.Series(0, index=np.arange(visitors[visitors['group'] == 'A']['visitors'].sum() \n",
    "                                                                           - len(ordersByUsersA_raw['transactions'])), name='transactions')],axis=0)\n",
    "\n",
    "ordersByUsersB_raw = orders_wo_dup[orders_wo_dup['group']=='B'].groupby('visitorId', as_index=False).agg({'transactionId' : pd.Series.nunique})\n",
    "ordersByUsersB_raw.columns = ['visitorId', 'transactions']\n",
    "\n",
    "sampleB_raw = pd.concat([ordersByUsersB_raw['transactions'],pd.Series(0, index=np.arange(visitors[visitors['group'] == 'B']['visitors'].sum() \n",
    "                                                                           - len(ordersByUsersB_raw['transactions'])), name='transactions')],axis=0)\n",
    "\n",
    "alpha = 0.05\n",
    "\n",
    "results_raw = stats.mannwhitneyu(sampleB_raw, sampleA_raw)\n",
    "\n",
    "print(\"P-value значение по конверсиям в группах до очистки данных: \", results_raw.pvalue.round(4))\n",
    "\n",
    "if (results_raw.pvalue < alpha):\n",
    "    print(\"Вывод: Отвергаем нулевую гипотезу: разница статистически значима\")\n",
    "else:\n",
    "    print(\"Вывод: Не получилось отвергнуть нулевую гипотезу, вывод о различии сделать нельзя\")\n",
    "\n",
    "print(\"Отношения конверсии группы 'B' и группы 'A' (B/A) до очистки данных: {0:.2f}\".format(sampleB_raw.mean()/sampleA_raw.mean()-1))"
   ]
  },
  {
   "cell_type": "code",
   "execution_count": 19,
   "metadata": {},
   "outputs": [
    {
     "name": "stdout",
     "output_type": "stream",
     "text": [
      "P-value значение по конверсиям в группах после очистки данных:  0.0063\n",
      "Вывод: Отвергаем нулевую гипотезу: разница статистически значима\n",
      "Отношения конверсии группы 'B' и группы 'A' (B/A) после очистки данных:0.18\n"
     ]
    }
   ],
   "source": [
    "#Очищенные данные\n",
    "ordersByUsersA_filt = orders_filtered[orders_filtered['group']=='A'].groupby('visitorId', as_index=False).agg({'transactionId' : pd.Series.nunique})\n",
    "ordersByUsersA_filt.columns = ['visitorId', 'transactions']\n",
    "\n",
    "sampleA_filt = pd.concat([ordersByUsersA_filt['transactions'],pd.Series(0, index=np.arange(visitors[visitors['group'] == 'A']['visitors'].sum() \n",
    "                                                                           - len(ordersByUsersA_filt['transactions'])), name='transactions')],axis=0)\n",
    "\n",
    "ordersByUsersB_filt = orders_filtered[orders_filtered['group']=='B'].groupby('visitorId', as_index=False).agg({'transactionId' : pd.Series.nunique})\n",
    "ordersByUsersB_filt.columns = ['visitorId', 'transactions']\n",
    "\n",
    "sampleB_filt = pd.concat([ordersByUsersB_filt['transactions'],pd.Series(0, index=np.arange(visitors[visitors['group'] == 'B']['visitors'].sum() \n",
    "                                                                           - len(ordersByUsersB_filt['transactions'])), name='transactions')],axis=0)\n",
    "\n",
    "results_filt = stats.mannwhitneyu(sampleB_filt, sampleA_filt)\n",
    "\n",
    "print(\"P-value значение по конверсиям в группах после очистки данных: \", results_filt.pvalue.round(4))\n",
    "\n",
    "if (results_filt.pvalue < alpha):\n",
    "    print(\"Вывод: Отвергаем нулевую гипотезу: разница статистически значима\")\n",
    "else:\n",
    "    print(\"Вывод: Не получилось отвергнуть нулевую гипотезу, вывод о различии сделать нельзя\")\n",
    "\n",
    "print(\"Отношения конверсии группы 'B' и группы 'A' (B/A) после очистки данных:{0:.2f}\".format(sampleB_filt.mean()/sampleA_filt.mean()-1))"
   ]
  },
  {
   "cell_type": "markdown",
   "metadata": {},
   "source": [
    "<strong style=\"font-size: 13pt\">Вывод: </strong>\n",
    "<p> Нулевая гипотеза отвергнута. Что \"до\", что \"после\" в представленных данных присутсвует статистически значимое различие. После очистки от выбросов группа \"B\" показала результат даже еще лучше</p>"
   ]
  },
  {
   "cell_type": "markdown",
   "metadata": {},
   "source": [
    "<div class=\"alert alert-danger\">\n",
    "<h2> Комментарий ревьюера </h2>\n",
    "    \n",
    "Данные для тестирования подготовлены не верно.\n",
    "    \n",
    "В данном пункте важно провести тест на \"сырых\" и \"очищенных\" данных. То есть сначала мы проводим тест на данных, где аномалии ещё есть.\n",
    "    \n",
    "Если ты решаешь исключить из рассмотрения пользователей, которые входят в обе группы, то это стоит сделать и для очищенных, и для сырых данных. \n",
    "    \n",
    "Также важно при подготовке учесть тех пользователей, которые только посетили сайт, но ничего не купили.\n",
    "    \n",
    "Предлагаю тебе более подробно разобрать раздел в тренажёре по анализу результатов AB теста https://praktikum.yandex.ru/learn/data-analyst/courses/2bb03488-4558-4da8-a823-dcbb35e43d7c/sprints/317/topics/0981c10e-3269-4e1a-bc3c-be9b60feed94/lessons/30a339aa-3b49-410d-9c75-beac0680cce0/.\n",
    "    \n",
    "А ещё при проверке гипотез важно сформулировать нулевую и альтернативную гипотезу для каждого теста. Сделай это, пожалуйста, для полного понимания процесса :)\n",
    "</div>"
   ]
  },
  {
   "cell_type": "markdown",
   "metadata": {},
   "source": [
    "<div class=\"alert alert-info\">\n",
    "<h2> Комментарий студента </h2>\n",
    "\n",
    "Прости, возможно, за тупые вопросы, но...\n",
    "    \n",
    "<blockquote>Также важно при подготовке учесть тех пользователей, которые только посетили сайт, но ничего не купили.</blockquote>\n",
    "\n",
    "Так хорошо считалось, все испортила &#128522; Спасибо, некорректно понял метод анализа, исправил\n",
    "    \n",
    "<blockquote>Если ты решаешь исключить из рассмотрения пользователей, которые входят в обе группы, то это стоит сделать и для очищенных, и для сырых данных</blockquote>\n",
    "\n",
    "В данном случае оба массива - orders_filtered (который в свою очередь формируется из orders_wo_dup) и orders_wo_dup отфилтрованы по пользователям, которые не присутсвовали в обоих группах\n",
    "    \n",
    "<blockquote>А ещё при проверке гипотез важно сформулировать нулевую и альтернативную гипотезу для каждого теста. Сделай это, пожалуйста, для полного понимания процесса :) </blockquote>\n",
    "\n",
    "Добавлено"
   ]
  },
  {
   "cell_type": "markdown",
   "metadata": {},
   "source": [
    "<div class=\"alert alert-success\">\n",
    "<h2> Комментарий ревьюера v2</h2>\n",
    "    \n",
    "Прошу прощения, пересмотрела расчёты, этот комментарий был не уместен:\n",
    "    \n",
    "<blockquote>В данном пункте важно провести тест на \"сырых\" и \"очищенных\" данных. То есть сначала мы проводим тест на данных, где аномалии ещё есть.\n",
    "\n",
    "Если ты решаешь исключить из рассмотрения пользователей, которые входят в обе группы, то это стоит сделать и для очищенных, и для сырых данных.</blockquote>\n",
    "    \n",
    "Отлично, что ты подготовил данные, учитывая тех, кто ничего не купил. Тут всё ок :)\n",
    "    \n",
    "</div>"
   ]
  },
  {
   "cell_type": "markdown",
   "metadata": {},
   "source": [
    "<div class=\"alert alert-danger\">\n",
    "<h2> Комментарий ревьюера v2</h2>\n",
    "    \n",
    "Формулировки гипотез следует пересмотреть. Не понятно, что значит \"представленные массивы являются статистически значимыми\". Мы не проверяем насколько значимы массивы. Мы проверяем различие между данным с точки зрения средних. И тут важно правильно задать нулевую и альтернативную гипотезы: в какой мы считаем, что средние равны, а в какой нет. Измени, пожалуйста, формулировку. И гипотезы нужно написать для всех тестов, то есть для среднего чека тоже.\n",
    "    \n",
    "Также после твоих правок выводов очевидно стало ещё одно не понимание. Давай разбираться.\n",
    "    \n",
    "**Нулевая гипотеза** - всегда про **равенство**. Тут мы проверяем равенство средних двух выборок. То есть в одном случае - равенство конверсий, во втором - равенство средних чеков.\n",
    "    \n",
    "Также есть некие проблемы с интерпретацией. \n",
    "    \n",
    "- Мы **принимаем нулевую гипотезу**, если **p-value больше alpha**.\n",
    "- Мы **отвергаем нулевую гипотезу**, если **p-value меньше alpha**.\n",
    "    \n",
    "Пожалуйста, пересмотри выводы по тестам.   \n",
    "    \n",
    "</div>"
   ]
  },
  {
   "cell_type": "markdown",
   "metadata": {},
   "source": [
    "<div class=\"alert alert-info\">\n",
    "<h2> Комментарий студента </h2>\n",
    "\n",
    "Спасибо. Давай тогда так, скорректировал весь блок с гипотезами и выводами"
   ]
  },
  {
   "cell_type": "markdown",
   "metadata": {},
   "source": [
    "<em style=\"color:#0015f0\"> Считаем статистическую значимость различий в среднем чеке между группами по \"сырым\" и \"очищенным\" данным</m>"
   ]
  },
  {
   "cell_type": "markdown",
   "metadata": {},
   "source": [
    "##### Нулевая гипотеза: \n",
    "представленные средние по средним чекам у группы \"А\" и группы \"B\" равны\n",
    "##### Альтернативная гипотеза:\n",
    "представленные средние чекам у группы \"А\" и группы \"B\" не равны"
   ]
  },
  {
   "cell_type": "markdown",
   "metadata": {},
   "source": [
    "<div class=\"alert alert-warning\">\n",
    "<h2> Комментарий ревьюера v3</h2>\n",
    "    \n",
    "Не стоит писать \"средние по средним\". Равенство средних чеков мы проверяем через равенство средних двух выборок, содержаших чеки. Так что здесь лучше писать просто \"средние чеки\"\n",
    "    \n",
    "</div>"
   ]
  },
  {
   "cell_type": "markdown",
   "metadata": {},
   "source": [
    "<div class=\"alert alert-warning\">\n",
    "<h2> Комментарий ревьюера v4</h2>\n",
    "    \n",
    "Пересмотри ещё раз формулировки гипотез с точки зрения комментария выше :)\n",
    "    \n",
    "</div>"
   ]
  },
  {
   "cell_type": "code",
   "execution_count": 20,
   "metadata": {},
   "outputs": [
    {
     "name": "stdout",
     "output_type": "stream",
     "text": [
      "P-value по среднему чеку в группах до очистки данных -  0.415\n",
      "Вывод: Не получилось отвергнуть нулевую гипотезу, вывод о различии сделать нельзя\n",
      "Отношения средних чеков группы \"В\" и группы \"А\" до очистки данных: 0.78\n",
      "\n",
      " P-value по среднему чеку в группах после очистки данных -  0.418\n",
      "Вывод: Не получилось отвергнуть нулевую гипотезу, вывод о различии сделать нельзя\n",
      "Отношения средних чеков группы \"В\" и группы \"А\" после очистки данных: 1.01\n"
     ]
    }
   ],
   "source": [
    "results_filt_revenue = stats.mannwhitneyu(orders_filtered[orders_filtered['group'] == 'A']['revenue'], \n",
    "                                  orders_filtered[orders_filtered['group'] == 'B']['revenue'])\n",
    "\n",
    "\n",
    "results_revenue_raw = stats.mannwhitneyu(orders_wo_dup[orders_wo_dup['group'] == 'A']['revenue'], \n",
    "                                  orders_wo_dup[orders_wo_dup['group'] == 'B']['revenue'])\n",
    "#По сырым данным\n",
    "print('P-value по среднему чеку в группах до очистки данных - ', results_revenue_raw.pvalue.round(3))\n",
    "\n",
    "if (results_revenue_raw.pvalue < alpha):\n",
    "    print(\"Вывод: Отвергаем нулевую гипотезу: разница статистически значима\")\n",
    "else:\n",
    "    print(\"Вывод: Не получилось отвергнуть нулевую гипотезу, вывод о различии сделать нельзя\")\n",
    "\n",
    "print('Отношения средних чеков группы \"В\" и группы \"А\" до очистки данных: {:.2f}'.format(((orders_wo_dup[orders_wo_dup['group'] == 'A']['revenue'].sum()/\n",
    "                                    orders_wo_dup[orders_wo_dup['group'] == 'A']['transactionId'].count())/\n",
    "                                    (orders_wo_dup[orders_wo_dup['group'] == 'B']['revenue'].sum()/\n",
    "                                     orders_wo_dup[orders_wo_dup['group'] == 'B']['transactionId'].count())).round(3)))\n",
    "\n",
    "#По очищенным данным\n",
    "print('\\n P-value по среднему чеку в группах после очистки данных - ', results_filt_revenue.pvalue.round(3))\n",
    "\n",
    "if (results_filt_revenue.pvalue < alpha):\n",
    "    print(\"Вывод: Отвергаем нулевую гипотезу: разница статистически значима\")\n",
    "else:\n",
    "    print(\"Вывод: Не получилось отвергнуть нулевую гипотезу, вывод о различии сделать нельзя\")\n",
    "    \n",
    "\n",
    "print('Отношения средних чеков группы \"В\" и группы \"А\" после очистки данных: {:.2f}'.format(((orders_filtered[orders_filtered['group'] == 'A']['revenue'].sum()/\n",
    "                                    orders_filtered[orders_filtered['group'] == 'A']['transactionId'].count())/\n",
    "                                    (orders_filtered[orders_filtered['group'] == 'B']['revenue'].sum()/\n",
    "                                     orders_filtered[orders_filtered['group'] == 'B']['transactionId'].count())).round(3)))"
   ]
  },
  {
   "cell_type": "markdown",
   "metadata": {},
   "source": [
    "<strong style=\"font-size: 13pt\">Вывод: </strong>\n",
    "<p>Нулевая гипотеза принята в связи с  превышением порогового значение 0.05. Что \"до\", что \"после\" в представленных данных не наблюдается статистически значимых различий. После очистки от выбросов группа \"B\" сравнялась по результатам с группой \"A\" по соотношению стоимостей</p>"
   ]
  },
  {
   "cell_type": "markdown",
   "metadata": {},
   "source": [
    "<div class=\"alert alert-danger\">\n",
    "<h2> Комментарий ревьюера v3</h2>\n",
    "    \n",
    "Очевидно, что возникло непонимание. Нужно было пересмотреть выводы и гипотезы по всем тестам. И я ещё раз выделю:\n",
    "    \n",
    "- Мы **принимаем нулевую гипотезу**, если **p-value больше alpha**.\n",
    "- Мы **отвергаем нулевую гипотезу**, если **p-value меньше alpha**.\n",
    "    \n",
    "И давай, чтобы я убедилась полностью в твоём понимании. Напиши, пожалуйста, напрямую: Мы отвергаем / принимаем нулевую гипотезу, так как ... Следовательно, средние чеки групп A и B равны / не равны. У тебя получаются туманные формулировки, я не могу бть уверена, что ты разобрался с  этим вопросом. Текущие формулировки слишком неоднозначны. Лучше употреблять не \"данные являются статистически значимыми / не значимыми\", а \"имеется / отсутствует статистически значимое различие\" и \"следовательно средние у выборок равны / не равны\".\n",
    "    \n",
    "И, пожалуйста, сделай то же самое с выводом по конверсии.\n",
    "</div>"
   ]
  },
  {
   "cell_type": "markdown",
   "metadata": {},
   "source": [
    "<div class=\"alert alert-info\">\n",
    "<h2> Комментарий студента v.3: Формулирование выводов </h2>\n",
    "\n",
    "<strong>Конверсия:</strong>\n",
    "\n",
    "Мы отвергаем нулевую гипотезу о равенстве средних, т.к. p-value меньше критического уровня статистической значимости. Следовательно группы A и B не равны и в них имеется статистически значимое различие. Следовательно средние у выборок не равны.\n",
    "    \n",
    "\n",
    "<strong>Средний чек:</strong>\n",
    "\n",
    "Мы принимаем нулевую гипотезу о равнетстве средних, т.к. p-value больше критического уровня статистической значимости. Следовательно группы А и В равны и в них отсутствует статистически значимое различие. Следовательно средние у выборок равны"
   ]
  },
  {
   "cell_type": "markdown",
   "metadata": {},
   "source": [
    "<div class=\"alert alert-success\">\n",
    "<h2> Комментарий ревьюера v4</h2>\n",
    "    \n",
    "Уже намного лучше, но добавлю комментарии на будущее.\n",
    "    \n",
    "При проверке гипотезы ты не можешь говорить, что **выборки равны / не равны**. В данном тесте ты оценивешь **равенство средних**. Есть ещё и другие тесты, на равенство распределений и т.п. НО! **Выборки не могут быть равны / не равны** (разве что если все элементы в них одинаковые), не стоит так писать. \n",
    "    \n",
    "</div>"
   ]
  },
  {
   "cell_type": "markdown",
   "metadata": {},
   "source": [
    "### Шаг 3. Общий вывод по проведенному исследованию"
   ]
  },
  {
   "cell_type": "markdown",
   "metadata": {},
   "source": [
    "В ходе анализа было выявлено явное нарушение требования к исследованию - отсутствия пересечения аудитории. В будущем следует учесть этот факт и более тщательно сортировать сегменты для размещений\n",
    "\n",
    "<strong style=\"font-size: 13pt\">Результат теста: </strong>\n",
    "<p> Считаю, что тест можно остановить и признать успешным, т.к. достигнуты стабильные положительные результаты группы \"B\" по куммулятивному набору конверсий. В представленных данных по конверсиям существуют статистически значимые различия, которые позволяеют нам сделать вывод о сосоявшемся тесте в пользу группы 'B'. Данные по среднему чеку не являются статистически значимыми и не дают конкрентных вывод по преобладанию одной или второй группы</p>"
   ]
  },
  {
   "cell_type": "markdown",
   "metadata": {},
   "source": [
    "<div class=\"alert alert-warning\">\n",
    "<h2> Комментарий ревьюера </h2>\n",
    "    \n",
    "В выводе нужно более подробно указать те аргументы, которые ты используешь. Стоит рассмотреть не только результаты тестов, но и графики. Пока вывод выглядит довольно сухо.\n",
    "    \n",
    "</div>"
   ]
  },
  {
   "cell_type": "markdown",
   "metadata": {},
   "source": [
    "<div class=\"alert alert-info\">\n",
    "<h2> Комментарий студента </h2>\n",
    "\n",
    "Немного подправил"
   ]
  },
  {
   "cell_type": "markdown",
   "metadata": {},
   "source": [
    "<div class=\"alert alert-warning\">\n",
    "<h2> Комментарий ревьюера v2</h2>\n",
    "    \n",
    "Пересмотри свои выводы, исходя из внесённых в работу исправлений. Нужно учесть те формулировки гипотез, которые будут, и опираться на них. \n",
    "    \n",
    "</div>"
   ]
  },
  {
   "cell_type": "markdown",
   "metadata": {},
   "source": [
    "<div class=\"alert alert-warning\">\n",
    "<h2> Комментарий ревьюера v3</h2>\n",
    "    \n",
    "Всё ещё нужно пересмотреть вывод. Для более чёткого и однозначного решения я предложила фрмулировку, по которой будет точно понятно, разобрался ты с проверкой стат тестов или нет. Посмотри в комментарии выше (после проверки среднего чека).\n",
    "    \n",
    "</div>"
   ]
  },
  {
   "cell_type": "markdown",
   "metadata": {},
   "source": [
    "<div class=\"alert alert-success\">\n",
    "<h2> Комментарий ревьюера - резюме</h2>\n",
    "    \n",
    "Если резюмировать впечатления о работе, то я бы выделила следующее.\n",
    "    \n",
    "Тебе удалось верно построить графики, которые очень важны для AB тестов. Очень здорово, что ты обращаешь внимание на пересекающихся пользователей в группах. Анализ аномалий тоже сдался под твоим напором. А вот проверку стат гипотез стоит пересмотреть и обратиться к тренажёру.\n",
    "    \n",
    "Суммируя то, что нужно исправить, выделю следующие пункты:\n",
    "    \n",
    "- Дополнить предобработку данных\n",
    "- Добавить комментарии в разделе с анализом графиков\n",
    "- Добавить пояснения в разделе с анализом аномалий и расширить графики\n",
    "- Пересмотреть проверку стат гипотез\n",
    "- Расширить вывод\n",
    "    \n",
    "Буду ждать твою работу с исправлениями :)\n",
    "    \n",
    "</div>"
   ]
  },
  {
   "cell_type": "markdown",
   "metadata": {},
   "source": [
    "<div class=\"alert alert-info\">\n",
    "<h2> Комментарий студента </h2>\n",
    "\n",
    "Спасибо за комментарии)"
   ]
  },
  {
   "cell_type": "markdown",
   "metadata": {},
   "source": [
    "<div class=\"alert alert-success\">\n",
    "<h2> Комментарий ревьюера v2 - резюме</h2>\n",
    "    \n",
    "Ты учёл все комментарии, но есть ещё места, которые нужно исправить. Прокомментировать большие куски кода детальнее (их этапы через #). Разобраться с формулировкой гипотез, на их основе переписать выводы по тестам и финальный вывод.\n",
    "    \n",
    "</div>"
   ]
  },
  {
   "cell_type": "markdown",
   "metadata": {},
   "source": [
    "<div class=\"alert alert-success\">\n",
    "<h2> Комментарий ревьюера v3 - резюме</h2>\n",
    "    \n",
    "Всё-таки формулировка гипотез по среднему чеку не совсем верна и стоит пересмотреть выводы ещё раз (и финальный). Я добавила ещё комментарии и прошу отнестись к ним с понимаем. Это действительно важно, чтобы в формулировках и выводах была ясность, ведь им по ним я анализирую твоё понимание темы. И именно по ним в будущем с твоей работой буду знакомиться другие. Это не просто придирки, а действительно важный показатель в работе.\n",
    "    \n",
    "Очень надеюсь, что мои комментарии тебе понятные и действительно помогут разобраться, если непонимание ещё осталось. Надо чуть-чуть дожать, и работа будет готова :)\n",
    "    \n",
    "P.S. А ещё ты пропустил один жёлтый комментарий при анализе графиков.\n",
    "    \n",
    "</div>"
   ]
  },
  {
   "cell_type": "markdown",
   "metadata": {},
   "source": [
    "<div class=\"alert alert-info\">\n",
    "<h2> Комментарий студента </h2>\n",
    "\n",
    "Спасибо за комментарии.  Да, часть с проверкой гипотез является самой слабой в плане освоенных знаний.Наверное это лучший комментарий / \"а ну-ка подумай\", что я пока встречал в Практикуме)\n",
    "\n",
    "Написал общий вывод в блоке \"Комментарий студента\" + поправил в выводах ошибки. Также скорректировал комментарии в \"желтом блоке\", который пропустил"
   ]
  },
  {
   "cell_type": "markdown",
   "metadata": {},
   "source": [
    "<div class=\"alert alert-success\">\n",
    "<h2> Комментарий ревьюера v4 - резюме</h2>\n",
    "    \n",
    "Рада, что мои комментарии были полезны :)\n",
    "    \n",
    "Выводы теперь выглядят намного лучше! Я добавила ещё комментарий \"на будущее\" после выводов по тестам. Ты всё-таки не до конца добил формулировку гипотез по средним чекам, но там уже просто механическое исправление, так что из-за него одного возвращать работу не буду.\n",
    "    \n",
    "Ты проделал большую работу при выполнении проекта. Очень надеюсь, что всё теперь ясно. Если вопросы еще остались, смело обращайся к наставнику. Дальше ещё будут темы, связанные с теми, что ты делал здесь. Так что важно, чтобы всё в голове уложилось.\n",
    "    \n",
    "Успехов в следующих проектах :)\n",
    "    \n",
    "</div>"
   ]
  },
  {
   "cell_type": "code",
   "execution_count": null,
   "metadata": {},
   "outputs": [],
   "source": []
  }
 ],
 "metadata": {
  "kernelspec": {
   "display_name": "Python 3",
   "language": "python",
   "name": "python3"
  },
  "language_info": {
   "codemirror_mode": {
    "name": "ipython",
    "version": 3
   },
   "file_extension": ".py",
   "mimetype": "text/x-python",
   "name": "python",
   "nbconvert_exporter": "python",
   "pygments_lexer": "ipython3",
   "version": "3.7.6"
  }
 },
 "nbformat": 4,
 "nbformat_minor": 4
}

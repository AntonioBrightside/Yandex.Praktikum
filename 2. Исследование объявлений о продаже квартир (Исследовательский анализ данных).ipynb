{
 "cells": [
  {
   "cell_type": "markdown",
   "metadata": {},
   "source": [
    ">Приветствую! Меня зовут Александр и я буду проверять твой проект :)\n",
    ">\n",
    ">Ниже в ноутбуке будут мои комментарии, закодированные разными цветами.\n",
    ">\n",
    ">**_<span style=\"color:green\">Зеленым будут выделены места, которые хочется особенно отметить, как хорошие. </span>_**\n",
    ">\n",
    "> **_<span style=\"color:red\">Недочеты, откомментированные красным обязательны к доработке – без их исправления домашка не будет зачтена. </span>_**\n",
    ">  \n",
    "> **_<span style=\"color:orange\">Недочеты и подсказки, откомментированные оранжевым, учесть желательно, но их доработка не является обязательным условнием для зачета.</span>_**\n",
    ">\n",
    "> Если какие-то подзадачи не откомментированны – значит с ними все окей, нет возражений.\n",
    ">\n",
    "> Если ошибка влечет за собой дальнейшие неточности рассчетов или выводов – пожалуйста, поправь их тоже, чтобы аналитический отчет был целостным.\n",
    ">\n",
    ">Пожалуйста, не удаляй и не переноси мои комментарии, это позволит лучше ориентироваться при возможных повторных проверках."
   ]
  },
  {
   "cell_type": "markdown",
   "metadata": {},
   "source": [
    "# Исследование объявлений о продаже квартир\n",
    "\n",
    "В вашем распоряжении данные сервиса Яндекс.Недвижимость — архив объявлений о продаже квартир в Санкт-Петербурге и соседних населённых пунктов за несколько лет. Нужно научиться определять рыночную стоимость объектов недвижимости. Ваша задача — установить параметры. Это позволит построить автоматизированную систему: она отследит аномалии и мошенническую деятельность. \n",
    "\n",
    "По каждой квартире на продажу доступны два вида данных. Первые вписаны пользователем, вторые — получены автоматически на основе картографических данных. Например, расстояние до центра, аэропорта, ближайшего парка и водоёма. "
   ]
  },
  {
   "cell_type": "markdown",
   "metadata": {},
   "source": [
    "### Шаг 1. Откройте файл с данными и изучите общую информацию. "
   ]
  },
  {
   "cell_type": "code",
   "execution_count": 1,
   "metadata": {
    "scrolled": true
   },
   "outputs": [
    {
     "name": "stdout",
     "output_type": "stream",
     "text": [
      "   total_images  last_price  total_area first_day_exposition  rooms  \\\n",
      "0            20  13000000.0       108.0  2019-03-07T00:00:00      3   \n",
      "1             7   3350000.0        40.4  2018-12-04T00:00:00      1   \n",
      "2            10   5196000.0        56.0  2015-08-20T00:00:00      2   \n",
      "3             0  64900000.0       159.0  2015-07-24T00:00:00      3   \n",
      "4             2  10000000.0       100.0  2018-06-19T00:00:00      2   \n",
      "\n",
      "   ceiling_height  floors_total  living_area  floor is_apartment  ...  \\\n",
      "0            2.70          16.0         51.0      8          NaN  ...   \n",
      "1             NaN          11.0         18.6      1          NaN  ...   \n",
      "2             NaN           5.0         34.3      4          NaN  ...   \n",
      "3             NaN          14.0          NaN      9          NaN  ...   \n",
      "4            3.03          14.0         32.0     13          NaN  ...   \n",
      "\n",
      "   kitchen_area  balcony    locality_name  airports_nearest  \\\n",
      "0          25.0      NaN  Санкт-Петербург           18863.0   \n",
      "1          11.0      2.0   посёлок Шушары           12817.0   \n",
      "2           8.3      0.0  Санкт-Петербург           21741.0   \n",
      "3           NaN      0.0  Санкт-Петербург           28098.0   \n",
      "4          41.0      NaN  Санкт-Петербург           31856.0   \n",
      "\n",
      "  cityCenters_nearest  parks_around3000  parks_nearest  ponds_around3000  \\\n",
      "0             16028.0               1.0          482.0               2.0   \n",
      "1             18603.0               0.0            NaN               0.0   \n",
      "2             13933.0               1.0           90.0               2.0   \n",
      "3              6800.0               2.0           84.0               3.0   \n",
      "4              8098.0               2.0          112.0               1.0   \n",
      "\n",
      "   ponds_nearest  days_exposition  \n",
      "0          755.0              NaN  \n",
      "1            NaN             81.0  \n",
      "2          574.0            558.0  \n",
      "3          234.0            424.0  \n",
      "4           48.0            121.0  \n",
      "\n",
      "[5 rows x 22 columns]\n",
      "<class 'pandas.core.frame.DataFrame'>\n",
      "RangeIndex: 23699 entries, 0 to 23698\n",
      "Data columns (total 22 columns):\n",
      "total_images            23699 non-null int64\n",
      "last_price              23699 non-null float64\n",
      "total_area              23699 non-null float64\n",
      "first_day_exposition    23699 non-null object\n",
      "rooms                   23699 non-null int64\n",
      "ceiling_height          14504 non-null float64\n",
      "floors_total            23613 non-null float64\n",
      "living_area             21796 non-null float64\n",
      "floor                   23699 non-null int64\n",
      "is_apartment            2775 non-null object\n",
      "studio                  23699 non-null bool\n",
      "open_plan               23699 non-null bool\n",
      "kitchen_area            21421 non-null float64\n",
      "balcony                 12180 non-null float64\n",
      "locality_name           23650 non-null object\n",
      "airports_nearest        18157 non-null float64\n",
      "cityCenters_nearest     18180 non-null float64\n",
      "parks_around3000        18181 non-null float64\n",
      "parks_nearest           8079 non-null float64\n",
      "ponds_around3000        18181 non-null float64\n",
      "ponds_nearest           9110 non-null float64\n",
      "days_exposition         20518 non-null float64\n",
      "dtypes: bool(2), float64(14), int64(3), object(3)\n",
      "memory usage: 3.7+ MB\n"
     ]
    },
    {
     "data": {
      "text/html": [
       "<div>\n",
       "<style scoped>\n",
       "    .dataframe tbody tr th:only-of-type {\n",
       "        vertical-align: middle;\n",
       "    }\n",
       "\n",
       "    .dataframe tbody tr th {\n",
       "        vertical-align: top;\n",
       "    }\n",
       "\n",
       "    .dataframe thead th {\n",
       "        text-align: right;\n",
       "    }\n",
       "</style>\n",
       "<table border=\"1\" class=\"dataframe\">\n",
       "  <thead>\n",
       "    <tr style=\"text-align: right;\">\n",
       "      <th></th>\n",
       "      <th>total_images</th>\n",
       "      <th>last_price</th>\n",
       "      <th>total_area</th>\n",
       "      <th>rooms</th>\n",
       "      <th>ceiling_height</th>\n",
       "      <th>floors_total</th>\n",
       "      <th>living_area</th>\n",
       "      <th>floor</th>\n",
       "      <th>kitchen_area</th>\n",
       "      <th>balcony</th>\n",
       "      <th>airports_nearest</th>\n",
       "      <th>cityCenters_nearest</th>\n",
       "      <th>parks_around3000</th>\n",
       "      <th>parks_nearest</th>\n",
       "      <th>ponds_around3000</th>\n",
       "      <th>ponds_nearest</th>\n",
       "      <th>days_exposition</th>\n",
       "    </tr>\n",
       "  </thead>\n",
       "  <tbody>\n",
       "    <tr>\n",
       "      <td>count</td>\n",
       "      <td>23699.000000</td>\n",
       "      <td>2.369900e+04</td>\n",
       "      <td>23699.000000</td>\n",
       "      <td>23699.000000</td>\n",
       "      <td>14504.000000</td>\n",
       "      <td>23613.000000</td>\n",
       "      <td>21796.000000</td>\n",
       "      <td>23699.000000</td>\n",
       "      <td>21421.000000</td>\n",
       "      <td>12180.000000</td>\n",
       "      <td>18157.000000</td>\n",
       "      <td>18180.000000</td>\n",
       "      <td>18181.000000</td>\n",
       "      <td>8079.000000</td>\n",
       "      <td>18181.000000</td>\n",
       "      <td>9110.000000</td>\n",
       "      <td>20518.000000</td>\n",
       "    </tr>\n",
       "    <tr>\n",
       "      <td>mean</td>\n",
       "      <td>9.858475</td>\n",
       "      <td>6.541549e+06</td>\n",
       "      <td>60.348651</td>\n",
       "      <td>2.070636</td>\n",
       "      <td>2.771499</td>\n",
       "      <td>10.673824</td>\n",
       "      <td>34.457852</td>\n",
       "      <td>5.892358</td>\n",
       "      <td>10.569807</td>\n",
       "      <td>1.150082</td>\n",
       "      <td>28793.672193</td>\n",
       "      <td>14191.277833</td>\n",
       "      <td>0.611408</td>\n",
       "      <td>490.804555</td>\n",
       "      <td>0.770255</td>\n",
       "      <td>517.980900</td>\n",
       "      <td>180.888634</td>\n",
       "    </tr>\n",
       "    <tr>\n",
       "      <td>std</td>\n",
       "      <td>5.682529</td>\n",
       "      <td>1.088701e+07</td>\n",
       "      <td>35.654083</td>\n",
       "      <td>1.078405</td>\n",
       "      <td>1.261056</td>\n",
       "      <td>6.597173</td>\n",
       "      <td>22.030445</td>\n",
       "      <td>4.885249</td>\n",
       "      <td>5.905438</td>\n",
       "      <td>1.071300</td>\n",
       "      <td>12630.880622</td>\n",
       "      <td>8608.386210</td>\n",
       "      <td>0.802074</td>\n",
       "      <td>342.317995</td>\n",
       "      <td>0.938346</td>\n",
       "      <td>277.720643</td>\n",
       "      <td>219.727988</td>\n",
       "    </tr>\n",
       "    <tr>\n",
       "      <td>min</td>\n",
       "      <td>0.000000</td>\n",
       "      <td>1.219000e+04</td>\n",
       "      <td>12.000000</td>\n",
       "      <td>0.000000</td>\n",
       "      <td>1.000000</td>\n",
       "      <td>1.000000</td>\n",
       "      <td>2.000000</td>\n",
       "      <td>1.000000</td>\n",
       "      <td>1.300000</td>\n",
       "      <td>0.000000</td>\n",
       "      <td>0.000000</td>\n",
       "      <td>181.000000</td>\n",
       "      <td>0.000000</td>\n",
       "      <td>1.000000</td>\n",
       "      <td>0.000000</td>\n",
       "      <td>13.000000</td>\n",
       "      <td>1.000000</td>\n",
       "    </tr>\n",
       "    <tr>\n",
       "      <td>25%</td>\n",
       "      <td>6.000000</td>\n",
       "      <td>3.400000e+06</td>\n",
       "      <td>40.000000</td>\n",
       "      <td>1.000000</td>\n",
       "      <td>2.520000</td>\n",
       "      <td>5.000000</td>\n",
       "      <td>18.600000</td>\n",
       "      <td>2.000000</td>\n",
       "      <td>7.000000</td>\n",
       "      <td>0.000000</td>\n",
       "      <td>18585.000000</td>\n",
       "      <td>9238.000000</td>\n",
       "      <td>0.000000</td>\n",
       "      <td>288.000000</td>\n",
       "      <td>0.000000</td>\n",
       "      <td>294.000000</td>\n",
       "      <td>45.000000</td>\n",
       "    </tr>\n",
       "    <tr>\n",
       "      <td>50%</td>\n",
       "      <td>9.000000</td>\n",
       "      <td>4.650000e+06</td>\n",
       "      <td>52.000000</td>\n",
       "      <td>2.000000</td>\n",
       "      <td>2.650000</td>\n",
       "      <td>9.000000</td>\n",
       "      <td>30.000000</td>\n",
       "      <td>4.000000</td>\n",
       "      <td>9.100000</td>\n",
       "      <td>1.000000</td>\n",
       "      <td>26726.000000</td>\n",
       "      <td>13098.500000</td>\n",
       "      <td>0.000000</td>\n",
       "      <td>455.000000</td>\n",
       "      <td>1.000000</td>\n",
       "      <td>502.000000</td>\n",
       "      <td>95.000000</td>\n",
       "    </tr>\n",
       "    <tr>\n",
       "      <td>75%</td>\n",
       "      <td>14.000000</td>\n",
       "      <td>6.800000e+06</td>\n",
       "      <td>69.900000</td>\n",
       "      <td>3.000000</td>\n",
       "      <td>2.800000</td>\n",
       "      <td>16.000000</td>\n",
       "      <td>42.300000</td>\n",
       "      <td>8.000000</td>\n",
       "      <td>12.000000</td>\n",
       "      <td>2.000000</td>\n",
       "      <td>37273.000000</td>\n",
       "      <td>16293.000000</td>\n",
       "      <td>1.000000</td>\n",
       "      <td>612.000000</td>\n",
       "      <td>1.000000</td>\n",
       "      <td>729.000000</td>\n",
       "      <td>232.000000</td>\n",
       "    </tr>\n",
       "    <tr>\n",
       "      <td>max</td>\n",
       "      <td>50.000000</td>\n",
       "      <td>7.630000e+08</td>\n",
       "      <td>900.000000</td>\n",
       "      <td>19.000000</td>\n",
       "      <td>100.000000</td>\n",
       "      <td>60.000000</td>\n",
       "      <td>409.700000</td>\n",
       "      <td>33.000000</td>\n",
       "      <td>112.000000</td>\n",
       "      <td>5.000000</td>\n",
       "      <td>84869.000000</td>\n",
       "      <td>65968.000000</td>\n",
       "      <td>3.000000</td>\n",
       "      <td>3190.000000</td>\n",
       "      <td>3.000000</td>\n",
       "      <td>1344.000000</td>\n",
       "      <td>1580.000000</td>\n",
       "    </tr>\n",
       "  </tbody>\n",
       "</table>\n",
       "</div>"
      ],
      "text/plain": [
       "       total_images    last_price    total_area         rooms  ceiling_height  \\\n",
       "count  23699.000000  2.369900e+04  23699.000000  23699.000000    14504.000000   \n",
       "mean       9.858475  6.541549e+06     60.348651      2.070636        2.771499   \n",
       "std        5.682529  1.088701e+07     35.654083      1.078405        1.261056   \n",
       "min        0.000000  1.219000e+04     12.000000      0.000000        1.000000   \n",
       "25%        6.000000  3.400000e+06     40.000000      1.000000        2.520000   \n",
       "50%        9.000000  4.650000e+06     52.000000      2.000000        2.650000   \n",
       "75%       14.000000  6.800000e+06     69.900000      3.000000        2.800000   \n",
       "max       50.000000  7.630000e+08    900.000000     19.000000      100.000000   \n",
       "\n",
       "       floors_total   living_area         floor  kitchen_area       balcony  \\\n",
       "count  23613.000000  21796.000000  23699.000000  21421.000000  12180.000000   \n",
       "mean      10.673824     34.457852      5.892358     10.569807      1.150082   \n",
       "std        6.597173     22.030445      4.885249      5.905438      1.071300   \n",
       "min        1.000000      2.000000      1.000000      1.300000      0.000000   \n",
       "25%        5.000000     18.600000      2.000000      7.000000      0.000000   \n",
       "50%        9.000000     30.000000      4.000000      9.100000      1.000000   \n",
       "75%       16.000000     42.300000      8.000000     12.000000      2.000000   \n",
       "max       60.000000    409.700000     33.000000    112.000000      5.000000   \n",
       "\n",
       "       airports_nearest  cityCenters_nearest  parks_around3000  parks_nearest  \\\n",
       "count      18157.000000         18180.000000      18181.000000    8079.000000   \n",
       "mean       28793.672193         14191.277833          0.611408     490.804555   \n",
       "std        12630.880622          8608.386210          0.802074     342.317995   \n",
       "min            0.000000           181.000000          0.000000       1.000000   \n",
       "25%        18585.000000          9238.000000          0.000000     288.000000   \n",
       "50%        26726.000000         13098.500000          0.000000     455.000000   \n",
       "75%        37273.000000         16293.000000          1.000000     612.000000   \n",
       "max        84869.000000         65968.000000          3.000000    3190.000000   \n",
       "\n",
       "       ponds_around3000  ponds_nearest  days_exposition  \n",
       "count      18181.000000    9110.000000     20518.000000  \n",
       "mean           0.770255     517.980900       180.888634  \n",
       "std            0.938346     277.720643       219.727988  \n",
       "min            0.000000      13.000000         1.000000  \n",
       "25%            0.000000     294.000000        45.000000  \n",
       "50%            1.000000     502.000000        95.000000  \n",
       "75%            1.000000     729.000000       232.000000  \n",
       "max            3.000000    1344.000000      1580.000000  "
      ]
     },
     "execution_count": 1,
     "metadata": {},
     "output_type": "execute_result"
    }
   ],
   "source": [
    "import pandas as pd\n",
    "df = pd.read_csv('/datasets/real_estate_data.csv', delimiter='\\t')\n",
    "print(df.head())\n",
    "df.info()\n",
    "df.describe()"
   ]
  },
  {
   "cell_type": "markdown",
   "metadata": {},
   "source": [
    "### Вывод"
   ]
  },
  {
   "cell_type": "markdown",
   "metadata": {},
   "source": [
    "Большинство колонок заполнены в полном объемы. Необходимо заполнить нехватаюзие важные данные по:\n",
    "    - Высота потолков\n",
    "    \n",
    "Изменить тип ячейки даты для дальнейшей работы с ними.\n",
    "    "
   ]
  },
  {
   "cell_type": "markdown",
   "metadata": {},
   "source": [
    "\n",
    ">**_<span style=\"color:green\">Все кратко и по делу.</span>_**\n",
    ">\n"
   ]
  },
  {
   "cell_type": "markdown",
   "metadata": {},
   "source": [
    "### Шаг 2. Предобработка данных"
   ]
  },
  {
   "cell_type": "code",
   "execution_count": 2,
   "metadata": {},
   "outputs": [
    {
     "data": {
      "text/html": [
       "<div>\n",
       "<style scoped>\n",
       "    .dataframe tbody tr th:only-of-type {\n",
       "        vertical-align: middle;\n",
       "    }\n",
       "\n",
       "    .dataframe tbody tr th {\n",
       "        vertical-align: top;\n",
       "    }\n",
       "\n",
       "    .dataframe thead th {\n",
       "        text-align: right;\n",
       "    }\n",
       "</style>\n",
       "<table border=\"1\" class=\"dataframe\">\n",
       "  <thead>\n",
       "    <tr style=\"text-align: right;\">\n",
       "      <th></th>\n",
       "      <th>total_images</th>\n",
       "      <th>last_price</th>\n",
       "      <th>total_area</th>\n",
       "      <th>first_day_exposition</th>\n",
       "      <th>rooms</th>\n",
       "      <th>ceiling_height</th>\n",
       "      <th>floors_total</th>\n",
       "      <th>living_area</th>\n",
       "      <th>floor</th>\n",
       "      <th>is_apartment</th>\n",
       "      <th>...</th>\n",
       "      <th>kitchen_area</th>\n",
       "      <th>balcony</th>\n",
       "      <th>locality_name</th>\n",
       "      <th>airports_nearest</th>\n",
       "      <th>cityCenters_nearest</th>\n",
       "      <th>parks_around3000</th>\n",
       "      <th>parks_nearest</th>\n",
       "      <th>ponds_around3000</th>\n",
       "      <th>ponds_nearest</th>\n",
       "      <th>days_exposition</th>\n",
       "    </tr>\n",
       "  </thead>\n",
       "  <tbody>\n",
       "    <tr>\n",
       "      <td>0</td>\n",
       "      <td>20</td>\n",
       "      <td>13000000.0</td>\n",
       "      <td>108.00</td>\n",
       "      <td>2019-03-07</td>\n",
       "      <td>3</td>\n",
       "      <td>2.70</td>\n",
       "      <td>16.0</td>\n",
       "      <td>51.0</td>\n",
       "      <td>8</td>\n",
       "      <td>False</td>\n",
       "      <td>...</td>\n",
       "      <td>25.00</td>\n",
       "      <td>0.0</td>\n",
       "      <td>Санкт-Петербург</td>\n",
       "      <td>18863.0</td>\n",
       "      <td>16028.0</td>\n",
       "      <td>1.0</td>\n",
       "      <td>482.0</td>\n",
       "      <td>2.0</td>\n",
       "      <td>755.0</td>\n",
       "      <td>NaN</td>\n",
       "    </tr>\n",
       "    <tr>\n",
       "      <td>1</td>\n",
       "      <td>7</td>\n",
       "      <td>3350000.0</td>\n",
       "      <td>40.40</td>\n",
       "      <td>2018-12-04</td>\n",
       "      <td>1</td>\n",
       "      <td>NaN</td>\n",
       "      <td>11.0</td>\n",
       "      <td>18.6</td>\n",
       "      <td>1</td>\n",
       "      <td>False</td>\n",
       "      <td>...</td>\n",
       "      <td>11.00</td>\n",
       "      <td>2.0</td>\n",
       "      <td>посёлок Шушары</td>\n",
       "      <td>12817.0</td>\n",
       "      <td>18603.0</td>\n",
       "      <td>0.0</td>\n",
       "      <td>NaN</td>\n",
       "      <td>0.0</td>\n",
       "      <td>NaN</td>\n",
       "      <td>81.0</td>\n",
       "    </tr>\n",
       "    <tr>\n",
       "      <td>2</td>\n",
       "      <td>10</td>\n",
       "      <td>5196000.0</td>\n",
       "      <td>56.00</td>\n",
       "      <td>2015-08-20</td>\n",
       "      <td>2</td>\n",
       "      <td>NaN</td>\n",
       "      <td>5.0</td>\n",
       "      <td>34.3</td>\n",
       "      <td>4</td>\n",
       "      <td>False</td>\n",
       "      <td>...</td>\n",
       "      <td>8.30</td>\n",
       "      <td>0.0</td>\n",
       "      <td>Санкт-Петербург</td>\n",
       "      <td>21741.0</td>\n",
       "      <td>13933.0</td>\n",
       "      <td>1.0</td>\n",
       "      <td>90.0</td>\n",
       "      <td>2.0</td>\n",
       "      <td>574.0</td>\n",
       "      <td>558.0</td>\n",
       "    </tr>\n",
       "    <tr>\n",
       "      <td>3</td>\n",
       "      <td>0</td>\n",
       "      <td>64900000.0</td>\n",
       "      <td>159.00</td>\n",
       "      <td>2015-07-24</td>\n",
       "      <td>3</td>\n",
       "      <td>NaN</td>\n",
       "      <td>14.0</td>\n",
       "      <td>NaN</td>\n",
       "      <td>9</td>\n",
       "      <td>False</td>\n",
       "      <td>...</td>\n",
       "      <td>NaN</td>\n",
       "      <td>0.0</td>\n",
       "      <td>Санкт-Петербург</td>\n",
       "      <td>28098.0</td>\n",
       "      <td>6800.0</td>\n",
       "      <td>2.0</td>\n",
       "      <td>84.0</td>\n",
       "      <td>3.0</td>\n",
       "      <td>234.0</td>\n",
       "      <td>424.0</td>\n",
       "    </tr>\n",
       "    <tr>\n",
       "      <td>4</td>\n",
       "      <td>2</td>\n",
       "      <td>10000000.0</td>\n",
       "      <td>100.00</td>\n",
       "      <td>2018-06-19</td>\n",
       "      <td>2</td>\n",
       "      <td>3.03</td>\n",
       "      <td>14.0</td>\n",
       "      <td>32.0</td>\n",
       "      <td>13</td>\n",
       "      <td>False</td>\n",
       "      <td>...</td>\n",
       "      <td>41.00</td>\n",
       "      <td>0.0</td>\n",
       "      <td>Санкт-Петербург</td>\n",
       "      <td>31856.0</td>\n",
       "      <td>8098.0</td>\n",
       "      <td>2.0</td>\n",
       "      <td>112.0</td>\n",
       "      <td>1.0</td>\n",
       "      <td>48.0</td>\n",
       "      <td>121.0</td>\n",
       "    </tr>\n",
       "    <tr>\n",
       "      <td>...</td>\n",
       "      <td>...</td>\n",
       "      <td>...</td>\n",
       "      <td>...</td>\n",
       "      <td>...</td>\n",
       "      <td>...</td>\n",
       "      <td>...</td>\n",
       "      <td>...</td>\n",
       "      <td>...</td>\n",
       "      <td>...</td>\n",
       "      <td>...</td>\n",
       "      <td>...</td>\n",
       "      <td>...</td>\n",
       "      <td>...</td>\n",
       "      <td>...</td>\n",
       "      <td>...</td>\n",
       "      <td>...</td>\n",
       "      <td>...</td>\n",
       "      <td>...</td>\n",
       "      <td>...</td>\n",
       "      <td>...</td>\n",
       "      <td>...</td>\n",
       "    </tr>\n",
       "    <tr>\n",
       "      <td>23694</td>\n",
       "      <td>9</td>\n",
       "      <td>9700000.0</td>\n",
       "      <td>133.81</td>\n",
       "      <td>2017-03-21</td>\n",
       "      <td>3</td>\n",
       "      <td>3.70</td>\n",
       "      <td>5.0</td>\n",
       "      <td>73.3</td>\n",
       "      <td>3</td>\n",
       "      <td>False</td>\n",
       "      <td>...</td>\n",
       "      <td>13.83</td>\n",
       "      <td>0.0</td>\n",
       "      <td>Санкт-Петербург</td>\n",
       "      <td>24665.0</td>\n",
       "      <td>4232.0</td>\n",
       "      <td>1.0</td>\n",
       "      <td>796.0</td>\n",
       "      <td>3.0</td>\n",
       "      <td>381.0</td>\n",
       "      <td>NaN</td>\n",
       "    </tr>\n",
       "    <tr>\n",
       "      <td>23695</td>\n",
       "      <td>14</td>\n",
       "      <td>3100000.0</td>\n",
       "      <td>59.00</td>\n",
       "      <td>2018-01-15</td>\n",
       "      <td>3</td>\n",
       "      <td>NaN</td>\n",
       "      <td>5.0</td>\n",
       "      <td>38.0</td>\n",
       "      <td>4</td>\n",
       "      <td>False</td>\n",
       "      <td>...</td>\n",
       "      <td>8.50</td>\n",
       "      <td>0.0</td>\n",
       "      <td>Тосно</td>\n",
       "      <td>NaN</td>\n",
       "      <td>NaN</td>\n",
       "      <td>NaN</td>\n",
       "      <td>NaN</td>\n",
       "      <td>NaN</td>\n",
       "      <td>NaN</td>\n",
       "      <td>45.0</td>\n",
       "    </tr>\n",
       "    <tr>\n",
       "      <td>23696</td>\n",
       "      <td>18</td>\n",
       "      <td>2500000.0</td>\n",
       "      <td>56.70</td>\n",
       "      <td>2018-02-11</td>\n",
       "      <td>2</td>\n",
       "      <td>NaN</td>\n",
       "      <td>3.0</td>\n",
       "      <td>29.7</td>\n",
       "      <td>1</td>\n",
       "      <td>False</td>\n",
       "      <td>...</td>\n",
       "      <td>NaN</td>\n",
       "      <td>0.0</td>\n",
       "      <td>село Рождествено</td>\n",
       "      <td>NaN</td>\n",
       "      <td>NaN</td>\n",
       "      <td>NaN</td>\n",
       "      <td>NaN</td>\n",
       "      <td>NaN</td>\n",
       "      <td>NaN</td>\n",
       "      <td>NaN</td>\n",
       "    </tr>\n",
       "    <tr>\n",
       "      <td>23697</td>\n",
       "      <td>13</td>\n",
       "      <td>11475000.0</td>\n",
       "      <td>76.75</td>\n",
       "      <td>2017-03-28</td>\n",
       "      <td>2</td>\n",
       "      <td>3.00</td>\n",
       "      <td>17.0</td>\n",
       "      <td>NaN</td>\n",
       "      <td>12</td>\n",
       "      <td>False</td>\n",
       "      <td>...</td>\n",
       "      <td>23.30</td>\n",
       "      <td>2.0</td>\n",
       "      <td>Санкт-Петербург</td>\n",
       "      <td>39140.0</td>\n",
       "      <td>10364.0</td>\n",
       "      <td>2.0</td>\n",
       "      <td>173.0</td>\n",
       "      <td>3.0</td>\n",
       "      <td>196.0</td>\n",
       "      <td>602.0</td>\n",
       "    </tr>\n",
       "    <tr>\n",
       "      <td>23698</td>\n",
       "      <td>4</td>\n",
       "      <td>1350000.0</td>\n",
       "      <td>32.30</td>\n",
       "      <td>2017-07-21</td>\n",
       "      <td>1</td>\n",
       "      <td>2.50</td>\n",
       "      <td>5.0</td>\n",
       "      <td>12.3</td>\n",
       "      <td>1</td>\n",
       "      <td>False</td>\n",
       "      <td>...</td>\n",
       "      <td>9.00</td>\n",
       "      <td>0.0</td>\n",
       "      <td>поселок Новый Учхоз</td>\n",
       "      <td>NaN</td>\n",
       "      <td>NaN</td>\n",
       "      <td>NaN</td>\n",
       "      <td>NaN</td>\n",
       "      <td>NaN</td>\n",
       "      <td>NaN</td>\n",
       "      <td>NaN</td>\n",
       "    </tr>\n",
       "  </tbody>\n",
       "</table>\n",
       "<p>23699 rows × 22 columns</p>\n",
       "</div>"
      ],
      "text/plain": [
       "       total_images  last_price  total_area first_day_exposition  rooms  \\\n",
       "0                20  13000000.0      108.00           2019-03-07      3   \n",
       "1                 7   3350000.0       40.40           2018-12-04      1   \n",
       "2                10   5196000.0       56.00           2015-08-20      2   \n",
       "3                 0  64900000.0      159.00           2015-07-24      3   \n",
       "4                 2  10000000.0      100.00           2018-06-19      2   \n",
       "...             ...         ...         ...                  ...    ...   \n",
       "23694             9   9700000.0      133.81           2017-03-21      3   \n",
       "23695            14   3100000.0       59.00           2018-01-15      3   \n",
       "23696            18   2500000.0       56.70           2018-02-11      2   \n",
       "23697            13  11475000.0       76.75           2017-03-28      2   \n",
       "23698             4   1350000.0       32.30           2017-07-21      1   \n",
       "\n",
       "       ceiling_height  floors_total  living_area  floor  is_apartment  ...  \\\n",
       "0                2.70          16.0         51.0      8         False  ...   \n",
       "1                 NaN          11.0         18.6      1         False  ...   \n",
       "2                 NaN           5.0         34.3      4         False  ...   \n",
       "3                 NaN          14.0          NaN      9         False  ...   \n",
       "4                3.03          14.0         32.0     13         False  ...   \n",
       "...               ...           ...          ...    ...           ...  ...   \n",
       "23694            3.70           5.0         73.3      3         False  ...   \n",
       "23695             NaN           5.0         38.0      4         False  ...   \n",
       "23696             NaN           3.0         29.7      1         False  ...   \n",
       "23697            3.00          17.0          NaN     12         False  ...   \n",
       "23698            2.50           5.0         12.3      1         False  ...   \n",
       "\n",
       "       kitchen_area  balcony        locality_name  airports_nearest  \\\n",
       "0             25.00      0.0      Санкт-Петербург           18863.0   \n",
       "1             11.00      2.0       посёлок Шушары           12817.0   \n",
       "2              8.30      0.0      Санкт-Петербург           21741.0   \n",
       "3               NaN      0.0      Санкт-Петербург           28098.0   \n",
       "4             41.00      0.0      Санкт-Петербург           31856.0   \n",
       "...             ...      ...                  ...               ...   \n",
       "23694         13.83      0.0      Санкт-Петербург           24665.0   \n",
       "23695          8.50      0.0                Тосно               NaN   \n",
       "23696           NaN      0.0     село Рождествено               NaN   \n",
       "23697         23.30      2.0      Санкт-Петербург           39140.0   \n",
       "23698          9.00      0.0  поселок Новый Учхоз               NaN   \n",
       "\n",
       "      cityCenters_nearest  parks_around3000  parks_nearest  ponds_around3000  \\\n",
       "0                 16028.0               1.0          482.0               2.0   \n",
       "1                 18603.0               0.0            NaN               0.0   \n",
       "2                 13933.0               1.0           90.0               2.0   \n",
       "3                  6800.0               2.0           84.0               3.0   \n",
       "4                  8098.0               2.0          112.0               1.0   \n",
       "...                   ...               ...            ...               ...   \n",
       "23694              4232.0               1.0          796.0               3.0   \n",
       "23695                 NaN               NaN            NaN               NaN   \n",
       "23696                 NaN               NaN            NaN               NaN   \n",
       "23697             10364.0               2.0          173.0               3.0   \n",
       "23698                 NaN               NaN            NaN               NaN   \n",
       "\n",
       "       ponds_nearest  days_exposition  \n",
       "0              755.0              NaN  \n",
       "1                NaN             81.0  \n",
       "2              574.0            558.0  \n",
       "3              234.0            424.0  \n",
       "4               48.0            121.0  \n",
       "...              ...              ...  \n",
       "23694          381.0              NaN  \n",
       "23695            NaN             45.0  \n",
       "23696            NaN              NaN  \n",
       "23697          196.0            602.0  \n",
       "23698            NaN              NaN  \n",
       "\n",
       "[23699 rows x 22 columns]"
      ]
     },
     "execution_count": 2,
     "metadata": {},
     "output_type": "execute_result"
    }
   ],
   "source": [
    "# Перевод строковых значений в дату и время\n",
    "df['first_day_exposition'] = pd.to_datetime(df['first_day_exposition'], format='%Y-%m-%dT%H:%M:%S')\n",
    "\n",
    "# Заполняем пропущенные данные по количеству балконов\n",
    "df['balcony'] = df['balcony'].fillna(0)\n",
    "\n",
    "# Заполняем пропущенные данные по количеству балконов\n",
    "df['is_apartment'] = df['is_apartment'].fillna(False)\n",
    "\n",
    "#Удаляем дубликаты\n",
    "#print(df.duplicated().sum())\n",
    "df.drop_duplicates().reset_index(drop=True)"
   ]
  },
  {
   "cell_type": "markdown",
   "metadata": {},
   "source": [
    "> **<span style=\"color:orange\">Такое заполнение пропуска может скорее помешать.</span>**\n",
    ">\n",
    "> **<span style=\"color:orange\">*Пример*: в дальнейшем анализе мы можем захотеть посчитать зависимость цены от высоты потолка. При таком заполнении пропуска, мы добавим к реальным данным (где есть и заполенная высота потолка, и цена) наши синтетические (медианы значений высоты потолка и реальные цены этих квартир).</span>** \n",
    ">\n",
    "> **<span style=\"color:orange\">*Что произойдет*: мы можем сделать неправильные выводы из анализа зависимости цены от потолка.</span>** \n",
    ">\n",
    "> **<span style=\"color:orange\">*Как правильно поступить в случае этого столбца*: забить на пропуск : ) Подавляющее большинство методов анализа, которые вы сейчас проходите, будут корректно обрабатывать датафрейм, в котоором в некоторых строках есть NaN в одном подмножестве столбцов, в некоторых – в другом. Это касается в том числе методов, используемых в этой домашке: точки на графиках для NaN-значений просто не построятся, корелляция для этих строк не посчитается, и часто это лучше, чем добавление множества синтетических точек.</span>** \n",
    ">\n",
    "> **<span style=\"color:orange\">*Когда так не надо делать?* Не стоит забивать на пропуск, если мы можем с большой уверенностью предположить возможную причину пропуска и полезное значение на замену. Такие примеры есть в этой домашке (например, балкон). Также в некоторые методы, в том числе некоторые методы машинного обучения, категорически не умеют работать с пропусками, но таких методов в вашем арсенале пока нет, можно не беспокоиться.</span>** \n",
    ">\n",
    "> **_<span style=\"color:orange\">В общем случае, если этого не требуют используемые методы, или если это явно не указано в задаче, то можно не ставить целью получить данные польностью без NaN.</span>_**"
   ]
  },
  {
   "cell_type": "markdown",
   "metadata": {},
   "source": [
    ">**_<span style=\"color:red\">~~Не увидел у тебя замены остальных пропусков. Если ты решил их оставить без изменений, добавь, пожалуйста, аргументацию почему ты решил оставить пропуски без обработки.~~</span>_**"
   ]
  },
  {
   "cell_type": "markdown",
   "metadata": {},
   "source": [
    "Посмотрел на задачу под \"другим углом\", внес следующие изменения:\n",
    "\n",
    "- убрал синтетические данные по высоте потолков (не совсем согласен, т.к. при имеющихся данных по гео точкам и этажности здания можно поставить гипотезу, что эти здания принадлежат одной серии и имеют одинаковые характеристики. Но допускаю, да, что этажность также может влиять на высоту потолков, особенно в => бизнес классе, и вводные мною данные могут содержать совпадения, что скорее всего достаточно ничтожны. Но допускаю и то, что пользователь может некорректно вбивать данные по этажности, поэтому рассматривал бы подсоединение этих данных из других БД по серийности дома с возможностью редактировать, т.е. также бы автоматизировал бы)\n",
    "\n",
    "- добавил нулевые значения в данные про балконы (нет балкона = 0, т.к. скорее всего так и есть, и вряд ли человек забыл  добавить эти данные)\n",
    "\n",
    "- заполняем данные по апартаментам (логика та же: пустая клетка - не является апартаментами)"
   ]
  },
  {
   "cell_type": "markdown",
   "metadata": {},
   "source": [
    "### Шаг 3. Посчитайте и добавьте в таблицу"
   ]
  },
  {
   "cell_type": "code",
   "execution_count": 3,
   "metadata": {},
   "outputs": [],
   "source": [
    "# Добавляем данные за стоимость 1м\n",
    "df['1m'] = (df['last_price'] / df['total_area']).round(0).astype('int')\n",
    "\n",
    "# Добавляем данные по времени публикации\n",
    "df['weekday'] = df['first_day_exposition'].dt.weekday\n",
    "df['month'] = df['first_day_exposition'].dt.month\n",
    "df['year'] = df['first_day_exposition'].dt.year"
   ]
  },
  {
   "cell_type": "code",
   "execution_count": 4,
   "metadata": {},
   "outputs": [],
   "source": [
    "# Добавляем данные по этажности\n",
    "data = df.loc[:,'floors_total']\n",
    "data_city = df.loc[:,'cityCenters_nearest']\n",
    "data_airport = df.loc[:,'airports_nearest']\n",
    "empty_list_floor = [] # Нет данных по ближайшему расстоянию до точек\n",
    "error_list_floor = [] # Когда нет совпадений по полученным сгруппированным точкам (\"одиночка\")\n",
    "counter = 0\n",
    "\n",
    "for row in data:\n",
    "    if data.isna().values[counter] == True:\n",
    "        if data_city.isna().values[counter] == True | data_airport.isna().values[counter] == True:\n",
    "            empty_list_floor.append(counter)\n",
    "            counter += 1               \n",
    "        else:\n",
    "            try:\n",
    "                floor = df[(df['airports_nearest'] == df.loc[counter, 'airports_nearest']) & \n",
    "                        (df['cityCenters_nearest'] == df.loc[counter, 'cityCenters_nearest'])].pivot_table(index='cityCenters_nearest', values='floors_total', aggfunc='mean')\n",
    "                floor_index = df[(df['airports_nearest'] == df.loc[counter, 'airports_nearest']) & \n",
    "                        (df['cityCenters_nearest'] == df.loc[counter, 'cityCenters_nearest'])]['cityCenters_nearest'].mean()\n",
    "                df.loc[counter, 'floors_total'] = floor.loc[floor_index,'floors_total']\n",
    "                counter += 1\n",
    "            except:\n",
    "                error_list_floor.append(counter)\n",
    "                counter += 1\n",
    "    else:\n",
    "        counter += 1\n",
    "        continue\n",
    "\n",
    "#print(empty_list_floor)\n",
    "#print(error_list_floor)\n",
    "#print(df.loc[:, 'floors_total'].isna().sum())\n",
    "\n",
    "def floor_text(data):\n",
    "    if data['floor'] == data['floors_total']:\n",
    "        return 'последний'\n",
    "    if data['floor'] == 1:\n",
    "        return 'первый'\n",
    "    else:\n",
    "        return 'другой'\n",
    "\n",
    "df['floor_text'] = df.apply(floor_text, axis=1)"
   ]
  },
  {
   "cell_type": "code",
   "execution_count": 5,
   "metadata": {},
   "outputs": [],
   "source": [
    "# Добавляем данные по соотношению жилой и общей площади, а также отношению площади кухни к общей\n",
    "def living_ratio(data):\n",
    "    for_ratio = data['living_area'] / data['total_area']\n",
    "    return for_ratio\n",
    "\n",
    "df['living_ratio'] = df.apply(living_ratio, axis=1).round(2)\n",
    "\n",
    "def kitchen_ratio(data):\n",
    "    for_ratio = data['kitchen_area'] / data['total_area']\n",
    "    return for_ratio   \n",
    "\n",
    "df['kitchen_ratio'] = df.apply(kitchen_ratio, axis=1).round(2)"
   ]
  },
  {
   "cell_type": "markdown",
   "metadata": {},
   "source": [
    ">**<span style=\"color:green\">Здесь ноль замечаний, молодец.</span>**\n",
    ">\n",
    ">**<span style=\"color:orange\">На будущее рекомендую разделять каждую операцию и каждую подзадачу проекта на отдельные ячейки с кодом и выводы в ячейках markdown. Так твой проект станет более структурированным и тебе самому будет проще в нем ориентироваться, особенно это актуально если что-то перестанет работать. Также в среде аналитиков часто возникает необходимость поделиться своим ноутбуком с коллегами или начальством, и если все будет структурированно, то коллеги не потратят много времени на \"ориентацию на местности\" :)</span>**\n",
    "\n"
   ]
  },
  {
   "cell_type": "markdown",
   "metadata": {},
   "source": [
    "### Шаг 4. Проведите исследовательский анализ данных и выполните инструкции:"
   ]
  },
  {
   "cell_type": "code",
   "execution_count": 6,
   "metadata": {
    "scrolled": true
   },
   "outputs": [
    {
     "name": "stdout",
     "output_type": "stream",
     "text": [
      "Среднее время продажи квартиры: 181\n",
      "Медианное время продажи квартиры: 95\n",
      "                     last_price  total_area     rooms  cityCenters_nearest\n",
      "last_price             1.000000    0.717596  0.475633            -0.347987\n",
      "total_area             0.717596    1.000000  0.803030            -0.133096\n",
      "rooms                  0.475633    0.803030  1.000000            -0.084012\n",
      "cityCenters_nearest   -0.347987   -0.133096 -0.084012             1.000000\n",
      "                      1m                           last_price             \\\n",
      "                    mean   median           sum          mean     median   \n",
      "floor_text                                                                 \n",
      "другой      98412.299536  97059.0  1.505413e+09  5.219350e+06  4700000.0   \n",
      "первый      85187.703279  83805.5  2.078580e+08  4.574603e+06  4100000.0   \n",
      "последний   90246.399698  88983.0  2.388822e+08  4.980051e+06  4350000.0   \n",
      "\n",
      "                         total_area                    \n",
      "                     sum       mean median        sum  \n",
      "floor_text                                             \n",
      "другой      7.984040e+10  53.916484   50.0  824760.46  \n",
      "первый      1.116203e+10  54.810480   52.0  133737.57  \n",
      "последний   1.318220e+10  56.192803   52.5  148742.35  \n"
     ]
    },
    {
     "data": {
      "image/png": "[encoded data removed]",
      "text/plain": [
       "<Figure size 432x288 with 1 Axes>"
      ]
     },
     "metadata": {
      "needs_background": "light"
     },
     "output_type": "display_data"
    },
    {
     "data": {
      "image/png": "[encoded data removed]",
      "text/plain": [
       "<Figure size 432x288 with 1 Axes>"
      ]
     },
     "metadata": {
      "needs_background": "light"
     },
     "output_type": "display_data"
    },
    {
     "data": {
      "image/png": "[encoded data removed]",
      "text/plain": [
       "<Figure size 432x288 with 1 Axes>"
      ]
     },
     "metadata": {
      "needs_background": "light"
     },
     "output_type": "display_data"
    },
    {
     "data": {
      "image/png": "[encoded data removed]",
      "text/plain": [
       "<Figure size 432x288 with 1 Axes>"
      ]
     },
     "metadata": {
      "needs_background": "light"
     },
     "output_type": "display_data"
    },
    {
     "data": {
      "text/plain": [
       "<Figure size 432x288 with 0 Axes>"
      ]
     },
     "metadata": {},
     "output_type": "display_data"
    },
    {
     "data": {
      "image/png": "[encoded data removed]",
      "text/plain": [
       "<Figure size 432x288 with 1 Axes>"
      ]
     },
     "metadata": {
      "needs_background": "light"
     },
     "output_type": "display_data"
    },
    {
     "data": {
      "image/png": "[encoded data removed]",
      "text/plain": [
       "<Figure size 432x288 with 1 Axes>"
      ]
     },
     "metadata": {
      "needs_background": "light"
     },
     "output_type": "display_data"
    },
    {
     "data": {
      "image/png": "[encoded data removed]",
      "text/plain": [
       "<Figure size 432x288 with 1 Axes>"
      ]
     },
     "metadata": {
      "needs_background": "light"
     },
     "output_type": "display_data"
    },
    {
     "data": {
      "image/png": "[encoded data removed]",
      "text/plain": [
       "<Figure size 432x288 with 1 Axes>"
      ]
     },
     "metadata": {
      "needs_background": "light"
     },
     "output_type": "display_data"
    },
    {
     "data": {
      "image/png": "[encoded data removed]",
      "text/plain": [
       "<Figure size 432x288 with 1 Axes>"
      ]
     },
     "metadata": {
      "needs_background": "light"
     },
     "output_type": "display_data"
    },
    {
     "data": {
      "image/png": "[encoded data removed]",
      "text/plain": [
       "<Figure size 432x288 with 1 Axes>"
      ]
     },
     "metadata": {
      "needs_background": "light"
     },
     "output_type": "display_data"
    },
    {
     "data": {
      "text/plain": [
       "<Figure size 432x288 with 0 Axes>"
      ]
     },
     "metadata": {},
     "output_type": "display_data"
    }
   ],
   "source": [
    "import matplotlib.pyplot as plt\n",
    "import numpy as np\n",
    "\n",
    "# площадь, цена, число комнат, высота потолков.\n",
    "df.plot(kind='hist', bins=50, range=(12,100), y='total_area')\n",
    "df.plot(kind='hist', y='rooms', range=(0,6), bins=7)\n",
    "df.plot(kind='hist', y='ceiling_height', range=(2,4), bins=10)\n",
    "df.plot(kind='hist', y='last_price',range=(100000, 15000000), bins=50)\n",
    "plt.figure()\n",
    "\n",
    "# Cколько обычно занимает продажа?\n",
    "print(\"Среднее время продажи квартиры: {:.0f}\".format(df['days_exposition'].mean()))\n",
    "print(\"Медианное время продажи квартиры: {:.0f}\".format(df['days_exposition'].median()))\n",
    "df.plot(kind='hist', y='days_exposition', bins=50, range=(0,600), title='days_exposition')\n",
    "plt.figure()\n",
    "\n",
    "# Убрать редкие и выбивающиеся значения.\n",
    "for_boxplot = ['days_exposition', 'rooms','ceiling_height','last_price','total_area']\n",
    "for column in for_boxplot:\n",
    "    df.boxplot(column=column, showbox=True, capprops=({'color':'red'}), notch=True, showmeans=True)\n",
    "    y_end = ((np.percentile(df[column].dropna(), 75) - \n",
    "               np.percentile(df[column].dropna(), 25)) * 1.5 + np.percentile(df[column].dropna(), 75))\n",
    "    y_start = (np.percentile(df[column].dropna(), 25) - \n",
    "             (np.percentile(df[column].dropna(), 75)- np.percentile(df[column].dropna(), 25)) * 1.5) \n",
    "    plt.ylim(y_start, y_end)\n",
    "    plt.figure()\n",
    "\n",
    "df_for_analysis = df.query((' 0 <= rooms <= 4') and ('2.5 <= ceiling_height <= 3.2') and ('30 <= total_area <= 120') \n",
    "                           and ('2000000 <= last_price <= 12000000'))\n",
    "\n",
    "#Какие факторы больше всего влияют на стоимость квартиры? \n",
    "price_value = df_for_analysis.loc[:,('last_price', 'total_area', 'rooms', 'cityCenters_nearest')]\n",
    "#pd.plotting.scatter_matrix(price_value, figsize=(10,10))\n",
    "print(price_value.corr())\n",
    "\n",
    "print(df_for_analysis.pivot_table(index='floor_text', values=('1m', 'last_price', 'total_area'), aggfunc=('median', 'mean', 'sum')))\n",
    "\n",
    "#print(df_for_analysis['last_price'].corr(df_for_analysis['weekday']))\n",
    "#print(df_for_analysis['last_price'].corr(df_for_analysis['month']))\n",
    "#print(df_for_analysis['last_price'].corr(df_for_analysis['year']))\n"
   ]
  },
  {
   "cell_type": "code",
   "execution_count": 7,
   "metadata": {},
   "outputs": [
    {
     "data": {
      "text/plain": [
       "0.8601206801974767"
      ]
     },
     "execution_count": 7,
     "metadata": {},
     "output_type": "execute_result"
    }
   ],
   "source": [
    "### Код ревьювера ###\n",
    "\n",
    "len(df_for_analysis) / len(data)"
   ]
  },
  {
   "cell_type": "markdown",
   "metadata": {},
   "source": [
    ">**<span style=\"color:green\">По графикам и вычислениям все хорошо. Хорошо что для поиска границ для выбросов понятие межквартильного размаха и 25-й и 75-й персентили.</span>**\n",
    ">\n",
    "> **_<span style=\"color:orange\">Я бы не стал искать аномалии в высоте потолков и количестве комнат. Все-таки это не ключевые параметры, определяющие стоимость квартир. И совершенно точно не стал бы исключать объявления с аномальными сроками размещения.  Для нашей задачи исследовательского анализа и поиска зависимостей не стоит слишком сильно усердствовать с удалением выбросов.</span>_**\n"
   ]
  },
  {
   "cell_type": "markdown",
   "metadata": {},
   "source": [
    "### Задача 1:\n",
    "\n",
    "Площадь квартиры: наибольшее количество представленных квартир фигурирует в размере 45м2, 30м2, 60м2.\n",
    "\n",
    "Количество комант: на рынке одинаково представлены 1- и 2-ух комантные квартиры.  Снебольшим отставанием (~30%) представлены 3ех комнатные квартиры. Очень мало представлено квартир с открытой планировкой и студий (\"0\" на графике).\n",
    "\n",
    "Высота потолков:большинство представленных квартир располагает потолками в 2.5 - 2.75 м. \n",
    "\n",
    "Цена: пик цен приходится на 3-4М руб. \n",
    "\n",
    "Аномалия видна именно по дням размещения, т.к. закрываются объявления на 30 / 45 / 60 / 90 дни. Не знаю, по какому принципу работает я.недвижимость, но это либо какое-то мошенническое действие, либо система автоматически закрывает объявления исходя из какого-то принципа. "
   ]
  },
  {
   "cell_type": "markdown",
   "metadata": {},
   "source": [
    "### Задача 2:\n",
    "Медианное время продажи квартиры: 95 дней.\n",
    "Серднее время продажи: 181 день\n",
    "\n",
    "Оптимальное время продажи квартиры находится в районе 45-232 дней. Все что находится за рамками указанных границ является  долгим / быстрым . Необычайно долгими являются продажи >512 дней. \n",
    "\n",
    "### Задача 3:\n",
    "Убираем редкие / выбивающиеся значения:\n",
    "- Дни публикации: оставляем значения в рамка 10 <= x <= 512, как находящиеся в рамках диаграммы размаха. Откидываем значения <10 по причине сомнительности данных. Из необычного стоит отметить большое количество объявления, снятых на 30/45/60/90 дни размещения.\n",
    "- Количество комнат: оставляем срез 0 <= x <= 4, т.к. все остальные являются выбивающимися из общегоя ряда значениями.\n",
    "- Высота потолков: оставляем срез 2.5 <= x <= 3.2, т.к. все остальные являются выбивающимися из общегоя ряда значениями.\n",
    "- Метраж: оставляем срез 30 <= x <= 120\n",
    "- Стоимость квартиры: срез 2М <= x <= 12М"
   ]
  },
  {
   "cell_type": "markdown",
   "metadata": {},
   "source": [
    "### Задача 4:\n",
    "Зависит ли цена от квадратного метра, числа комнат, удалённости от центра:\n",
    "На первый взгляд наибольшая  зависимость видна стоимости от метража - сильная корреляция.\n",
    "Количество комант - средняя корреляция.\n",
    "Расстояние до центра - обратная средняя корреляция.\n",
    "\n",
    "Квадратный метр: нет четкой зависимости от этажности. Наблюдается повышенная стоимость между первым и последним этажом, но промежуточные этажи в в среднем стоят дороже.\n",
    "\n",
    "День / Неделя / Месяц: никак не коррелирует со стоимостью, только с количество объявлений.\n",
    "\n",
    "Возможно при структуризации объявлений от центра СПб и анализа по отдельности будет видна более яркая картина зависимости.\n",
    "\n",
    "##### Обновление_1: \n",
    "матрица корреляций дана в цифрах"
   ]
  },
  {
   "cell_type": "code",
   "execution_count": 8,
   "metadata": {
    "scrolled": true
   },
   "outputs": [],
   "source": [
    "# Корректируем написание населенных пунктов\n",
    "df['locality_name'] = df['locality_name'].str.split()\n",
    "\n",
    "bad_word = ['поселок']\n",
    "counter = 0\n",
    "\n",
    "for row in df.loc[:,'locality_name']:\n",
    "    try:\n",
    "        word_counter = 0\n",
    "        for word in row:\n",
    "            if word in bad_word:\n",
    "                row.remove(word)\n",
    "                row.insert(word_counter, 'посёлок')\n",
    "                word_counter += 1\n",
    "            else:\n",
    "                word_counter += 1\n",
    "                continue\n",
    "    except:\n",
    "            continue\n",
    "            \n",
    "    counter += 1\n",
    "\n",
    "#print(df.loc[37,'locality_name'])"
   ]
  },
  {
   "cell_type": "markdown",
   "metadata": {},
   "source": [
    "разбиваем по словам город объявления и статус населенного пункта. Далее заменяем некорреткное написание \"поселок\" на \"посёлок\", дабы исключить ошибку в дальнейших расчетах"
   ]
  },
  {
   "cell_type": "code",
   "execution_count": 9,
   "metadata": {},
   "outputs": [],
   "source": [
    "counter = 0\n",
    "for row in df.loc[:,'locality_name']:\n",
    "    try:\n",
    "        df.loc[counter, 'locality_name'] = ' '.join(df.loc[counter,'locality_name'])\n",
    "        counter += 1\n",
    "    except:\n",
    "        counter += 1\n",
    "        continue"
   ]
  },
  {
   "cell_type": "markdown",
   "metadata": {},
   "source": [
    "Превращаем данные из списка в строку"
   ]
  },
  {
   "cell_type": "markdown",
   "metadata": {},
   "source": [
    ">\n",
    "> **_<span style=\"color:orange\">Кажется, тут мы слишком усложнили процедуру поиска разного написания городов и населенных пунктов. Можно было привести `посёлок` и `поселок` к одному типу и воспользоваться простой функцией value_counts().</span>_**\n",
    ">\n",
    "\n"
   ]
  },
  {
   "cell_type": "code",
   "execution_count": 10,
   "metadata": {},
   "outputs": [
    {
     "name": "stdout",
     "output_type": "stream",
     "text": [
      "                   Количество_объявлений   Стоимость_1м          Цена\n",
      "locality_name                                                        \n",
      "Санкт-Петербург                  15721.0  114849.005788  8.062507e+06\n",
      "посёлок Мурино                     556.0   85681.758993  3.652361e+06\n",
      "посёлок Шушары                     440.0   78677.379545  4.108082e+06\n",
      "Всеволожск                         398.0   68654.474874  3.789068e+06\n",
      "Пушкин                             369.0  103125.818428  6.469036e+06\n",
      "Колпино                            338.0   75424.571006  3.964021e+06\n",
      "посёлок Парголово                  327.0   90175.886850  4.488075e+06\n",
      "Гатчина                            307.0   68746.110749  3.488337e+06\n",
      "деревня Кудрово                    299.0   92473.588629  4.234158e+06\n",
      "Выборг                             237.0   58141.919831  3.250983e+06\n"
     ]
    }
   ],
   "source": [
    "df_for_analysis = df.query(('10 <= days_exposition <= 512') and (' 0 <= rooms <= 4') \n",
    "                           and ('2.5 <= ceiling_height <= 3.2') and ('30 <= total_area <= 120') \n",
    "                           and ('2000000 <= last_price <= 12000000'))\n",
    "\n",
    "top_10_cities = df_for_analysis['locality_name'].value_counts().head(10).index.tolist()\n",
    "df_top_10_cities = df.query('locality_name in @top_10_cities')\n",
    "\n",
    "top_10_cities_pt = df_top_10_cities.pivot_table(index='locality_name', values=('1m', 'last_price'), aggfunc=('count', 'mean','sum'))\n",
    "top_10_cities_pt.columns = ['Количество_объявлений', 'Стоимость_1м', 'Херня', 'Херня_2', 'Цена', 'Херня_3']\n",
    "top_10_cities_pt = top_10_cities_pt.drop(columns=['Херня', 'Херня_2', 'Херня_3'])\n",
    "print(top_10_cities_pt.sort_values(by='Количество_объявлений', ascending=False))"
   ]
  },
  {
   "cell_type": "markdown",
   "metadata": {},
   "source": [
    "Полученный список - топ 10 городов с наибольшим количеством объявлений.\n",
    "Наибольшая стоимость за 1м. в Санкт-Петербурге, далее следуте Пушкин. Отсает от представленного списка Выборг. По средней стоимости за квартиру разница между Санкт-Петербургом и остальными населенными пунктами (кроме Пушкино) значительно выше."
   ]
  },
  {
   "cell_type": "markdown",
   "metadata": {},
   "source": [
    ">**<span style=\"color:red\">~~Код не работает, поправь, пожалуйста.~~</span>**"
   ]
  },
  {
   "cell_type": "code",
   "execution_count": 11,
   "metadata": {},
   "outputs": [
    {
     "data": {
      "text/plain": [
       "<matplotlib.axes._subplots.AxesSubplot at 0x7f4aa77b7110>"
      ]
     },
     "execution_count": 11,
     "metadata": {},
     "output_type": "execute_result"
    },
    {
     "data": {
      "image/png": "[encoded data removed]",
      "text/plain": [
       "<Figure size 432x288 with 1 Axes>"
      ]
     },
     "metadata": {
      "needs_background": "light"
     },
     "output_type": "display_data"
    }
   ],
   "source": [
    "# Выделяем центр СПб\n",
    "spb_df = df_for_analysis.query('locality_name == \"Санкт-Петербург\"')\n",
    "def center_distance_km(row):\n",
    "    try:\n",
    "        km = round(row['cityCenters_nearest'] / 1000, 0)\n",
    "        return km\n",
    "    except:\n",
    "        return 0\n",
    "\n",
    "df['center_distance_km'] = df.apply(center_distance_km, axis=1)\n",
    "\n",
    "df_for_analysis = df.query(('10 <= days_exposition <= 512') and (' 0 <= rooms <= 4') \n",
    "                           and ('2.5 <= ceiling_height <= 3.2') and ('30 <= total_area <= 120') \n",
    "                           and ('2000000 <= last_price <= 12000000'))\n",
    "\n",
    "spb_df = df_for_analysis.query('locality_name == \"Санкт-Петербург\"')\n",
    "\n",
    "spb_pt = spb_df.pivot_table(index='center_distance_km', values='1m',  aggfunc=('median')).reset_index()\n",
    "spb_pt.plot(x='center_distance_km', y='1m')"
   ]
  },
  {
   "cell_type": "code",
   "execution_count": 12,
   "metadata": {},
   "outputs": [
    {
     "name": "stdout",
     "output_type": "stream",
     "text": [
      "spb_center / total_area =\n",
      "| 5: 35.0 | 25: 55.0 | 50: 76.0 | 75: 107.0 |-1,5 IQR: -23.0 | +1,5 IQR 185.0\n",
      "spb_other / total_area =\n",
      "| 5: 31.0 | 25: 39.2 | 50: 49.7 | 75: 64.5 |-1,5 IQR: 1.3 | +1,5 IQR 102.4\n",
      "spb_center / last_price =\n",
      "| 5: 4099500.0 | 25: 6450000.0 | 50: 8950000.0 | 75: 13900000.0 |-1,5 IQR: -4725000.0 | +1,5 IQR 25075000.0\n",
      "spb_other / last_price =\n",
      "| 5: 2900000.0 | 25: 3800000.0 | 50: 4750000.0 | 75: 6300000.0 |-1,5 IQR: 50000.0 | +1,5 IQR 10050000.0\n",
      "spb_center / rooms =\n",
      "| 5: 1.0 | 25: 2.0 | 50: 3.0 | 75: 3.0 |-1,5 IQR: 0.5 | +1,5 IQR 4.5\n",
      "spb_other / rooms =\n",
      "| 5: 1.0 | 25: 1.0 | 50: 2.0 | 75: 3.0 |-1,5 IQR: -2.0 | +1,5 IQR 6.0\n",
      "spb_center / ceiling_height =\n",
      "| 5: 2.5 | 25: 2.8 | 50: 3.0 | 75: 3.25 |-1,5 IQR: 2.1 | +1,5 IQR 3.9\n",
      "spb_other / ceiling_height =\n",
      "| 5: 2.5 | 25: 2.5 | 50: 2.6 | 75: 2.75 |-1,5 IQR: 2.1 | +1,5 IQR 3.1\n"
     ]
    },
    {
     "data": {
      "text/plain": [
       "<matplotlib.axes._subplots.AxesSubplot at 0x7f4aac17e890>"
      ]
     },
     "execution_count": 12,
     "metadata": {},
     "output_type": "execute_result"
    },
    {
     "data": {
      "image/png": "[encoded data removed]",
      "text/plain": [
       "<Figure size 432x288 with 1 Axes>"
      ]
     },
     "metadata": {
      "needs_background": "light"
     },
     "output_type": "display_data"
    },
    {
     "data": {
      "image/png": "[encoded data removed]",
      "text/plain": [
       "<Figure size 432x288 with 1 Axes>"
      ]
     },
     "metadata": {
      "needs_background": "light"
     },
     "output_type": "display_data"
    },
    {
     "data": {
      "image/png": "[encoded data removed]",
      "text/plain": [
       "<Figure size 432x288 with 1 Axes>"
      ]
     },
     "metadata": {
      "needs_background": "light"
     },
     "output_type": "display_data"
    },
    {
     "data": {
      "image/png": "[encoded data removed]",
      "text/plain": [
       "<Figure size 432x288 with 1 Axes>"
      ]
     },
     "metadata": {
      "needs_background": "light"
     },
     "output_type": "display_data"
    },
    {
     "data": {
      "image/png": "[encoded data removed]",
      "text/plain": [
       "<Figure size 432x288 with 1 Axes>"
      ]
     },
     "metadata": {
      "needs_background": "light"
     },
     "output_type": "display_data"
    },
    {
     "data": {
      "image/png": "[encoded data removed]",
      "text/plain": [
       "<Figure size 432x288 with 1 Axes>"
      ]
     },
     "metadata": {
      "needs_background": "light"
     },
     "output_type": "display_data"
    },
    {
     "data": {
      "image/png": "[encoded data removed]",
      "text/plain": [
       "<Figure size 432x288 with 1 Axes>"
      ]
     },
     "metadata": {
      "needs_background": "light"
     },
     "output_type": "display_data"
    },
    {
     "data": {
      "image/png": "[encoded data removed]",
      "text/plain": [
       "<Figure size 432x288 with 1 Axes>"
      ]
     },
     "metadata": {
      "needs_background": "light"
     },
     "output_type": "display_data"
    }
   ],
   "source": [
    "# Изучение предложенных квартир в СПб\n",
    "spb_center = df.query(('locality_name == \"санкт-петербург\"') and ('center_distance_km < 9'))\n",
    "spb_other = df.query(('locality_name == \"санкт-петербург\"') and ('center_distance_km >= 9'))\n",
    "\n",
    "def percentiles(data, column):\n",
    "    IQR_left = (np.percentile(data[column].dropna(), 25) - \n",
    "             (np.percentile(data[column].dropna(), 75)- np.percentile(data[column].dropna(), 25)) * 1.5).round(1)\n",
    "    IQR_right = ((np.percentile(data[column].dropna(), 75) - \n",
    "               np.percentile(data[column].dropna(), 25)) * 1.5 + np.percentile(data[column].dropna(), 75)).round(1)\n",
    "    return print('| 5:', (np.percentile(data[column].dropna(), 5)), '| 25:', (np.percentile(data[column].dropna(), 25)), '| 50:', (np.percentile(data[column].dropna(), 50)),\n",
    "                '| 75:', (np.percentile(data[column].dropna(), 75)), '|-1,5 IQR:', IQR_left, '| +1,5 IQR', IQR_right)\n",
    "\n",
    "# Сравнение площади квартиры\n",
    "print('spb_center / total_area =')\n",
    "percentiles(spb_center, 'total_area')\n",
    "print('spb_other / total_area =')\n",
    "percentiles(spb_other, 'total_area')\n",
    "\n",
    "spb_center.plot(kind='hist', y='total_area', bins=40, range=(15,200), title='Center. Total Area')\n",
    "spb_other.plot(kind='hist', y='total_area', bins=40, range=(15,100), title='Other. Total Area')\n",
    "\n",
    "# Сравнение стоимости квартиры\n",
    "print('spb_center / last_price =')\n",
    "percentiles(spb_center, 'last_price')\n",
    "print('spb_other / last_price =')\n",
    "percentiles(spb_other, 'last_price')\n",
    "\n",
    "spb_center.plot(kind='hist', y='last_price', bins=40, range=(0, 25100000), title='Center. Price')\n",
    "spb_other.plot(kind='hist', y='last_price', bins=40, range=(50000, 10500000), title='Other. Price')\n",
    "\n",
    "# Сравнение числа комнат\n",
    "print('spb_center / rooms =')\n",
    "percentiles(spb_center, 'rooms')\n",
    "print('spb_other / rooms =')\n",
    "percentiles(spb_other, 'rooms')\n",
    "\n",
    "spb_center.plot(kind='hist', y='rooms', bins=10, range=(0, 10), title='Center. Rooms')\n",
    "spb_other.plot(kind='hist', y='rooms', bins=8, range=(0, 7), title='Other. Rooms')\n",
    "\n",
    "# Сравнение высоты потолков\n",
    "print('spb_center / ceiling_height =')\n",
    "percentiles(spb_center, 'ceiling_height')\n",
    "print('spb_other / ceiling_height =')\n",
    "percentiles(spb_other, 'ceiling_height')\n",
    "\n",
    "spb_center.plot(kind='hist', y='ceiling_height', bins=10, range=(0, 10), title='Center. Height')\n",
    "spb_other.plot(kind='hist', y='ceiling_height', bins=8, range=(0, 7), title='Other. Height')"
   ]
  },
  {
   "cell_type": "code",
   "execution_count": 13,
   "metadata": {},
   "outputs": [
    {
     "name": "stdout",
     "output_type": "stream",
     "text": [
      "                     last_price  total_area     rooms  cityCenters_nearest\n",
      "last_price             1.000000    0.723116  0.464869            -0.112767\n",
      "total_area             0.723116    1.000000  0.802339            -0.177669\n",
      "rooms                  0.464869    0.802339  1.000000            -0.205184\n",
      "cityCenters_nearest   -0.112767   -0.177669 -0.205184             1.000000\n",
      "                     last_price  total_area     rooms  cityCenters_nearest\n",
      "last_price             1.000000    0.756437  0.482540            -0.131332\n",
      "total_area             0.756437    1.000000  0.789460             0.102612\n",
      "rooms                  0.482540    0.789460  1.000000             0.079085\n",
      "cityCenters_nearest   -0.131332    0.102612  0.079085             1.000000\n",
      "                       1m              last_price           \n",
      "                     mean    median          mean     median\n",
      "floor_text                                                  \n",
      "другой      129271.305243  124000.0  1.026971e+07  8950000.0\n",
      "первый      116164.953425  107207.0  8.021658e+06  6800000.0\n",
      "последний   122186.439189  112403.0  9.983769e+06  8600000.0\n",
      "                       1m              last_price           \n",
      "                     mean    median          mean     median\n",
      "floor_text                                                  \n",
      "другой      101643.899784  100000.0  5.195083e+06  4800000.0\n",
      "первый       89027.563596   86868.0  4.753679e+06  4319500.0\n",
      "последний    95693.345120   93248.0  4.880841e+06  4490000.0\n"
     ]
    }
   ],
   "source": [
    "# убираем выбросы / находим корреляции\n",
    "spb_center_analysis = spb_center.query((' 0 <= rooms <= 5') and ('2.5 <= ceiling_height <= 3.9') and ('35 <= total_area <= 185') \n",
    "                           and ('4099500 <= last_price <= 25075000'))\n",
    "spb_other_analysis = spb_other.query((' 0 <= rooms <= 6') and ('2.5 <= ceiling_height <= 3.1') and ('31 <= total_area <= 102') \n",
    "                           and ('2900000 <= last_price <= 10500000'))\n",
    "\n",
    "price_value_spb_center = spb_center_analysis.loc[:,('last_price', 'total_area', 'rooms', 'cityCenters_nearest')]\n",
    "price_value_spb_other = spb_other_analysis.loc[:,('last_price', 'total_area', 'rooms', 'cityCenters_nearest')]\n",
    "print(price_value_spb_center.corr())\n",
    "print(price_value_spb_other.corr())\n",
    "\n",
    "print(spb_center_analysis.pivot_table(index='floor_text', values=('1m', 'last_price'), aggfunc=('median', 'mean')))\n",
    "print(spb_other_analysis.pivot_table(index='floor_text', values=('1m', 'last_price'), aggfunc=('median', 'mean')))\n",
    "\n",
    "\n",
    "#print(spb_center_analysis['last_price'].corr(spb_center_analysis['weekday']))\n",
    "#print(spb_center_analysis['last_price'].corr(spb_center_analysis['month']))\n",
    "#print(spb_center_analysis['last_price'].corr(spb_center_analysis['year']))\n",
    "\n",
    "#print(spb_other_analysis['last_price'].corr(spb_other_analysis['weekday']))\n",
    "#print(spb_other_analysis['last_price'].corr(spb_other_analysis['month']))\n",
    "#print(spb_other_analysis['last_price'].corr(spb_other_analysis['year']))\n"
   ]
  },
  {
   "cell_type": "code",
   "execution_count": 25,
   "metadata": {},
   "outputs": [
    {
     "data": {
      "text/html": [
       "<style  type=\"text/css\" >\n",
       "    #T_e309bd8c_aa2d_11ea_955e_02420a390030row0_col0 {\n",
       "            background-color:  #a4da9e;\n",
       "            color:  #000000;\n",
       "        }    #T_e309bd8c_aa2d_11ea_955e_02420a390030row1_col0 {\n",
       "            background-color:  #00441b;\n",
       "            color:  #f1f1f1;\n",
       "        }    #T_e309bd8c_aa2d_11ea_955e_02420a390030row2_col0 {\n",
       "            background-color:  #17813d;\n",
       "            color:  #f1f1f1;\n",
       "        }    #T_e309bd8c_aa2d_11ea_955e_02420a390030row3_col0 {\n",
       "            background-color:  #46ae60;\n",
       "            color:  #000000;\n",
       "        }    #T_e309bd8c_aa2d_11ea_955e_02420a390030row4_col0 {\n",
       "            background-color:  #aedea7;\n",
       "            color:  #000000;\n",
       "        }    #T_e309bd8c_aa2d_11ea_955e_02420a390030row5_col0 {\n",
       "            background-color:  #aedea7;\n",
       "            color:  #000000;\n",
       "        }    #T_e309bd8c_aa2d_11ea_955e_02420a390030row6_col0 {\n",
       "            background-color:  #2d954d;\n",
       "            color:  #000000;\n",
       "        }    #T_e309bd8c_aa2d_11ea_955e_02420a390030row7_col0 {\n",
       "            background-color:  #b5e1ae;\n",
       "            color:  #000000;\n",
       "        }    #T_e309bd8c_aa2d_11ea_955e_02420a390030row8_col0 {\n",
       "            background-color:  #c1e6ba;\n",
       "            color:  #000000;\n",
       "        }    #T_e309bd8c_aa2d_11ea_955e_02420a390030row9_col0 {\n",
       "            background-color:  #d2edcc;\n",
       "            color:  #000000;\n",
       "        }    #T_e309bd8c_aa2d_11ea_955e_02420a390030row10_col0 {\n",
       "            background-color:  #cdecc7;\n",
       "            color:  #000000;\n",
       "        }    #T_e309bd8c_aa2d_11ea_955e_02420a390030row11_col0 {\n",
       "            background-color:  #46ae60;\n",
       "            color:  #000000;\n",
       "        }    #T_e309bd8c_aa2d_11ea_955e_02420a390030row12_col0 {\n",
       "            background-color:  #bbe4b4;\n",
       "            color:  #000000;\n",
       "        }    #T_e309bd8c_aa2d_11ea_955e_02420a390030row13_col0 {\n",
       "            background-color:  #ccebc6;\n",
       "            color:  #000000;\n",
       "        }    #T_e309bd8c_aa2d_11ea_955e_02420a390030row14_col0 {\n",
       "            background-color:  #f7fcf5;\n",
       "            color:  #000000;\n",
       "        }    #T_e309bd8c_aa2d_11ea_955e_02420a390030row15_col0 {\n",
       "            background-color:  #a9dca3;\n",
       "            color:  #000000;\n",
       "        }    #T_e309bd8c_aa2d_11ea_955e_02420a390030row16_col0 {\n",
       "            background-color:  #bce4b5;\n",
       "            color:  #000000;\n",
       "        }    #T_e309bd8c_aa2d_11ea_955e_02420a390030row17_col0 {\n",
       "            background-color:  #a2d99c;\n",
       "            color:  #000000;\n",
       "        }    #T_e309bd8c_aa2d_11ea_955e_02420a390030row18_col0 {\n",
       "            background-color:  #ceecc8;\n",
       "            color:  #000000;\n",
       "        }    #T_e309bd8c_aa2d_11ea_955e_02420a390030row19_col0 {\n",
       "            background-color:  #afdfa8;\n",
       "            color:  #000000;\n",
       "        }    #T_e309bd8c_aa2d_11ea_955e_02420a390030row20_col0 {\n",
       "            background-color:  #3ca559;\n",
       "            color:  #000000;\n",
       "        }    #T_e309bd8c_aa2d_11ea_955e_02420a390030row21_col0 {\n",
       "            background-color:  #c7e9c0;\n",
       "            color:  #000000;\n",
       "        }    #T_e309bd8c_aa2d_11ea_955e_02420a390030row22_col0 {\n",
       "            background-color:  #c4e8bd;\n",
       "            color:  #000000;\n",
       "        }    #T_e309bd8c_aa2d_11ea_955e_02420a390030row23_col0 {\n",
       "            background-color:  #c3e7bc;\n",
       "            color:  #000000;\n",
       "        }    #T_e309bd8c_aa2d_11ea_955e_02420a390030row24_col0 {\n",
       "            background-color:  #b6e2af;\n",
       "            color:  #000000;\n",
       "        }    #T_e309bd8c_aa2d_11ea_955e_02420a390030row25_col0 {\n",
       "            background-color:  #e1f3dc;\n",
       "            color:  #000000;\n",
       "        }    #T_e309bd8c_aa2d_11ea_955e_02420a390030row26_col0 {\n",
       "            background-color:  #f7fcf5;\n",
       "            color:  #000000;\n",
       "        }</style><table id=\"T_e309bd8c_aa2d_11ea_955e_02420a390030\" ><thead>    <tr>        <th class=\"blank level0\" ></th>        <th class=\"col_heading level0 col0\" >last_price</th>    </tr></thead><tbody>\n",
       "                <tr>\n",
       "                        <th id=\"T_e309bd8c_aa2d_11ea_955e_02420a390030level0_row0\" class=\"row_heading level0 row0\" >total_images</th>\n",
       "                        <td id=\"T_e309bd8c_aa2d_11ea_955e_02420a390030row0_col0\" class=\"data row0 col0\" >0.14525</td>\n",
       "            </tr>\n",
       "            <tr>\n",
       "                        <th id=\"T_e309bd8c_aa2d_11ea_955e_02420a390030level0_row1\" class=\"row_heading level0 row1\" >last_price</th>\n",
       "                        <td id=\"T_e309bd8c_aa2d_11ea_955e_02420a390030row1_col0\" class=\"data row1 col0\" >1</td>\n",
       "            </tr>\n",
       "            <tr>\n",
       "                        <th id=\"T_e309bd8c_aa2d_11ea_955e_02420a390030level0_row2\" class=\"row_heading level0 row2\" >total_area</th>\n",
       "                        <td id=\"T_e309bd8c_aa2d_11ea_955e_02420a390030row2_col0\" class=\"data row2 col0\" >0.717596</td>\n",
       "            </tr>\n",
       "            <tr>\n",
       "                        <th id=\"T_e309bd8c_aa2d_11ea_955e_02420a390030level0_row3\" class=\"row_heading level0 row3\" >rooms</th>\n",
       "                        <td id=\"T_e309bd8c_aa2d_11ea_955e_02420a390030row3_col0\" class=\"data row3 col0\" >0.475633</td>\n",
       "            </tr>\n",
       "            <tr>\n",
       "                        <th id=\"T_e309bd8c_aa2d_11ea_955e_02420a390030level0_row4\" class=\"row_heading level0 row4\" >ceiling_height</th>\n",
       "                        <td id=\"T_e309bd8c_aa2d_11ea_955e_02420a390030row4_col0\" class=\"data row4 col0\" >0.10024</td>\n",
       "            </tr>\n",
       "            <tr>\n",
       "                        <th id=\"T_e309bd8c_aa2d_11ea_955e_02420a390030level0_row5\" class=\"row_heading level0 row5\" >floors_total</th>\n",
       "                        <td id=\"T_e309bd8c_aa2d_11ea_955e_02420a390030row5_col0\" class=\"data row5 col0\" >0.101986</td>\n",
       "            </tr>\n",
       "            <tr>\n",
       "                        <th id=\"T_e309bd8c_aa2d_11ea_955e_02420a390030level0_row6\" class=\"row_heading level0 row6\" >living_area</th>\n",
       "                        <td id=\"T_e309bd8c_aa2d_11ea_955e_02420a390030row6_col0\" class=\"data row6 col0\" >0.609101</td>\n",
       "            </tr>\n",
       "            <tr>\n",
       "                        <th id=\"T_e309bd8c_aa2d_11ea_955e_02420a390030level0_row7\" class=\"row_heading level0 row7\" >floor</th>\n",
       "                        <td id=\"T_e309bd8c_aa2d_11ea_955e_02420a390030row7_col0\" class=\"data row7 col0\" >0.0719211</td>\n",
       "            </tr>\n",
       "            <tr>\n",
       "                        <th id=\"T_e309bd8c_aa2d_11ea_955e_02420a390030level0_row8\" class=\"row_heading level0 row8\" >is_apartment</th>\n",
       "                        <td id=\"T_e309bd8c_aa2d_11ea_955e_02420a390030row8_col0\" class=\"data row8 col0\" >0.0184943</td>\n",
       "            </tr>\n",
       "            <tr>\n",
       "                        <th id=\"T_e309bd8c_aa2d_11ea_955e_02420a390030level0_row9\" class=\"row_heading level0 row9\" >studio</th>\n",
       "                        <td id=\"T_e309bd8c_aa2d_11ea_955e_02420a390030row9_col0\" class=\"data row9 col0\" >-0.0710464</td>\n",
       "            </tr>\n",
       "            <tr>\n",
       "                        <th id=\"T_e309bd8c_aa2d_11ea_955e_02420a390030level0_row10\" class=\"row_heading level0 row10\" >open_plan</th>\n",
       "                        <td id=\"T_e309bd8c_aa2d_11ea_955e_02420a390030row10_col0\" class=\"data row10 col0\" >-0.0481564</td>\n",
       "            </tr>\n",
       "            <tr>\n",
       "                        <th id=\"T_e309bd8c_aa2d_11ea_955e_02420a390030level0_row11\" class=\"row_heading level0 row11\" >kitchen_area</th>\n",
       "                        <td id=\"T_e309bd8c_aa2d_11ea_955e_02420a390030row11_col0\" class=\"data row11 col0\" >0.474843</td>\n",
       "            </tr>\n",
       "            <tr>\n",
       "                        <th id=\"T_e309bd8c_aa2d_11ea_955e_02420a390030level0_row12\" class=\"row_heading level0 row12\" >balcony</th>\n",
       "                        <td id=\"T_e309bd8c_aa2d_11ea_955e_02420a390030row12_col0\" class=\"data row12 col0\" >0.0426625</td>\n",
       "            </tr>\n",
       "            <tr>\n",
       "                        <th id=\"T_e309bd8c_aa2d_11ea_955e_02420a390030level0_row13\" class=\"row_heading level0 row13\" >airports_nearest</th>\n",
       "                        <td id=\"T_e309bd8c_aa2d_11ea_955e_02420a390030row13_col0\" class=\"data row13 col0\" >-0.0410861</td>\n",
       "            </tr>\n",
       "            <tr>\n",
       "                        <th id=\"T_e309bd8c_aa2d_11ea_955e_02420a390030level0_row14\" class=\"row_heading level0 row14\" >cityCenters_nearest</th>\n",
       "                        <td id=\"T_e309bd8c_aa2d_11ea_955e_02420a390030row14_col0\" class=\"data row14 col0\" >-0.347987</td>\n",
       "            </tr>\n",
       "            <tr>\n",
       "                        <th id=\"T_e309bd8c_aa2d_11ea_955e_02420a390030level0_row15\" class=\"row_heading level0 row15\" >parks_around3000</th>\n",
       "                        <td id=\"T_e309bd8c_aa2d_11ea_955e_02420a390030row15_col0\" class=\"data row15 col0\" >0.124518</td>\n",
       "            </tr>\n",
       "            <tr>\n",
       "                        <th id=\"T_e309bd8c_aa2d_11ea_955e_02420a390030level0_row16\" class=\"row_heading level0 row16\" >parks_nearest</th>\n",
       "                        <td id=\"T_e309bd8c_aa2d_11ea_955e_02420a390030row16_col0\" class=\"data row16 col0\" >0.0400657</td>\n",
       "            </tr>\n",
       "            <tr>\n",
       "                        <th id=\"T_e309bd8c_aa2d_11ea_955e_02420a390030level0_row17\" class=\"row_heading level0 row17\" >ponds_around3000</th>\n",
       "                        <td id=\"T_e309bd8c_aa2d_11ea_955e_02420a390030row17_col0\" class=\"data row17 col0\" >0.152183</td>\n",
       "            </tr>\n",
       "            <tr>\n",
       "                        <th id=\"T_e309bd8c_aa2d_11ea_955e_02420a390030level0_row18\" class=\"row_heading level0 row18\" >ponds_nearest</th>\n",
       "                        <td id=\"T_e309bd8c_aa2d_11ea_955e_02420a390030row18_col0\" class=\"data row18 col0\" >-0.0527779</td>\n",
       "            </tr>\n",
       "            <tr>\n",
       "                        <th id=\"T_e309bd8c_aa2d_11ea_955e_02420a390030level0_row19\" class=\"row_heading level0 row19\" >days_exposition</th>\n",
       "                        <td id=\"T_e309bd8c_aa2d_11ea_955e_02420a390030row19_col0\" class=\"data row19 col0\" >0.0957671</td>\n",
       "            </tr>\n",
       "            <tr>\n",
       "                        <th id=\"T_e309bd8c_aa2d_11ea_955e_02420a390030level0_row20\" class=\"row_heading level0 row20\" >1m</th>\n",
       "                        <td id=\"T_e309bd8c_aa2d_11ea_955e_02420a390030row20_col0\" class=\"data row20 col0\" >0.521906</td>\n",
       "            </tr>\n",
       "            <tr>\n",
       "                        <th id=\"T_e309bd8c_aa2d_11ea_955e_02420a390030level0_row21\" class=\"row_heading level0 row21\" >weekday</th>\n",
       "                        <td id=\"T_e309bd8c_aa2d_11ea_955e_02420a390030row21_col0\" class=\"data row21 col0\" >-0.00909806</td>\n",
       "            </tr>\n",
       "            <tr>\n",
       "                        <th id=\"T_e309bd8c_aa2d_11ea_955e_02420a390030level0_row22\" class=\"row_heading level0 row22\" >month</th>\n",
       "                        <td id=\"T_e309bd8c_aa2d_11ea_955e_02420a390030row22_col0\" class=\"data row22 col0\" >0.00237435</td>\n",
       "            </tr>\n",
       "            <tr>\n",
       "                        <th id=\"T_e309bd8c_aa2d_11ea_955e_02420a390030level0_row23\" class=\"row_heading level0 row23\" >year</th>\n",
       "                        <td id=\"T_e309bd8c_aa2d_11ea_955e_02420a390030row23_col0\" class=\"data row23 col0\" >0.00573274</td>\n",
       "            </tr>\n",
       "            <tr>\n",
       "                        <th id=\"T_e309bd8c_aa2d_11ea_955e_02420a390030level0_row24\" class=\"row_heading level0 row24\" >living_ratio</th>\n",
       "                        <td id=\"T_e309bd8c_aa2d_11ea_955e_02420a390030row24_col0\" class=\"data row24 col0\" >0.0635953</td>\n",
       "            </tr>\n",
       "            <tr>\n",
       "                        <th id=\"T_e309bd8c_aa2d_11ea_955e_02420a390030level0_row25\" class=\"row_heading level0 row25\" >kitchen_ratio</th>\n",
       "                        <td id=\"T_e309bd8c_aa2d_11ea_955e_02420a390030row25_col0\" class=\"data row25 col0\" >-0.154161</td>\n",
       "            </tr>\n",
       "            <tr>\n",
       "                        <th id=\"T_e309bd8c_aa2d_11ea_955e_02420a390030level0_row26\" class=\"row_heading level0 row26\" >center_distance_km</th>\n",
       "                        <td id=\"T_e309bd8c_aa2d_11ea_955e_02420a390030row26_col0\" class=\"data row26 col0\" >-0.348411</td>\n",
       "            </tr>\n",
       "    </tbody></table>"
      ],
      "text/plain": [
       "<pandas.io.formats.style.Styler at 0x7f4aac839310>"
      ]
     },
     "execution_count": 25,
     "metadata": {},
     "output_type": "execute_result"
    }
   ],
   "source": [
    "### Код ревьювера ###\n",
    "\n",
    "matrix_corr = df_for_analysis.corr()\n",
    "matrix_corr = matrix_corr[['last_price']]\n",
    "matrix_corr.style.background_gradient(cmap='Greens')"
   ]
  },
  {
   "cell_type": "markdown",
   "metadata": {},
   "source": [
    "### Задача 4:\n",
    "Зависит ли цена от квадратного метра, числа комнат, удалённости от центра:\n",
    "На первый взгляд наибольшая  зависимость видна стоимости от метража - сильная корреляция.\n",
    "Количество комант - средняя корреляция.\n",
    "Расстояние до центра - обратная средняя корреляция.\n",
    "\n",
    "Квадратный метр: нет четкой зависимости от этажности. Наблюдается повышенная стоимость между первым и последним этажом, но промежуточные этажи в в среднем стоят дороже.\n",
    "\n",
    "День / Неделя / Месяц: никак не коррелирует со стоимостью, только с количество объявлений.\n",
    "\n",
    "Возможно при структуризации объявлений от центра СПб и анализа по отдельности будет видна более яркая картина зависимости. \n",
    "\n",
    "### Задача 5:\n",
    "Выявлены и указаны топ 10 городов с наибольшим количеством объявлений о продаже:\n",
    "Самая низкая средняя стоимость 1м2 в Выборге, самая высокая - Санкт-Петербург. Наибольшая разница между минимальной и максимальной стоимостью зафиксированы также в Санкт-Петербурге. \n",
    "\n",
    "### Задание 6:\n",
    "Определим центральную зону как 8км от 0км.\n",
    "В сравнении с центром и остальной частью СПб можно отметить, что почти ~25% квартир в центре лучше 75% квартир в оставшихся районах (исходя из представленных метрик). Исключением является количество комнат, что связано скорее всего с простором имеющихся комнат.\n",
    "\n",
    "Завсимости между центром и остальыми районами почти одинакова. Сильная зависимость имеется только по параметру общего метража, средняя зависимость от количества комнат. Этажность не сильно коррелирует со стоимостью за квадратный метр, но стоимость квартиры растет для квартир, выше первого этажа. \n",
    "\n",
    "\n",
    "\n"
   ]
  },
  {
   "cell_type": "markdown",
   "metadata": {},
   "source": [
    ">**_<span style=\"color:red\">~~Почини код выше и раздели, пожалуйста, свою работу на структурные блоки в соответствии с порядком задач в задании. Каждый пункт - это решение отдельной задачи проекта. Сначала заголовок что мы делаем, затем ячейки с кодом и в конце каждой задачи обязательно добавляй вывод, где кратко опиши какие ответы мы получили, какие методы ты используешь  и по возможности добавь гипотезы о природе наблюдаемых тобой явлений.~~</span>_**\n",
    ">\n",
    ">**_<span style=\"color:red\">~~В 4-ом пункте ты пишешь о выявленных зависимостях. Чтобы эти выводы чем-то подкрепить, добавь, пожалуйста матрицу корреляций. Это позволит более явно выделить параметры оказывающие максимальное влияние на цену недвижимости.~~</span>_**\n",
    ">\n",
    ">**_<span style=\"color:green\">По остальным выводам и наблюдениям — соглашусь, все хорошо.</span>_**"
   ]
  },
  {
   "cell_type": "markdown",
   "metadata": {},
   "source": [
    "### Шаг 5. Общий вывод"
   ]
  },
  {
   "cell_type": "markdown",
   "metadata": {},
   "source": [
    "На основании полученных и заполненных пропущенных данных были убраны выбивающиеся значения и получен анализ:\n",
    "- Наиболее распространненными являются квартиры 30/45/60м2, 1 или 2ух комнатные, с потолками 2'5-2'75 м и ценой 3-4Млн. руб.\n",
    "- Медианное время продажи ~95 дней / Среднее ~181 дней, что говорит о выбросах в больших цифрах.\n",
    "- Со стоимостью коррелирует напрямую площадь квартиры и частично количество комнат.\n",
    "- Если сравнивать на примере города СПб, то корреляции схожи. Из изученных параметров разница заметна в росте стоимости квартир последний / другие и квартир, располагающихся на первом этаже.\n",
    "\n",
    "P.S. Прошу прощения за общую неопрятность и скудность. Очень торопился, видимо в v2, после комментариев, поправлю по возможности / или необходимости."
   ]
  },
  {
   "cell_type": "markdown",
   "metadata": {},
   "source": [
    ">**В целом мне понравился твой проект, видно, что у тебя хорошо получилось усвоить материалы спринта и умело применить новые навыки на практике. Но нужно еще немного доработать проект и исправить ряд недочётов. Буду ждать доделанный проект на повторную проверку. Успехов!**\n",
    ">\n",
    ">**На будущее хотел бы порекомендовать тебе большее внимание уделять структуре своих работ — это очень важное качество в работе аналитика. Иногда в работе приходится возвращаться к своим старым ноутбукам и если они плохо организованы и в них нет комментариев к коду и описания промежуточных этапов работать с ними становится очень тяжело :)**\n",
    ">\n",
    ">**Update: Спасибо тебе за работу над ошибками, теперь проект можно зачесть. Поздравляю!**\n",
    "\n",
    "\n"
   ]
  },
  {
   "cell_type": "markdown",
   "metadata": {},
   "source": [
    "### Чек-лист готовности проекта\n",
    "\n",
    "Поставьте 'x' в выполненных пунктах. Далее нажмите Shift+Enter."
   ]
  },
  {
   "cell_type": "markdown",
   "metadata": {},
   "source": [
    "- [x]  открыт файл\n",
    "- [x]  файлы изучены (выведены первые строки, метод info())\n",
    "- [x]  определены пропущенные значения\n",
    "- [x]  заполнены пропущенные значения\n",
    "- [x]  есть пояснение, какие пропущенные значения обнаружены\n",
    "- [x]  изменены типы данных\n",
    "- [x]  есть пояснение, в каких столбцах изменены типы и почему\n",
    "- [x]  посчитано и добавлено в таблицу: цена квадратного метра\n",
    "- [x]  посчитано и добавлено в таблицу: день недели, месяц и год публикации объявления\n",
    "- [x]  посчитано и добавлено в таблицу: этаж квартиры; варианты — первый, последний, другой\n",
    "- [x]  посчитано и добавлено в таблицу: соотношение жилой и общей площади, а также отношение площади кухни к общей\n",
    "- [x]  изучены следующие параметры: площадь, цена, число комнат, высота потолков\n",
    "- [x]  построены гистограммы для каждого параметра\n",
    "- [x]  выполнено задание: \"Изучите время продажи квартиры. Постройте гистограмму. Посчитайте среднее и медиану. Опишите, сколько обычно занимает продажа. Когда можно считать, что продажи прошли очень быстро, а когда необычно долго?\"\n",
    "- [x]  выполнено задание: \"Уберите редкие и выбивающиеся значения. Опишите, какие особенности обнаружили.\"\n",
    "- [x]  выполнено задание: \"Какие факторы больше всего влияют на стоимость квартиры? Изучите, зависит ли цена от квадратного метра, числа комнат, этажа (первого или последнего), удалённости от центра. Также изучите зависимость от даты размещения: дня недели, месяца и года. \"Выберите 10 населённых пунктов с наибольшим числом объявлений. Посчитайте среднюю цену квадратного метра в этих населённых пунктах. Выделите населённые пункты с самой высокой и низкой стоимостью жилья. Эти данные можно найти по имени в столбце '*locality_name'*. \"\n",
    "- [x]  выполнено задание: \"Изучите предложения квартир: для каждой квартиры есть информация о расстоянии до центра. Выделите квартиры в Санкт-Петербурге (*'locality_name'*). Ваша задача — выяснить, какая область входит в центр. Создайте столбец с расстоянием до центра в километрах: округлите до целых значений. После этого посчитайте среднюю цену для каждого километра. Постройте график: он должен показывать, как цена зависит от удалённости от центра. Определите границу, где график сильно меняется — это и будет центральная зона. \"\n",
    "- [x]  выполнено задание: \"Выделите сегмент квартир в центре. Проанализируйте эту территорию и изучите следующие параметры: площадь, цена, число комнат, высота потолков. Также выделите факторы, которые влияют на стоимость квартиры (число комнат, этаж, удалённость от центра, дата размещения объявления). Сделайте выводы. Отличаются ли они от общих выводов по всему городу?\"\n",
    "- [x]  в каждом этапе есть выводы\n",
    "- [x]  есть общий вывод"
   ]
  }
 ],
 "metadata": {
  "kernelspec": {
   "display_name": "Python 3 (ipykernel)",
   "language": "python",
   "name": "python3"
  },
  "language_info": {
   "codemirror_mode": {
    "name": "ipython",
    "version": 3
   },
   "file_extension": ".py",
   "mimetype": "text/x-python",
   "name": "python",
   "nbconvert_exporter": "python",
   "pygments_lexer": "ipython3",
   "version": "3.10.2"
  }
 },
 "nbformat": 4,
 "nbformat_minor": 2
}

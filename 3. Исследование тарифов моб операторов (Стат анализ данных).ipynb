{
 "cells": [
  {
   "cell_type": "markdown",
   "metadata": {},
   "source": [
    "<div style=\"border:solid green 2px; padding: 20px\"> <h1 style=\"color:green; margin-bottom:20px\">Комментарий наставника</h1>\n",
    "\n",
    "Привет! Меня зовут - Сысоева Вера.\n",
    "    \n",
    "Далее в файле мои комментарии ты сможешь найти в ячейках, аналогичных данной ( если рамки комментария зелёные - всё сделано правильно; жёлтые - есть замечания, но не критично; красные - нужно переделать). Не удаляй эти комментарии и постарайся учесть их в ходе выполнения проекта."
   ]
  },
  {
   "cell_type": "markdown",
   "metadata": {},
   "source": [
    "#  Описание задачи"
   ]
  },
  {
   "cell_type": "markdown",
   "metadata": {},
   "source": [
    "Клиентам предлагают два тарифных плана: «Смарт» и «Ультра». Чтобы скорректировать рекламный бюджет, коммерческий департамент хочет понять, какой тариф приносит больше денег.\n",
    "\n",
    "Предстоит сделать предварительный анализ тарифов на небольшой выборке клиентов. В вашем распоряжении данные 500 пользователей «Мегалайна»: кто они, откуда, каким тарифом пользуются, сколько звонков и сообщений каждый отправил за 2018 год. Нужно проанализировать поведение клиентов и сделать вывод — какой тариф лучше."
   ]
  },
  {
   "cell_type": "markdown",
   "metadata": {},
   "source": [
    "### Шаг 1. Открываем файл с данными и изучаем общую информацию"
   ]
  },
  {
   "cell_type": "code",
   "execution_count": 1,
   "metadata": {
    "scrolled": true
   },
   "outputs": [],
   "source": [
    "import pandas as pd\n",
    "import numpy as np\n",
    "import matplotlib.pyplot as plt\n",
    "\n",
    "calls = pd.read_csv('C:/# Work/Programming/Я.Практикум/4. Статистический анализ данных/Datasets/calls.csv')\n",
    "internet = pd.read_csv('C:/# Work/Programming/Я.Практикум/4. Статистический анализ данных/Datasets/internet.csv')\n",
    "messages = pd.read_csv('C:/# Work/Programming/Я.Практикум/4. Статистический анализ данных/Datasets/messages.csv')\n",
    "tariffs = pd.read_csv('C:/# Work/Programming/Я.Практикум/4. Статистический анализ данных/Datasets/tariffs.csv')\n",
    "users = pd.read_csv('C:/# Work/Programming/Я.Практикум/4. Статистический анализ данных/Datasets/users.csv')"
   ]
  },
  {
   "cell_type": "markdown",
   "metadata": {},
   "source": [
    "#### База данных \"Calls\""
   ]
  },
  {
   "cell_type": "code",
   "execution_count": 2,
   "metadata": {
    "scrolled": true
   },
   "outputs": [
    {
     "name": "stdout",
     "output_type": "stream",
     "text": [
      "       id   call_date  duration  user_id\n",
      "0  1000_0  2018-07-25      0.00     1000\n",
      "1  1000_1  2018-08-17      0.00     1000\n",
      "2  1000_2  2018-06-11      2.85     1000\n",
      "3  1000_3  2018-09-21     13.80     1000\n",
      "4  1000_4  2018-12-15      5.18     1000\n",
      "\n",
      "\n",
      "<class 'pandas.core.frame.DataFrame'>\n",
      "RangeIndex: 202607 entries, 0 to 202606\n",
      "Data columns (total 4 columns):\n",
      " #   Column     Non-Null Count   Dtype  \n",
      "---  ------     --------------   -----  \n",
      " 0   id         202607 non-null  object \n",
      " 1   call_date  202607 non-null  object \n",
      " 2   duration   202607 non-null  float64\n",
      " 3   user_id    202607 non-null  int64  \n",
      "dtypes: float64(1), int64(1), object(2)\n",
      "memory usage: 6.2+ MB\n",
      "None\n",
      "\n",
      "\n",
      "0\n"
     ]
    }
   ],
   "source": [
    "print(calls.head())\n",
    "print('\\n')\n",
    "print(calls.info())\n",
    "print('\\n')\n",
    "print(calls.duplicated().sum())"
   ]
  },
  {
   "cell_type": "markdown",
   "metadata": {},
   "source": [
    "Вывод:\n",
    "- Необходимо изменить тип данные в колонке с датой\n",
    "- Необходимо округлить данные в колонке с длительностью разговора согласно вводным задачи\n",
    "\n",
    "Визуально остальные данные выглядят корректными"
   ]
  },
  {
   "cell_type": "markdown",
   "metadata": {},
   "source": [
    "#### База данных \"Internet\""
   ]
  },
  {
   "cell_type": "code",
   "execution_count": 3,
   "metadata": {
    "scrolled": true
   },
   "outputs": [
    {
     "name": "stdout",
     "output_type": "stream",
     "text": [
      "   Unnamed: 0      id  mb_used session_date  user_id\n",
      "0           0  1000_0   112.95   2018-11-25     1000\n",
      "1           1  1000_1  1052.81   2018-09-07     1000\n",
      "2           2  1000_2  1197.26   2018-06-25     1000\n",
      "3           3  1000_3   550.27   2018-08-22     1000\n",
      "4           4  1000_4   302.56   2018-09-24     1000\n",
      "\n",
      "\n",
      "<class 'pandas.core.frame.DataFrame'>\n",
      "RangeIndex: 149396 entries, 0 to 149395\n",
      "Data columns (total 5 columns):\n",
      " #   Column        Non-Null Count   Dtype  \n",
      "---  ------        --------------   -----  \n",
      " 0   Unnamed: 0    149396 non-null  int64  \n",
      " 1   id            149396 non-null  object \n",
      " 2   mb_used       149396 non-null  float64\n",
      " 3   session_date  149396 non-null  object \n",
      " 4   user_id       149396 non-null  int64  \n",
      "dtypes: float64(1), int64(2), object(2)\n",
      "memory usage: 5.7+ MB\n",
      "None\n",
      "\n",
      "\n",
      "0\n"
     ]
    }
   ],
   "source": [
    "print(internet.head())\n",
    "print('\\n')\n",
    "print(internet.info())\n",
    "print('\\n')\n",
    "print(internet.duplicated().sum())"
   ]
  },
  {
   "cell_type": "markdown",
   "metadata": {},
   "source": [
    "Вывод:\n",
    "- Необходимо изменить тип данные в колонке с датой\n",
    "- Необходимо округлить данные в колонке с длительностью разговора согласно вводным задачи\n",
    "\n",
    "Визуально остальные данные выглядят корректными"
   ]
  },
  {
   "cell_type": "markdown",
   "metadata": {},
   "source": [
    "#### База данных \"Messages\""
   ]
  },
  {
   "cell_type": "code",
   "execution_count": 4,
   "metadata": {
    "scrolled": true
   },
   "outputs": [
    {
     "name": "stdout",
     "output_type": "stream",
     "text": [
      "       id message_date  user_id\n",
      "0  1000_0   2018-06-27     1000\n",
      "1  1000_1   2018-10-08     1000\n",
      "2  1000_2   2018-08-04     1000\n",
      "3  1000_3   2018-06-16     1000\n",
      "4  1000_4   2018-12-05     1000\n",
      "\n",
      "\n",
      "<class 'pandas.core.frame.DataFrame'>\n",
      "RangeIndex: 123036 entries, 0 to 123035\n",
      "Data columns (total 3 columns):\n",
      " #   Column        Non-Null Count   Dtype \n",
      "---  ------        --------------   ----- \n",
      " 0   id            123036 non-null  object\n",
      " 1   message_date  123036 non-null  object\n",
      " 2   user_id       123036 non-null  int64 \n",
      "dtypes: int64(1), object(2)\n",
      "memory usage: 2.8+ MB\n",
      "None\n",
      "\n",
      "\n",
      "0\n"
     ]
    }
   ],
   "source": [
    "print(messages.head())\n",
    "print('\\n')\n",
    "print(messages.info())\n",
    "print('\\n')\n",
    "print(messages.duplicated().sum())"
   ]
  },
  {
   "cell_type": "markdown",
   "metadata": {},
   "source": [
    "Вывод:\n",
    "- Необходимо изменить тип данные в колонке с датой\n",
    "\n",
    "Визуально остальные данные выглядят корректными"
   ]
  },
  {
   "cell_type": "markdown",
   "metadata": {},
   "source": [
    "#### База данных \"tariffs\""
   ]
  },
  {
   "cell_type": "code",
   "execution_count": 5,
   "metadata": {
    "scrolled": false
   },
   "outputs": [
    {
     "name": "stdout",
     "output_type": "stream",
     "text": [
      "   messages_included  mb_per_month_included  minutes_included  \\\n",
      "0                 50                  15360               500   \n",
      "1               1000                  30720              3000   \n",
      "\n",
      "   rub_monthly_fee  rub_per_gb  rub_per_message  rub_per_minute tariff_name  \n",
      "0              550         200                3               3       smart  \n",
      "1             1950         150                1               1       ultra  \n",
      "\n",
      "\n",
      "<class 'pandas.core.frame.DataFrame'>\n",
      "RangeIndex: 2 entries, 0 to 1\n",
      "Data columns (total 8 columns):\n",
      " #   Column                 Non-Null Count  Dtype \n",
      "---  ------                 --------------  ----- \n",
      " 0   messages_included      2 non-null      int64 \n",
      " 1   mb_per_month_included  2 non-null      int64 \n",
      " 2   minutes_included       2 non-null      int64 \n",
      " 3   rub_monthly_fee        2 non-null      int64 \n",
      " 4   rub_per_gb             2 non-null      int64 \n",
      " 5   rub_per_message        2 non-null      int64 \n",
      " 6   rub_per_minute         2 non-null      int64 \n",
      " 7   tariff_name            2 non-null      object\n",
      "dtypes: int64(7), object(1)\n",
      "memory usage: 256.0+ bytes\n",
      "None\n"
     ]
    }
   ],
   "source": [
    "print(tariffs.head())\n",
    "print('\\n')\n",
    "print(tariffs.info())"
   ]
  },
  {
   "cell_type": "markdown",
   "metadata": {},
   "source": [
    "#### База данных \"Users\""
   ]
  },
  {
   "cell_type": "code",
   "execution_count": 6,
   "metadata": {
    "scrolled": true
   },
   "outputs": [
    {
     "name": "stdout",
     "output_type": "stream",
     "text": [
      "   user_id  age churn_date         city first_name  last_name    reg_date  \\\n",
      "0     1000   52        NaN    Краснодар     Рафаил  Верещагин  2018-05-25   \n",
      "1     1001   41        NaN       Москва       Иван       Ежов  2018-11-01   \n",
      "2     1002   59        NaN  Стерлитамак    Евгений  Абрамович  2018-06-17   \n",
      "3     1003   23        NaN       Москва      Белла   Белякова  2018-08-17   \n",
      "4     1004   68        NaN  Новокузнецк    Татьяна   Авдеенко  2018-05-14   \n",
      "\n",
      "  tariff  \n",
      "0  ultra  \n",
      "1  smart  \n",
      "2  smart  \n",
      "3  ultra  \n",
      "4  ultra  \n",
      "\n",
      "\n",
      "<class 'pandas.core.frame.DataFrame'>\n",
      "RangeIndex: 500 entries, 0 to 499\n",
      "Data columns (total 8 columns):\n",
      " #   Column      Non-Null Count  Dtype \n",
      "---  ------      --------------  ----- \n",
      " 0   user_id     500 non-null    int64 \n",
      " 1   age         500 non-null    int64 \n",
      " 2   churn_date  38 non-null     object\n",
      " 3   city        500 non-null    object\n",
      " 4   first_name  500 non-null    object\n",
      " 5   last_name   500 non-null    object\n",
      " 6   reg_date    500 non-null    object\n",
      " 7   tariff      500 non-null    object\n",
      "dtypes: int64(2), object(6)\n",
      "memory usage: 31.4+ KB\n",
      "None\n",
      "\n",
      "\n",
      "0\n"
     ]
    }
   ],
   "source": [
    "print(users.head())\n",
    "print('\\n')\n",
    "print(users.info())\n",
    "print('\\n')\n",
    "print(users.duplicated().sum())"
   ]
  },
  {
   "cell_type": "markdown",
   "metadata": {},
   "source": [
    "Вывод:\n",
    "- Необходимо изменить тип данные в колонке с датой\n",
    "\n",
    "Визуально остальные данные выглядят корректными"
   ]
  },
  {
   "cell_type": "markdown",
   "metadata": {},
   "source": [
    "### Шаг 2. Предобработка  и  подготовка к анализу данных"
   ]
  },
  {
   "cell_type": "markdown",
   "metadata": {},
   "source": [
    "Вносим изменения согласно комментариям выше"
   ]
  },
  {
   "cell_type": "code",
   "execution_count": 7,
   "metadata": {
    "scrolled": true
   },
   "outputs": [],
   "source": [
    "def date_type_correction(data_list):\n",
    "    for data in data_list:\n",
    "        for column in data.columns:\n",
    "            if 'date' in column and column !='churn_date':\n",
    "                    data[column] = pd.to_datetime(data[column], format='%Y-%m-%d')\n",
    "\n",
    "date_type_correction([calls, internet, users, messages])\n",
    "\n",
    "calls['duration'] = calls['duration'].apply(np.ceil)\n",
    "internet['counted_mb'] = internet['mb_used'].apply(np.ceil)"
   ]
  },
  {
   "cell_type": "markdown",
   "metadata": {},
   "source": [
    "<div style=\"border:solid green 2px; padding: 20px\"> <h1 style=\"color:green; margin-bottom:20px\">Комментарий наставника</h1>\n",
    "\n",
    "Хорошее округление."
   ]
  },
  {
   "cell_type": "markdown",
   "metadata": {},
   "source": [
    "Убираем нулевые значения из округленных данных, т.к. не участвуют в расчетах и могут исказить графики.\n",
    "Данные значения могли быть вызваны:\n",
    " - Интернет: отсутствие использования интернета\n",
    " - Звонки: принимающая сторона не поднимает трубку или абонент занят."
   ]
  },
  {
   "cell_type": "code",
   "execution_count": 13,
   "metadata": {
    "scrolled": true
   },
   "outputs": [],
   "source": [
    "calls.drop(calls[calls['duration'] == 0].index, inplace=True)\n",
    "calls = calls.reset_index(drop=True)\n",
    "\n",
    "internet.drop(internet[internet['mb_used'] == 0].index, inplace=True)\n",
    "internet = internet.reset_index(drop=True)"
   ]
  },
  {
   "cell_type": "markdown",
   "metadata": {},
   "source": [
    "<div style=\"border:solid green 2px; padding: 20px\"> <h1 style=\"color:green; margin-bottom:20px\">Комментарий наставника</h1>\n",
    "\n",
    "Возмлжный вариант обработки 0."
   ]
  },
  {
   "cell_type": "markdown",
   "metadata": {},
   "source": [
    "Добавляем колонку с обозначением месяца"
   ]
  },
  {
   "cell_type": "code",
   "execution_count": 14,
   "metadata": {
    "scrolled": false
   },
   "outputs": [],
   "source": [
    "def month(data_list):\n",
    "    for data in data_list:\n",
    "        for column in data.columns:\n",
    "            if 'date' in column and column !='churn_date':\n",
    "                    data['month'] = pd.DatetimeIndex(data[column]).month \n",
    "\n",
    "month([calls, internet, users, messages])"
   ]
  },
  {
   "cell_type": "markdown",
   "metadata": {},
   "source": [
    "#### Добавляем колонки с требуемыми данными для каждого пользователя:\n",
    "- количество сделанных звонков по месяцам\n",
    "- израсходованные минуты по месяцам\n",
    "- количество отправленных сообщений по месяцам\n",
    "- объем израсходованного интернет-трафика по месяцам"
   ]
  },
  {
   "cell_type": "code",
   "execution_count": 15,
   "metadata": {
    "scrolled": true
   },
   "outputs": [],
   "source": [
    "df_counted_calls = calls.groupby(['user_id', 'month'], as_index=False)\n",
    "df_counted_calls = df_counted_calls.agg({'duration':['count', 'sum']})\n",
    "df_counted_calls.columns = ['user_id', 'month','calls_quantity', 'minutes_spent']\n",
    "\n",
    "df_counted_messages = messages.groupby(['user_id','month'], as_index=False)['id'].count()\n",
    "df_counted_messages.columns = ['user_id', 'month', 'send_messages']\n",
    "\n",
    "df_counted_internet = internet.groupby(['user_id', 'month'], as_index=False)['mb_used'].sum()\n",
    "df_counted_internet.columns = ['user_id', 'month', 'traffic']"
   ]
  },
  {
   "cell_type": "markdown",
   "metadata": {},
   "source": [
    "Объединяем полученные таблицы для совокупного анализа данных"
   ]
  },
  {
   "cell_type": "code",
   "execution_count": 30,
   "metadata": {
    "scrolled": true
   },
   "outputs": [
    {
     "name": "stdout",
     "output_type": "stream",
     "text": [
      "   user_id  month  calls_quantity  minutes_spent  send_messages   traffic  \\\n",
      "0     1000    5.0            17.0          159.0           22.0   2253.49   \n",
      "1     1000    6.0            28.0          172.0           60.0  23233.77   \n",
      "2     1000    7.0            41.0          340.0           75.0  14003.64   \n",
      "3     1000    8.0            42.0          408.0           81.0  14055.93   \n",
      "4     1000    9.0            46.0          466.0           57.0  14568.91   \n",
      "5     1000   10.0            44.0          350.0           73.0  14702.49   \n",
      "6     1000   11.0            37.0          338.0           58.0  14756.47   \n",
      "7     1000   12.0            38.0          333.0           70.0   9817.61   \n",
      "8     1001   11.0            45.0          430.0            NaN  18429.34   \n",
      "9     1001   12.0            47.0          414.0            NaN  14036.66   \n",
      "\n",
      "        city tariff  \n",
      "0  Краснодар  ultra  \n",
      "1  Краснодар  ultra  \n",
      "2  Краснодар  ultra  \n",
      "3  Краснодар  ultra  \n",
      "4  Краснодар  ultra  \n",
      "5  Краснодар  ultra  \n",
      "6  Краснодар  ultra  \n",
      "7  Краснодар  ultra  \n",
      "8     Москва  smart  \n",
      "9     Москва  smart  \n"
     ]
    }
   ],
   "source": [
    "df_users = users.loc[:,['user_id', 'city', 'tariff']]\n",
    "df_for_merge_1 =  df_counted_calls.merge(df_counted_messages, on=('user_id', 'month'), how='outer')\n",
    "df_for_merge_2 = df_for_merge_1.merge(df_counted_internet, on=('user_id', 'month'), how='outer')\n",
    "df = df_for_merge_2.merge(df_users, on='user_id', how='outer')\n",
    "print(df.head(10))"
   ]
  },
  {
   "cell_type": "markdown",
   "metadata": {},
   "source": [
    "<div style=\"border:solid green 2px; padding: 20px\"> <h1 style=\"color:green; margin-bottom:20px\">Комментарий наставника</h1>\n",
    "\n",
    "Параметры рассчитаны верно."
   ]
  },
  {
   "cell_type": "markdown",
   "metadata": {},
   "source": [
    "Сомтрим на полученные итоговые данные"
   ]
  },
  {
   "cell_type": "code",
   "execution_count": 17,
   "metadata": {
    "scrolled": false
   },
   "outputs": [
    {
     "name": "stdout",
     "output_type": "stream",
     "text": [
      "<class 'pandas.core.frame.DataFrame'>\n",
      "Int64Index: 3216 entries, 0 to 3215\n",
      "Data columns (total 8 columns):\n",
      " #   Column          Non-Null Count  Dtype  \n",
      "---  ------          --------------  -----  \n",
      " 0   user_id         3216 non-null   int64  \n",
      " 1   month           3214 non-null   float64\n",
      " 2   calls_quantity  3168 non-null   float64\n",
      " 3   minutes_spent   3168 non-null   float64\n",
      " 4   send_messages   2717 non-null   float64\n",
      " 5   traffic         3201 non-null   float64\n",
      " 6   city            3216 non-null   object \n",
      " 7   tariff          3216 non-null   object \n",
      "dtypes: float64(5), int64(1), object(2)\n",
      "memory usage: 226.1+ KB\n",
      "None\n"
     ]
    }
   ],
   "source": [
    "print(df.info())"
   ]
  },
  {
   "cell_type": "markdown",
   "metadata": {},
   "source": [
    "Отсутвие данных есть во всех ячейках для расчета. \n",
    "Наблюдается два индекса, где нет никаких данных по использованию мобильного телеоператора"
   ]
  },
  {
   "cell_type": "code",
   "execution_count": 18,
   "metadata": {
    "scrolled": true
   },
   "outputs": [
    {
     "name": "stdout",
     "output_type": "stream",
     "text": [
      "      user_id  month  calls_quantity  minutes_spent  send_messages  traffic  \\\n",
      "3214     1128    NaN             NaN            NaN            NaN      NaN   \n",
      "3215     1371    NaN             NaN            NaN            NaN      NaN   \n",
      "\n",
      "          city tariff  \n",
      "3214  Волжский  ultra  \n",
      "3215      Омск  smart  \n",
      "Empty DataFrame\n",
      "Columns: [Unnamed: 0, id, mb_used, session_date, user_id, counted_mb, month]\n",
      "Index: []\n",
      "Empty DataFrame\n",
      "Columns: [Unnamed: 0, id, mb_used, session_date, user_id, counted_mb, month]\n",
      "Index: []\n"
     ]
    }
   ],
   "source": [
    "print(df[(df['calls_quantity'].isnull()) & (df['minutes_spent'].isnull()) & (df['send_messages'].isnull()) & \n",
    "        (df['traffic'].isnull())])\n",
    "print(internet.query('user_id == 1128'))\n",
    "print(internet.query('user_id == 1371'))"
   ]
  },
  {
   "cell_type": "markdown",
   "metadata": {},
   "source": [
    "Из данных следует, что два пользователя либо не используют никак предоставляемую связь, либо по ним отсутствует выгрузка. Уберем их данные из дальнешйего анализа. По остальным пользователям есть хоть какие-то данные, поэтому предполагаем, что по ним все корректно и отсутствующие значения являются верными. Заменяем их на 0."
   ]
  },
  {
   "cell_type": "code",
   "execution_count": 57,
   "metadata": {
    "scrolled": true
   },
   "outputs": [
    {
     "name": "stdout",
     "output_type": "stream",
     "text": [
      "<class 'pandas.core.frame.DataFrame'>\n",
      "RangeIndex: 3214 entries, 0 to 3213\n",
      "Data columns (total 13 columns):\n",
      " #   Column               Non-Null Count  Dtype  \n",
      "---  ------               --------------  -----  \n",
      " 0   user_id              3214 non-null   int64  \n",
      " 1   month                3214 non-null   float64\n",
      " 2   calls_quantity       3214 non-null   float64\n",
      " 3   minutes_spent        3214 non-null   float64\n",
      " 4   send_messages        3214 non-null   float64\n",
      " 5   traffic              3214 non-null   float64\n",
      " 6   city                 3214 non-null   object \n",
      " 7   tariff               3214 non-null   object \n",
      " 8   monthly_fee          3214 non-null   int64  \n",
      " 9   budget_sms_excess    3214 non-null   float64\n",
      " 10  budget_calls_excess  3214 non-null   float64\n",
      " 11  GB_excess_plan       3214 non-null   float64\n",
      " 12  total_budget         3214 non-null   float64\n",
      "dtypes: float64(9), int64(2), object(2)\n",
      "memory usage: 326.5+ KB\n",
      "None\n"
     ]
    }
   ],
   "source": [
    "df.drop(df[df['user_id'] == 1128].index, inplace=True)\n",
    "df.drop(df[df['user_id'] == 1371].index, inplace=True)\n",
    "df = df.reset_index(drop=True)\n",
    "\n",
    "df = df.fillna(0)\n",
    "print(df.info())"
   ]
  },
  {
   "cell_type": "markdown",
   "metadata": {},
   "source": [
    "#### Добавляем данные по выручке пользователей"
   ]
  },
  {
   "cell_type": "code",
   "execution_count": 61,
   "metadata": {
    "scrolled": true
   },
   "outputs": [],
   "source": [
    "# Добавляем абонентскую плату на каждого пользователя\n",
    "def monthly_fee(data):\n",
    "    if data['tariff'] == 'ultra':\n",
    "        return 1950\n",
    "    else:\n",
    "        return 550\n",
    "\n",
    "df['monthly_fee'] = df.apply(monthly_fee, axis=1)\n",
    "\n",
    "#Добавляем сумму переплат за каждую услугу\n",
    "def minutes_excess_plan(data):\n",
    "    if data['tariff'] == 'ultra':\n",
    "        if data['minutes_spent'] - 3000 > 0:\n",
    "            return (data['minutes_spent'] - 3000)*1\n",
    "        else:\n",
    "            return 0\n",
    "    else:\n",
    "        if data['minutes_spent'] - 500 > 0:\n",
    "            return (data['minutes_spent'] - 500)*3\n",
    "        else:\n",
    "            return 0\n",
    "\n",
    "df['budget_calls_excess'] = df.apply(minutes_excess_plan, axis=1)\n",
    "\n",
    "def sms_excess_plan(data):\n",
    "    if data['tariff'] == 'ultra':\n",
    "        if data['send_messages'] - 1000 > 0:\n",
    "            return (data['send_messages'] - 1000)*1\n",
    "        else:\n",
    "            return 0\n",
    "    else:\n",
    "        if data['send_messages'] - 50 > 0:\n",
    "            return (data['send_messages'] - 50)*3\n",
    "        else:\n",
    "            return 0\n",
    "\n",
    "df['budget_sms_excess'] = df.apply(sms_excess_plan, axis=1)\n",
    "\n",
    "def traffic_excess_plan(data):\n",
    "    if data['tariff'] == 'ultra':\n",
    "        if data['traffic'] - 30720 > 0:\n",
    "            return np.ceil((data['traffic'] - 30720)/1024)*150\n",
    "        else:\n",
    "            return 0\n",
    "    else:\n",
    "        if data['traffic'] - 15360 > 0:\n",
    "            return np.ceil((data['traffic'] - 15360)/1024)*200\n",
    "        else:\n",
    "            return 0\n",
    "\n",
    "df['GB_excess_plan'] = df.apply(traffic_excess_plan, axis=1)\n",
    "\n",
    "# Добавляем итоговую стоимость услуг за месяц\n",
    "df['total_budget'] = df['GB_excess_plan'] + df['budget_sms_excess'] + df['budget_calls_excess'] + df['monthly_fee']\n",
    "\n",
    "# Добавляем столбец с бюджетом сверх абонентской платы\n",
    "df['additional_budget'] = df['total_budget'] - df['monthly_fee']\n",
    "    "
   ]
  },
  {
   "cell_type": "markdown",
   "metadata": {},
   "source": [
    "Итоговая таблица:"
   ]
  },
  {
   "cell_type": "code",
   "execution_count": 62,
   "metadata": {
    "scrolled": true
   },
   "outputs": [
    {
     "name": "stdout",
     "output_type": "stream",
     "text": [
      "   user_id  month  calls_quantity  minutes_spent  send_messages   traffic  \\\n",
      "0     1000    5.0            17.0          159.0           22.0   2253.49   \n",
      "1     1000    6.0            28.0          172.0           60.0  23233.77   \n",
      "2     1000    7.0            41.0          340.0           75.0  14003.64   \n",
      "3     1000    8.0            42.0          408.0           81.0  14055.93   \n",
      "4     1000    9.0            46.0          466.0           57.0  14568.91   \n",
      "\n",
      "        city tariff  monthly_fee  budget_sms_excess  budget_calls_excess  \\\n",
      "0  Краснодар  ultra         1950                0.0                  0.0   \n",
      "1  Краснодар  ultra         1950                0.0                  0.0   \n",
      "2  Краснодар  ultra         1950                0.0                  0.0   \n",
      "3  Краснодар  ultra         1950                0.0                  0.0   \n",
      "4  Краснодар  ultra         1950                0.0                  0.0   \n",
      "\n",
      "   GB_excess_plan  total_budget  additional_budget  \n",
      "0             0.0        1950.0                0.0  \n",
      "1             0.0        1950.0                0.0  \n",
      "2             0.0        1950.0                0.0  \n",
      "3             0.0        1950.0                0.0  \n",
      "4             0.0        1950.0                0.0  \n"
     ]
    }
   ],
   "source": [
    "print(df.head())"
   ]
  },
  {
   "cell_type": "markdown",
   "metadata": {},
   "source": [
    "<div style=\"border:solid green 2px; padding: 20px\"> <h1 style=\"color:green; margin-bottom:20px\">Комментарий наставника</h1>\n",
    "\n",
    "Хорошо, выручка рассчитана верно."
   ]
  },
  {
   "cell_type": "markdown",
   "metadata": {},
   "source": [
    "<div style=\"border:solid gold 2px; padding: 20px\"> <h1 style=\"color:gold; margin-bottom:20px\">Комментарий наставника</h1>\n",
    "\n",
    "Посмотри использование метода display для вывода таблицы, будет посимпатичнее, чем print."
   ]
  },
  {
   "cell_type": "markdown",
   "metadata": {},
   "source": [
    "### Шаг 3. Анализ полученных данных\n",
    "\n",
    "Для начала избавимся от выбросов через функцию boxplot"
   ]
  },
  {
   "cell_type": "code",
   "execution_count": 102,
   "metadata": {
    "scrolled": true
   },
   "outputs": [
    {
     "data": {
      "image/png": "[encoded data removed]",
      "text/plain": [
       "<Figure size 432x288 with 1 Axes>"
      ]
     },
     "metadata": {
      "needs_background": "light"
     },
     "output_type": "display_data"
    },
    {
     "data": {
      "image/png": "[encoded data removed]",
      "text/plain": [
       "<Figure size 432x288 with 1 Axes>"
      ]
     },
     "metadata": {
      "needs_background": "light"
     },
     "output_type": "display_data"
    },
    {
     "data": {
      "image/png": "[encoded data removed]",
      "text/plain": [
       "<Figure size 432x288 with 1 Axes>"
      ]
     },
     "metadata": {
      "needs_background": "light"
     },
     "output_type": "display_data"
    }
   ],
   "source": [
    "import seaborn as sns\n",
    "%matplotlib inline\n",
    "\n",
    "for_boxplot = ['minutes_spent', 'send_messages', 'traffic']\n",
    "\n",
    "for i in for_boxplot:\n",
    "    sns.boxplot(x='tariff', y=i, data=df, width=0.3, showmeans=True, notch=True,)\n",
    "    plt.show()"
   ]
  },
  {
   "cell_type": "markdown",
   "metadata": {},
   "source": [
    "<div style=\"border:solid green 2px; padding: 20px\"> <h1 style=\"color:green; margin-bottom:20px\">Комментарий наставника</h1>\n",
    "\n",
    "Отличные сравнительный боксплоты, хорошо использован цикл."
   ]
  },
  {
   "cell_type": "markdown",
   "metadata": {},
   "source": [
    "Находим границы усов для фильтрации "
   ]
  },
  {
   "cell_type": "code",
   "execution_count": 152,
   "metadata": {},
   "outputs": [
    {
     "name": "stdout",
     "output_type": "stream",
     "text": [
      "Значения интервала для minutes_spent тарифа ultra: 0 - 1454.0\n",
      "\t\n",
      "Значения интервала для minutes_spent тарифа smart: 0 - 940.0\n",
      "\t\n",
      "Значения интервала для send_messages тарифа ultra: 0 - 189.0\n",
      "\t\n",
      "Значения интервала для send_messages тарифа smart: 0 - 113.0\n",
      "\t\n",
      "Значения интервала для traffic тарифа ultra: 0 - 49439.0\n",
      "\t\n",
      "Значения интервала для traffic тарифа smart: 1544.0 - 31143.0\n",
      "\t\n"
     ]
    }
   ],
   "source": [
    "def quantiles(data, column, tariff):\n",
    "    q1 = np.percentile(data[data['tariff'] == tariff][column].dropna(), 25)\n",
    "    q3 = np.percentile(data[data['tariff'] == tariff][column].dropna(), 75)\n",
    "    IQR = q3 - q1\n",
    "    \n",
    "    start = np.ceil(q1 - 1.5 * IQR)\n",
    "    end = np.ceil(q3 + 1.5 * IQR)\n",
    "    \n",
    "    if start < 0:\n",
    "        start = 0\n",
    "    \n",
    "    print('Значения интервала для {} тарифа {}: {} - {}'.format(column, tariff, start, end))\n",
    "    return '\\t'\n",
    "\n",
    "print(quantiles(df, 'minutes_spent', 'ultra'))\n",
    "print(quantiles(df, 'minutes_spent', 'smart'))\n",
    "print(quantiles(df, 'send_messages', 'ultra'))\n",
    "print(quantiles(df, 'send_messages', 'smart'))\n",
    "print(quantiles(df, 'traffic', 'ultra'))\n",
    "print(quantiles(df, 'traffic', 'smart'))"
   ]
  },
  {
   "cell_type": "markdown",
   "metadata": {},
   "source": [
    "Используем интервалы для сокращения выбросов:"
   ]
  },
  {
   "cell_type": "code",
   "execution_count": 204,
   "metadata": {},
   "outputs": [],
   "source": [
    "df_smart = (df[(df['tariff'] == 'smart') & (df['minutes_spent'] < 941) & (df['send_messages'] < 114) & \n",
    "               (df['traffic'] < 31144) & (df['traffic'] > 1543)])\n",
    "df_ultra = (df[(df['tariff'] == 'ultra') & (df['minutes_spent'] < 1455) & (df['send_messages'] < 190) & \n",
    "               (df['traffic'] < 49439)])"
   ]
  },
  {
   "cell_type": "markdown",
   "metadata": {},
   "source": [
    "##### Строим гистограммы по количеству звонков:"
   ]
  },
  {
   "cell_type": "code",
   "execution_count": 216,
   "metadata": {},
   "outputs": [
    {
     "data": {
      "image/png": "[encoded data removed]",
      "text/plain": [
       "<Figure size 432x288 with 1 Axes>"
      ]
     },
     "metadata": {
      "needs_background": "light"
     },
     "output_type": "display_data"
    }
   ],
   "source": [
    "sns.distplot(df_smart['minutes_spent'], bins=30)\n",
    "sns.distplot(df_ultra['minutes_spent'], bins=30)\n",
    "plt.show()"
   ]
  },
  {
   "cell_type": "code",
   "execution_count": 245,
   "metadata": {},
   "outputs": [
    {
     "name": "stdout",
     "output_type": "stream",
     "text": [
      "Среднее значение minutes_spent по тарифу smart: 417.0\n",
      "Дисперсия minutes_spent по тарифу smart: 33138.7\n",
      "Стандартное отклонение minutes_spent по тарифу smart: 182.0\n",
      "\t\n",
      "Среднее значение minutes_spent по тарифу ultra: 524.9\n",
      "Дисперсия minutes_spent по тарифу ultra: 97675.5\n",
      "Стандартное отклонение minutes_spent по тарифу ultra: 312.5\n",
      "\t\n",
      "Доля пользователей, которые докупают дополнительно количество минут по тарифу \"СМАРТ\": 33.50%\n",
      "Доля пользователей, которые докупают дополнительно количество минут по тарифу \"УЛЬТРА\": 0.00%\n"
     ]
    }
   ],
   "source": [
    "def tasks(column, tariff):\n",
    "    if tariff == 'ultra':\n",
    "        mean_ultra = round(df_ultra[column].mean(),1)\n",
    "        variance_ultra = round(df_ultra[column].var(),1)\n",
    "        std_ultra = round(df_ultra[column].std(),1)\n",
    "        \n",
    "        print('Среднее значение {} по тарифу {}: {}'.format(column, tariff, mean_ultra))\n",
    "        print('Дисперсия {} по тарифу {}: {}'.format(column, tariff, variance_ultra))\n",
    "        print('Стандартное отклонение {} по тарифу {}: {}'.format(column, tariff, std_ultra))\n",
    "        return '\\t'\n",
    "    \n",
    "    else:\n",
    "        mean_smart = round(df_smart[column].mean(),1)\n",
    "        variance_smart = round(df_smart[column].var(),1)\n",
    "        std_smart = round(df_smart[column].std(),1)\n",
    "\n",
    "        print('Среднее значение {} по тарифу {}: {}'.format(column, tariff, mean_smart))\n",
    "        print('Дисперсия {} по тарифу {}: {}'.format(column, tariff, variance_smart))\n",
    "        print('Стандартное отклонение {} по тарифу {}: {}'.format(column, tariff, std_smart))\n",
    "        return '\\t'\n",
    "\n",
    "print(tasks('minutes_spent', 'smart'))\n",
    "print(tasks('minutes_spent', 'ultra'))\n",
    "\n",
    "print('Доля пользователей, которые докупают дополнительно количество минут по тарифу \"СМАРТ\": {:.2%}'.\n",
    "      format(df_smart[df_smart['budget_calls_excess'] > 0]['budget_calls_excess'].count() / \n",
    "      len(df_smart['budget_calls_excess'])))\n",
    "print('Доля пользователей, которые докупают дополнительно количество минут по тарифу \"УЛЬТРА\": {:.2%}'.\n",
    "      format(df_ultra[df_ultra['budget_calls_excess'] > 0]['budget_calls_excess'].count() / \n",
    "      len(df_ultra['budget_calls_excess'])))"
   ]
  },
  {
   "cell_type": "markdown",
   "metadata": {},
   "source": [
    "Вывод:\n",
    "Наиболее популярная вилка на тарифе СМАРТ по количеству потраченных минут за месяц: 250-550. При сденем значении в 417 минут. Больше трети пользователей (33.5%) дополнительно покупают минуты. \n",
    "\n",
    "По тарифу УЛЬТРА пользователи почти равномерно тратят минуты в интвервале 250 - 800 мин. В среднем - 525 минут.\n",
    "  В данном случае всем польхователям хватает базового количества минут в пакете."
   ]
  },
  {
   "cell_type": "markdown",
   "metadata": {},
   "source": [
    "##### Строим гистограммы по количеству сообщений:"
   ]
  },
  {
   "cell_type": "code",
   "execution_count": 281,
   "metadata": {},
   "outputs": [
    {
     "data": {
      "image/png": "[encoded data removed]",
      "text/plain": [
       "<Figure size 432x288 with 1 Axes>"
      ]
     },
     "metadata": {
      "needs_background": "light"
     },
     "output_type": "display_data"
    }
   ],
   "source": [
    "sns.distplot(df_smart['send_messages'], bins=30)\n",
    "sns.distplot(df_ultra['send_messages'], bins=30)\n",
    "plt.xlim(0,220)\n",
    "plt.show()"
   ]
  },
  {
   "cell_type": "code",
   "execution_count": 249,
   "metadata": {},
   "outputs": [
    {
     "name": "stdout",
     "output_type": "stream",
     "text": [
      "Среднее значение send_messages по тарифу smart: 33.1\n",
      "Дисперсия send_messages по тарифу smart: 741.0\n",
      "Стандартное отклонение send_messages по тарифу smart: 27.2\n",
      "\t\n",
      "Среднее значение send_messages по тарифу ultra: 48.1\n",
      "Дисперсия send_messages по тарифу ultra: 2106.4\n",
      "Стандартное отклонение send_messages по тарифу ultra: 45.9\n",
      "\t\n",
      "Доля пользователей, которые докупают дополнительно количество СМС по тарифу \"СМАРТ\": 25.07%\n",
      "Доля пользователей, которые докупают дополнительно количество СМС по тарифу \"УЛЬТРА\": 0.00%\n"
     ]
    }
   ],
   "source": [
    "print(tasks('send_messages', 'smart'))\n",
    "print(tasks('send_messages', 'ultra'))\n",
    "\n",
    "print('Доля пользователей, которые докупают дополнительно количество СМС по тарифу \"СМАРТ\": {:.2%}'.\n",
    "      format(df_smart[df_smart['budget_sms_excess'] > 0]['budget_sms_excess'].count() / \n",
    "      len(df_smart['budget_sms_excess'])))\n",
    "print('Доля пользователей, которые докупают дополнительно количество СМС по тарифу \"УЛЬТРА\": {:.2%}'.\n",
    "      format(df_ultra[df_ultra['budget_sms_excess'] > 0]['budget_sms_excess'].count() / \n",
    "      len(df_ultra['budget_sms_excess'])))"
   ]
  },
  {
   "cell_type": "markdown",
   "metadata": {},
   "source": [
    "Вывод:\n",
    "В целом ситуация очень похожа по потреблению между между тарифами, как и в случаем с минутами.\n",
    "Отдельно стоит отметить, что пользователи значительно меньше отправляют СМС.\n",
    "В среднем СМАРТ - 30-35 СМС, УЛЬТРА - 50 СМС за месяц"
   ]
  },
  {
   "cell_type": "markdown",
   "metadata": {},
   "source": [
    "##### Строим гистограммы по интернет трафику:"
   ]
  },
  {
   "cell_type": "code",
   "execution_count": 280,
   "metadata": {},
   "outputs": [
    {
     "data": {
      "image/png": "[encoded data removed]",
      "text/plain": [
       "<Figure size 432x288 with 1 Axes>"
      ]
     },
     "metadata": {
      "needs_background": "light"
     },
     "output_type": "display_data"
    }
   ],
   "source": [
    "sns.distplot(df_smart['traffic'], bins=30)\n",
    "sns.distplot(df_ultra['traffic'], bins=30)\n",
    "plt.xlim(0,50000)\n",
    "plt.show()"
   ]
  },
  {
   "cell_type": "markdown",
   "metadata": {},
   "source": [
    "<div style=\"border:solid green 2px; padding: 20px\"> <h1 style=\"color:green; margin-bottom:20px\">Комментарий наставника</h1>\n",
    "\n",
    "Классные сравнительные гистограммы."
   ]
  },
  {
   "cell_type": "code",
   "execution_count": 257,
   "metadata": {},
   "outputs": [
    {
     "name": "stdout",
     "output_type": "stream",
     "text": [
      "Среднее значение traffic по тарифу smart: 16228.8\n",
      "Дисперсия traffic по тарифу smart: 30324711.0\n",
      "Стандартное отклонение traffic по тарифу smart: 5506.8\n",
      "\t\n",
      "Среднее значение traffic по тарифу ultra: 19379.5\n",
      "Дисперсия traffic по тарифу ultra: 100187294.6\n",
      "Стандартное отклонение traffic по тарифу ultra: 10009.4\n",
      "\t\n",
      "Доля пользователей, которые докупают дополнительно количество трафика по тарифу \"СМАРТ\": 58.62%\n",
      "Доля пользователей, которые докупают дополнительно количество трафика по тарифу \"УЛЬТРА\": 13.24%\n"
     ]
    }
   ],
   "source": [
    "print(tasks('traffic', 'smart'))\n",
    "print(tasks('traffic', 'ultra'))\n",
    "\n",
    "print('Доля пользователей, которые докупают дополнительно количество трафика по тарифу \"СМАРТ\": {:.2%}'.\n",
    "      format(df_smart[df_smart['GB_excess_plan'] > 0]['GB_excess_plan'].count() / \n",
    "      len(df_smart['GB_excess_plan'])))\n",
    "print('Доля пользователей, которые докупают дополнительно количество трафика по тарифу \"УЛЬТРА\": {:.2%}'.\n",
    "      format(df_ultra[df_ultra['GB_excess_plan'] > 0]['GB_excess_plan'].count() / \n",
    "      len(df_ultra['GB_excess_plan'])))"
   ]
  },
  {
   "cell_type": "markdown",
   "metadata": {},
   "source": [
    "Вывод:\n",
    "По данному параметру мы видим меньшее отставание. В большинстве случаев пользователям на тарифе \"СМАРТ\" необходимо 13Гб - 20Гб трафика (среднее 16.2Гб). \"УЛЬТРА\" - 10Гб...30Гб (среднее - 19Гб).\n",
    "При этом почти 60% пользователей тарифа \"СМАРТ\" докупают объем. Впервые отмечается, что и пользователям \"УЛЬТРА\" не хватает объема. Интернет трафик пользуется высоким спросом"
   ]
  },
  {
   "cell_type": "code",
   "execution_count": 318,
   "metadata": {},
   "outputs": [
    {
     "data": {
      "image/png": "[encoded data removed]",
      "text/plain": [
       "<Figure size 432x288 with 1 Axes>"
      ]
     },
     "metadata": {},
     "output_type": "display_data"
    },
    {
     "data": {
      "image/png": "[encoded data removed]",
      "text/plain": [
       "<Figure size 432x288 with 1 Axes>"
      ]
     },
     "metadata": {},
     "output_type": "display_data"
    },
    {
     "data": {
      "image/png": "[encoded data removed]",
      "text/plain": [
       "<Figure size 432x288 with 1 Axes>"
      ]
     },
     "metadata": {},
     "output_type": "display_data"
    }
   ],
   "source": [
    "additional_smart = df_smart[df_smart['additional_budget'] > 0]['additional_budget'].count() / len(df_smart['total_budget'])\n",
    "total_smart = 1 - additional_smart\n",
    "additional_ultra = df_ultra[df_ultra['additional_budget'] > 0]['additional_budget'].count() / len(df_ultra['total_budget'])\n",
    "total_ultra = 1 - additional_ultra\n",
    "smart_budget = df_smart['total_budget'].sum() / (df_smart['total_budget'].sum() + df_ultra['total_budget'].sum())\n",
    "ultra_budget = 1 - smart_budget\n",
    "\n",
    "labels = 'Докупают услуги', 'Хватает базового пакета'\n",
    "sizes = [additional_smart, total_smart]\n",
    "explode = (0, 0.1)\n",
    "plt.title = ('Пользователи тарифа СМАРТ')\n",
    "\n",
    "fig1, ax1 = plt.subplots()\n",
    "ax1.pie(sizes, explode=explode, labels=labels, autopct='%1.0f%%',\n",
    "        shadow=True, startangle=85)\n",
    "ax1.axis('equal')\n",
    "plt.show()\n",
    "\n",
    "labels = 'Докупают услуги', 'Хватает базового пакета'\n",
    "sizes = [additional_ultra, total_ultra]\n",
    "explode = (0, 0.1)\n",
    "plt.title = 'Пользователи тарифа УЛЬТРА'\n",
    "\n",
    "fig1, ax1 = plt.subplots()\n",
    "ax1.pie(sizes, explode=explode, labels=labels, autopct='%1.0f%%',\n",
    "        shadow=True, startangle=85)\n",
    "ax1.axis('equal')\n",
    "plt.show()\n",
    "                                                   \n",
    "labels = 'Выручка пользователей СМАРТ', 'Выручка пользователей УЛЬТРА'\n",
    "sizes = [smart_budget, ultra_budget]\n",
    "explode = (0, 0.1)\n",
    "plt.title = ('ДОля выручки по тарифам')\n",
    "\n",
    "fig1, ax1 = plt.subplots()\n",
    "ax1.pie(sizes, explode=explode, labels=labels, autopct='%1.0f%%',\n",
    "        shadow=True, startangle=85)\n",
    "ax1.axis('equal')\n",
    "plt.show()"
   ]
  },
  {
   "cell_type": "markdown",
   "metadata": {},
   "source": [
    "Общее количество докупаемых услуг. У пользователей \"УЛЬТРА\" формируется за счет интернет пакета, пользователи \"СМАРТ\" - большая доля приходится на интернет. 3/4 не хватает базовых возможностей.\n",
    "\n",
    "В целом можно также отметить, что несмотря на небольшую долю в общем количестве абонентов пользователей тарифа УЛЬТРА (~30%) их выручка в общем \"пироге\" ~42%.\n",
    "\n",
    "<div style=\"border:solid green 2px; padding: 20px\"> <h1 style=\"color:green; margin-bottom:20px\">Комментарий наставника</h1>\n",
    "\n",
    "Хорошо, отличный анализ."
   ]
  },
  {
   "cell_type": "markdown",
   "metadata": {},
   "source": [
    "### Шаг 4. Проверка гипотез"
   ]
  },
  {
   "cell_type": "markdown",
   "metadata": {},
   "source": [
    "<span style=\"color:green\"> Обновление </span>\n",
    "\n",
    "Ставим нулевую гипотезу: средняя выручка пользователей тарифа \"СМАРТ\" равна средней выручке тарифа \"УЛЬТРА\"\n",
    "\n",
    "Альтернативная гипотеза: редняя выручка пользователей тарифа \"СМАРТ\" не равна средней выручке тарифа \"УЛЬТРА\""
   ]
  },
  {
   "cell_type": "markdown",
   "metadata": {},
   "source": [
    "Удаляем выбросы из данных по стоимости:"
   ]
  },
  {
   "cell_type": "code",
   "execution_count": 293,
   "metadata": {},
   "outputs": [
    {
     "data": {
      "image/png": "[encoded data removed]",
      "text/plain": [
       "<Figure size 432x288 with 1 Axes>"
      ]
     },
     "metadata": {
      "needs_background": "light"
     },
     "output_type": "display_data"
    },
    {
     "data": {
      "image/png": "[encoded data removed]",
      "text/plain": [
       "<Figure size 432x288 with 1 Axes>"
      ]
     },
     "metadata": {
      "needs_background": "light"
     },
     "output_type": "display_data"
    },
    {
     "name": "stdout",
     "output_type": "stream",
     "text": [
      "Значения интервала для total_budget тарифа ultra: 1950.0 - 1950.0\n",
      "\t\n",
      "Значения интервала для total_budget тарифа smart: 0 - 3550.0\n",
      "\t\n"
     ]
    }
   ],
   "source": [
    "sns.boxplot(x='total_budget', orient = 'v', data=df_smart, width=0.3, showmeans=True, notch=True)\n",
    "plt.show()\n",
    "sns.boxplot(x='total_budget', orient = 'v', data=df_ultra, width=0.3, showmeans=True, notch=True)\n",
    "plt.show()\n",
    "\n",
    "print(quantiles(df, 'total_budget', 'ultra'))\n",
    "print(quantiles(df, 'total_budget', 'smart'))\n",
    "\n"
   ]
  },
  {
   "cell_type": "code",
   "execution_count": 343,
   "metadata": {},
   "outputs": [
    {
     "name": "stderr",
     "output_type": "stream",
     "text": [
      "C:\\Users\\Xiaomi\\anaconda3\\lib\\site-packages\\ipykernel_launcher.py:1: UserWarning: Boolean Series key will be reindexed to match DataFrame index.\n",
      "  \"\"\"Entry point for launching an IPython kernel.\n",
      "C:\\Users\\Xiaomi\\anaconda3\\lib\\site-packages\\ipykernel_launcher.py:2: UserWarning: Boolean Series key will be reindexed to match DataFrame index.\n",
      "  \n"
     ]
    }
   ],
   "source": [
    "df_smart_budget = df_smart[df['total_budget'] < 3551]\n",
    "df_ultra_budget = df_ultra[df['total_budget'] == 1950]"
   ]
  },
  {
   "cell_type": "markdown",
   "metadata": {},
   "source": [
    "    Выборки у нас незавсимимые, поэтмоу используем метод scipy.stats.ttest_ind:"
   ]
  },
  {
   "cell_type": "code",
   "execution_count": 344,
   "metadata": {},
   "outputs": [
    {
     "name": "stdout",
     "output_type": "stream",
     "text": [
      "p-значение: 7.33860039185133e-156\n",
      "Отвергаем нулевую гипотезу\n",
      "Средняя выручка тарифа \"СМАРТ\" - 1246.0\n",
      "Средняя выручка тарифа \"УЛЬТРА\" - 1950.0\n"
     ]
    }
   ],
   "source": [
    "from scipy import stats as st\n",
    "\n",
    "alpha = 0.05\n",
    "\n",
    "results = st.ttest_ind(df_smart_budget['total_budget'], df_ultra_budget['total_budget'])\n",
    "print('p-значение:', results.pvalue)\n",
    "\n",
    "if (results.pvalue < alpha):\n",
    "    print(\"Отвергаем нулевую гипотезу\")\n",
    "else:\n",
    "    print(\"Не получилось отвергнуть нулевую гипотезу\")\n",
    "    \n",
    "print('Средняя выручка тарифа \"СМАРТ\" - {}'.format(round(df_smart_budget['total_budget'].mean(),0)))\n",
    "print('Средняя выручка тарифа \"УЛЬТРА\" - {}'.format(round(df_ultra_budget['total_budget'].mean(),0)))"
   ]
  },
  {
   "cell_type": "markdown",
   "metadata": {},
   "source": [
    "Вывод:\n",
    "Нулевая гипотеза отвергнута, верной является альтернативная гипотеза.\n",
    "Несмотря на покупку дополнительных пакетов пользователями тарифа \"СМАРТ\" абонентская плата слишком значительно, чтобы догнать пользователей \"УЛЬТРА\" по выручке"
   ]
  },
  {
   "cell_type": "markdown",
   "metadata": {},
   "source": [
    "<span style=\"color:green\"> Обновление </span>\n",
    "    \n",
    "#### Проверка нулевой гипотезы: \n",
    "средняя выручка пользователей из Москвы равна выручке пользователей из других регионов\n",
    "\n",
    "#### Альтернативная гипотеза: \n",
    "средняя выручка пользователей из Москвы не равна выручке пользователей из других регионов\n",
    "    "
   ]
  },
  {
   "cell_type": "markdown",
   "metadata": {},
   "source": [
    "<div style=\"border:solid red 2px; padding: 20px\"> <h1 style=\"color: red; margin-bottom:20px\">Комментарий наставника</h1>\n",
    "\n",
    "Нулевая и альтернативные гипот езы сформулированы не верно. Посмотри, какой должнва быть гипотеза для ttest.\n",
    "    \n",
    "<div style=\"border:solid green 2px; padding: 20px\"> <h1 style=\"color:green; margin-bottom:20px\">Комментарий наставника</h1>\n",
    "\n",
    "Хорошо, теперь верно."
   ]
  },
  {
   "cell_type": "code",
   "execution_count": 351,
   "metadata": {},
   "outputs": [
    {
     "data": {
      "image/png": "[encoded data removed]",
      "text/plain": [
       "<Figure size 432x288 with 1 Axes>"
      ]
     },
     "metadata": {
      "needs_background": "light"
     },
     "output_type": "display_data"
    },
    {
     "data": {
      "image/png": "[encoded data removed]",
      "text/plain": [
       "<Figure size 432x288 with 1 Axes>"
      ]
     },
     "metadata": {
      "needs_background": "light"
     },
     "output_type": "display_data"
    },
    {
     "name": "stdout",
     "output_type": "stream",
     "text": [
      "Значения интервала для total_budget: 0 - 3694.0\n",
      "\t\n",
      "Значения интервала для total_budget: 0 - 3750.0\n",
      "\t\n"
     ]
    }
   ],
   "source": [
    "# Формируем датасет\n",
    "df_cities = df_smart.merge(df_ultra, on=('user_id', 'total_budget', 'city'), how='outer')\n",
    "df_moscow = df_cities.query('city == \"Москва\"')\n",
    "df_regional = df_cities.query('city != \"Москва\"')\n",
    "\n",
    "sns.boxplot(x='total_budget', orient = 'v', data=df_moscow, width=0.3, showmeans=True, notch=True)\n",
    "plt.show()\n",
    "sns.boxplot(x='total_budget', orient = 'v', data=df_regional, width=0.3, showmeans=True, notch=True)\n",
    "plt.show()\n",
    "\n",
    "# Находим выбросы и удаляем\n",
    "def cities_quantiles(data, column):\n",
    "    q1 = np.percentile(data[column].dropna(), 25)\n",
    "    q3 = np.percentile(data[column].dropna(), 75)\n",
    "    IQR = q3 - q1\n",
    "    \n",
    "    start = np.ceil(q1 - 1.5 * IQR)\n",
    "    end = np.ceil(q3 + 1.5 * IQR)\n",
    "    \n",
    "    if start < 0:\n",
    "        start = 0\n",
    "    \n",
    "    print('Значения интервала для {}: {} - {}'.format(column, start, end))\n",
    "    return '\\t'\n",
    "\n",
    "print(cities_quantiles(df_moscow, 'total_budget'))\n",
    "print(cities_quantiles(df_regional, 'total_budget'))\n",
    "\n",
    "df_moscow = df_moscow.query('total_budget < 3695')\n",
    "df_regional = df_regional.query('total_budget < 3750')"
   ]
  },
  {
   "cell_type": "markdown",
   "metadata": {},
   "source": [
    "Расчет p-value.\n",
    "Выборки у нас незавсимимые, поэтмоу используем метод scipy.stats.ttest_ind:"
   ]
  },
  {
   "cell_type": "code",
   "execution_count": 370,
   "metadata": {},
   "outputs": [
    {
     "name": "stdout",
     "output_type": "stream",
     "text": [
      "p-значение: 0.1891130767063284\n",
      "Не получилось отвергнуть нулевую гипотезу\n",
      "Средняя выручка по г.Москва - 1525.0\n",
      "Средняя выручка по регионам - 1482.0\n"
     ]
    }
   ],
   "source": [
    "alpha = 0.05\n",
    "\n",
    "results = st.ttest_ind(df_moscow['total_budget'], df_regional['total_budget'])\n",
    "print('p-значение:', results.pvalue)\n",
    "\n",
    "if (results.pvalue < alpha):\n",
    "    print(\"Отвергаем нулевую гипотезу\")\n",
    "else:\n",
    "    print(\"Не получилось отвергнуть нулевую гипотезу\")\n",
    "    \n",
    "print('Средняя выручка по г.Москва - {}'.format(round(df_moscow['total_budget'].mean(),0)))\n",
    "print('Средняя выручка по регионам - {}'.format(round(df_regional['total_budget'].mean(),0)))"
   ]
  },
  {
   "cell_type": "markdown",
   "metadata": {},
   "source": [
    "Вывод:\n",
    "Значения находятся в погрешности друг от друга"
   ]
  },
  {
   "cell_type": "markdown",
   "metadata": {},
   "source": [
    "### Шаг 5. Общий вывод"
   ]
  },
  {
   "cell_type": "markdown",
   "metadata": {},
   "source": [
    "В ходе анализа результаты показали, что:\n",
    "- В большинстве случаев пользователям \"СМАРТ\" не хватает доступного объема в рамках месячного абонемента и им приходится докупать услуги в 75%. Особенно это отрадается на интернете. Рекомендовано подумать над расширением пакета (~2Гб дополнительного Интернета) или созданием промежуточного пакета между \"СМАРТ\" / \"УЛЬТРА\". Если учесть значительную долю перепалат по услугам, то денежные средства и желания заполучить дополнительные услуги у пользователей есть.\n",
    "- Несмотря на значительные объемы инвентаря пользователям тарифа \"УЛЬТРА\" также в 13% случаев не хватает интернета для месячных нужнд.\n",
    "- При 30% пользователей  \"УЛЬТРА\"  тариф генерирует 42% выручки.\n",
    "- Разницы в выручке между Москвой и регионами нет\n",
    "\n",
    "<span style=\"color:green\"> Обновление </span>\n",
    "\n",
    "Большую выручку приносит доход \"СМАРТ\" по причине дешевизны тарифа и большей доли пользователей. Но несмотря на это отметим 40% выручки от тарифа \"УЛЬТРА\", который приносит меньшая доля аудитории. И считаем тарифа \"УЛЬТРА\" больее перспективный для продвижения и дальнейшей рекламной кампании. \n",
    "\n",
    "Также стоит подумать о добавлении в линейку промежуточного тарифа, который позволит перевести значительную часть аудитории с тарифа \"СМАРТ\", при этом сохранив выручку для компании\n"
   ]
  },
  {
   "cell_type": "markdown",
   "metadata": {},
   "source": [
    "<div style=\"border:solid red 2px; padding: 20px\"> <h1 style=\"color: red; margin-bottom:20px\">Комментарий наставника</h1>\n",
    "\n",
    "В выводах нужно написать итоговые рекомендации, какой тариф приносит больше дохода? какой тариф стоит рекламировать?.\n",
    "    \n",
    "<div style=\"border:solid green 2px; padding: 20px\"> <h1 style=\"color:green; margin-bottom:20px\">Комментарий наставника</h1>\n",
    "\n",
    "Ок."
   ]
  },
  {
   "cell_type": "code",
   "execution_count": null,
   "metadata": {},
   "outputs": [],
   "source": []
  }
 ],
 "metadata": {
  "kernelspec": {
   "display_name": "Python 3 (ipykernel)",
   "language": "python",
   "name": "python3"
  },
  "language_info": {
   "codemirror_mode": {
    "name": "ipython",
    "version": 3
   },
   "file_extension": ".py",
   "mimetype": "text/x-python",
   "name": "python",
   "nbconvert_exporter": "python",
   "pygments_lexer": "ipython3",
   "version": "3.7.16"
  }
 },
 "nbformat": 4,
 "nbformat_minor": 4
}

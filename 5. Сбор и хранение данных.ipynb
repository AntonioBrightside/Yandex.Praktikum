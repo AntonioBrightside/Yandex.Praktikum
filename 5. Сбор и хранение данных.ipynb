{
 "cells": [
  {
   "cell_type": "markdown",
   "metadata": {},
   "source": [
    "<hr style=\"border: 2px solid green;\" />\n",
    "\n",
    "## Комментарий ревьювера\n",
    "\n",
    "Привет! \n",
    "\n",
    "🤚Меня зовут, Олег Юрьев, я буду проверять твой проект. Если не против, я буду обращаться к тебе на \"ТЫ\". Если это неприемлемо, обязательно напиши мне в комментариях - мы прейдем на \"ВЫ\".\n",
    "\n",
    "🤝Спасибо, что сдал проект вовремя. Тобой проделана хорошая работа, молодец! \n",
    "\n",
    "✏️В этой тетрадке ты найдешь мои комментарии.\n",
    "\n",
    "Комментарии будут выделены:\n",
    "## <span style=\"color:green\">Отличная работа<span>\n",
    "    Безупречная работа\n",
    "## <span style=\"color:orange\">Что можно улучшить<span>\n",
    "    Ничего дорабатывать не надо, данные пункты работают нормально, но есть способы улучшить.\n",
    "## <span style=\"color:red\">Что необходимо доработать<span>\n",
    "    Такие пункты необходимо исправить в первую очередь, чтобы я смог принять проект.\n",
    " \n",
    "Не удаляй комментарии, так будем следить за динамикой 📈\n",
    "   \n",
    "Давай будем в диалоге, чтобы мне проще было проверять повторно, а тебе контролировать процесс ревью, оставляй свои комментарии и выделяй их.\n",
    "   \n",
    "Поехали! :)\n",
    "\n",
    "<hr style=\"border: 2px solid green;\" />"
   ]
  },
  {
   "cell_type": "markdown",
   "metadata": {},
   "source": [
    "### Шаг 1. Открываем файл с данными и изучаем общую информацию"
   ]
  },
  {
   "cell_type": "markdown",
   "metadata": {},
   "source": [
    "#### <span style=\"color:blue\">Честно говоря, не очень понял цель упражнения, помимо цели вспомнить, как строить графики. Поэтому, если я неправильно понял, буду благодарен за наводку :) </span>"
   ]
  },
  {
   "cell_type": "markdown",
   "metadata": {},
   "source": [
    "## <span style=\"color:green\">Комментарий<span>\n",
    "Данный проект состоит из нескольких частей (SQL, парсер и питоновская часть), поэтому данная часть служит для закрепления материала и практики кода.\n",
    "    \n",
    "Спринт охватывает тему сбора данных, его можно было применить и здесь, например, проверить гипотезу о связи кол-ва рейсов и численности населения города или связать характеристики самолетов с их числом рейсов."
   ]
  },
  {
   "cell_type": "markdown",
   "metadata": {},
   "source": [
    "## <span style=\"color:red\">Что необходимо доработать<span>\n",
    "Пожалуйста, при загрузке работы меняй пути к данным на проектные - `/datasets/data.csv`."
   ]
  },
  {
   "cell_type": "markdown",
   "metadata": {},
   "source": [
    "#### <span style=\"color:blue\">Прошу прощения, ранее загружал и проблем таких не было выявлено. Поправил </span>"
   ]
  },
  {
   "cell_type": "markdown",
   "metadata": {},
   "source": [
    "## <span style=\"color:green\">Отличная работа 2<span>\n",
    "Спасибо✅"
   ]
  },
  {
   "cell_type": "code",
   "execution_count": 1,
   "metadata": {},
   "outputs": [
    {
     "data": {
      "text/html": [
       "<div>\n",
       "<style scoped>\n",
       "    .dataframe tbody tr th:only-of-type {\n",
       "        vertical-align: middle;\n",
       "    }\n",
       "\n",
       "    .dataframe tbody tr th {\n",
       "        vertical-align: top;\n",
       "    }\n",
       "\n",
       "    .dataframe thead th {\n",
       "        text-align: right;\n",
       "    }\n",
       "</style>\n",
       "<table border=\"1\" class=\"dataframe\">\n",
       "  <thead>\n",
       "    <tr style=\"text-align: right;\">\n",
       "      <th></th>\n",
       "      <th>model</th>\n",
       "      <th>flights_amount</th>\n",
       "    </tr>\n",
       "  </thead>\n",
       "  <tbody>\n",
       "    <tr>\n",
       "      <td>6</td>\n",
       "      <td>Cessna 208 Caravan</td>\n",
       "      <td>4557</td>\n",
       "    </tr>\n",
       "    <tr>\n",
       "      <td>5</td>\n",
       "      <td>Bombardier CRJ-200</td>\n",
       "      <td>4446</td>\n",
       "    </tr>\n",
       "    <tr>\n",
       "      <td>7</td>\n",
       "      <td>Sukhoi SuperJet-100</td>\n",
       "      <td>4185</td>\n",
       "    </tr>\n",
       "    <tr>\n",
       "      <td>1</td>\n",
       "      <td>Airbus A321-200</td>\n",
       "      <td>960</td>\n",
       "    </tr>\n",
       "    <tr>\n",
       "      <td>2</td>\n",
       "      <td>Boeing 737-300</td>\n",
       "      <td>630</td>\n",
       "    </tr>\n",
       "    <tr>\n",
       "      <td>0</td>\n",
       "      <td>Airbus A319-100</td>\n",
       "      <td>607</td>\n",
       "    </tr>\n",
       "    <tr>\n",
       "      <td>3</td>\n",
       "      <td>Boeing 767-300</td>\n",
       "      <td>600</td>\n",
       "    </tr>\n",
       "    <tr>\n",
       "      <td>4</td>\n",
       "      <td>Boeing 777-300</td>\n",
       "      <td>300</td>\n",
       "    </tr>\n",
       "  </tbody>\n",
       "</table>\n",
       "</div>"
      ],
      "text/plain": [
       "                 model  flights_amount\n",
       "6   Cessna 208 Caravan            4557\n",
       "5   Bombardier CRJ-200            4446\n",
       "7  Sukhoi SuperJet-100            4185\n",
       "1      Airbus A321-200             960\n",
       "2       Boeing 737-300             630\n",
       "0      Airbus A319-100             607\n",
       "3       Boeing 767-300             600\n",
       "4       Boeing 777-300             300"
      ]
     },
     "metadata": {},
     "output_type": "display_data"
    },
    {
     "data": {
      "text/html": [
       "<div>\n",
       "<style scoped>\n",
       "    .dataframe tbody tr th:only-of-type {\n",
       "        vertical-align: middle;\n",
       "    }\n",
       "\n",
       "    .dataframe tbody tr th {\n",
       "        vertical-align: top;\n",
       "    }\n",
       "\n",
       "    .dataframe thead th {\n",
       "        text-align: right;\n",
       "    }\n",
       "</style>\n",
       "<table border=\"1\" class=\"dataframe\">\n",
       "  <thead>\n",
       "    <tr style=\"text-align: right;\">\n",
       "      <th></th>\n",
       "      <th>city</th>\n",
       "      <th>average_flights</th>\n",
       "    </tr>\n",
       "  </thead>\n",
       "  <tbody>\n",
       "    <tr>\n",
       "      <td>43</td>\n",
       "      <td>Москва</td>\n",
       "      <td>129.774194</td>\n",
       "    </tr>\n",
       "    <tr>\n",
       "      <td>70</td>\n",
       "      <td>Санкт-Петербург</td>\n",
       "      <td>31.161290</td>\n",
       "    </tr>\n",
       "    <tr>\n",
       "      <td>54</td>\n",
       "      <td>Новосибирск</td>\n",
       "      <td>17.322581</td>\n",
       "    </tr>\n",
       "    <tr>\n",
       "      <td>33</td>\n",
       "      <td>Красноярск</td>\n",
       "      <td>11.580645</td>\n",
       "    </tr>\n",
       "    <tr>\n",
       "      <td>20</td>\n",
       "      <td>Екатеринбург</td>\n",
       "      <td>11.322581</td>\n",
       "    </tr>\n",
       "    <tr>\n",
       "      <td>67</td>\n",
       "      <td>Ростов-на-Дону</td>\n",
       "      <td>10.193548</td>\n",
       "    </tr>\n",
       "    <tr>\n",
       "      <td>63</td>\n",
       "      <td>Пермь</td>\n",
       "      <td>10.129032</td>\n",
       "    </tr>\n",
       "    <tr>\n",
       "      <td>10</td>\n",
       "      <td>Брянск</td>\n",
       "      <td>10.000000</td>\n",
       "    </tr>\n",
       "    <tr>\n",
       "      <td>74</td>\n",
       "      <td>Сочи</td>\n",
       "      <td>9.612903</td>\n",
       "    </tr>\n",
       "    <tr>\n",
       "      <td>84</td>\n",
       "      <td>Ульяновск</td>\n",
       "      <td>9.580645</td>\n",
       "    </tr>\n",
       "  </tbody>\n",
       "</table>\n",
       "</div>"
      ],
      "text/plain": [
       "               city  average_flights\n",
       "43           Москва       129.774194\n",
       "70  Санкт-Петербург        31.161290\n",
       "54      Новосибирск        17.322581\n",
       "33       Красноярск        11.580645\n",
       "20     Екатеринбург        11.322581\n",
       "67   Ростов-на-Дону        10.193548\n",
       "63            Пермь        10.129032\n",
       "10           Брянск        10.000000\n",
       "74             Сочи         9.612903\n",
       "84        Ульяновск         9.580645"
      ]
     },
     "metadata": {},
     "output_type": "display_data"
    }
   ],
   "source": [
    "import pandas as pd\n",
    "import matplotlib.pyplot as plt\n",
    "import numpy as np\n",
    "import seaborn as sns\n",
    "\n",
    "MODEL = pd.read_csv('/datasets/query_1.csv').sort_values(by='flights_amount', ascending=False)\n",
    "CITY = pd.read_csv('/datasets/query_3.csv').sort_values(by='average_flights', ascending=False)\n",
    "\n",
    "display(MODEL.sort_values(by='flights_amount', ascending=False))\n",
    "display(CITY.head(10))"
   ]
  },
  {
   "cell_type": "markdown",
   "metadata": {},
   "source": [
    "Проверям пропуски и корректность данных"
   ]
  },
  {
   "cell_type": "code",
   "execution_count": 2,
   "metadata": {},
   "outputs": [
    {
     "name": "stdout",
     "output_type": "stream",
     "text": [
      "<class 'pandas.core.frame.DataFrame'>\n",
      "Int64Index: 8 entries, 6 to 4\n",
      "Data columns (total 2 columns):\n",
      "model             8 non-null object\n",
      "flights_amount    8 non-null int64\n",
      "dtypes: int64(1), object(1)\n",
      "memory usage: 192.0+ bytes\n",
      "<class 'pandas.core.frame.DataFrame'>\n",
      "Int64Index: 101 entries, 43 to 49\n",
      "Data columns (total 2 columns):\n",
      "city               101 non-null object\n",
      "average_flights    101 non-null float64\n",
      "dtypes: float64(1), object(1)\n",
      "memory usage: 2.4+ KB\n"
     ]
    }
   ],
   "source": [
    "MODEL.info()\n",
    "CITY.info()"
   ]
  },
  {
   "cell_type": "markdown",
   "metadata": {},
   "source": [
    "Все данные выгляджят корректными и без пропусков, поэтому можем приступать к анализу"
   ]
  },
  {
   "cell_type": "markdown",
   "metadata": {},
   "source": [
    "### Шаг 2. Исследовательский анализ данных"
   ]
  },
  {
   "cell_type": "code",
   "execution_count": 3,
   "metadata": {},
   "outputs": [],
   "source": [
    "cities_top_10 = list(CITY['city'][0:10]) #Топ 10 городов по среднему количеству рейсов"
   ]
  },
  {
   "cell_type": "markdown",
   "metadata": {},
   "source": [
    "Строми график модели самолетов - количество рейсов"
   ]
  },
  {
   "cell_type": "code",
   "execution_count": 4,
   "metadata": {},
   "outputs": [
    {
     "data": {
      "text/plain": [
       "Text(0.5, 1.0, 'TOP AIRCRAFTS by FLIGHTS ')"
      ]
     },
     "execution_count": 4,
     "metadata": {},
     "output_type": "execute_result"
    },
    {
     "data": {
      "image/png": "[encoded data removed]",
      "text/plain": [
       "<Figure size 1224x360 with 1 Axes>"
      ]
     },
     "metadata": {
      "needs_background": "light"
     },
     "output_type": "display_data"
    }
   ],
   "source": [
    "fig, ax = plt.subplots(figsize=(17,5))\n",
    "sns.barplot(x='model', y='flights_amount', data=MODEL, color=\"BLUE\", \n",
    "            linewidth=3, alpha=0.5).set_title('TOP AIRCRAFTS by FLIGHTS ')"
   ]
  },
  {
   "cell_type": "markdown",
   "metadata": {},
   "source": [
    "##### Вывод:\n",
    "Наиболее популярные модели самолетов:\n",
    "- Cessna 208 Caravan\n",
    "- Bombardier CRJ-200\n",
    "- Sukhoi SuperJet-100\n",
    "\n",
    "Все модели самолетов располагаются от менее вместительного и часто используемого к более вместительному и менее используемому. Очень мало используется габаритных моделей, несмотря на большие расстояния между крупными административными центрами.\n",
    "\n"
   ]
  },
  {
   "cell_type": "code",
   "execution_count": 5,
   "metadata": {},
   "outputs": [
    {
     "data": {
      "text/plain": [
       "Text(0.5, 1.0, 'TOP CITIES by FLIGHTS')"
      ]
     },
     "execution_count": 5,
     "metadata": {},
     "output_type": "execute_result"
    },
    {
     "data": {
      "image/png": "[encoded data removed]",
      "text/plain": [
       "<Figure size 1224x360 with 1 Axes>"
      ]
     },
     "metadata": {
      "needs_background": "light"
     },
     "output_type": "display_data"
    }
   ],
   "source": [
    "fig, ax = plt.subplots(figsize=(17,5))\n",
    "sns.barplot(x='city', y='average_flights', data=CITY.query('city in @cities_top_10'), color=\"GREEN\", \n",
    "            linewidth=3, alpha=0.5).set_title('TOP CITIES by FLIGHTS')"
   ]
  },
  {
   "cell_type": "markdown",
   "metadata": {},
   "source": [
    "##### Вывод:\n",
    "Ожидаемо главным и единственным воздушным хабом страны оказалась Москва - \"Все дороги ведут в Москву\".\n",
    "Далее с огромным отрывом СПБ (как вторая столица РФ и популярного туристического центра) и НОВОСИБ (как главный хаб за уралом, соединяющим страну).\n",
    "Интересный факт наличия Брянска и Ульяновска в списке, а также отсутствия части городов-миллиоников вне списка. Возможно это связано с наличием инфраструктуры и возможности быстро добраться от главных центров (аля Москва), экономическим состоянием (Волгоград)."
   ]
  },
  {
   "cell_type": "markdown",
   "metadata": {},
   "source": [
    "## <span style=\"color:green\">Отличная работа 2<span>\n",
    "В разделах все верно. Здорово, что воспользовался информацией о вместимости самолетов.\n",
    "\n",
    "Обратил внимание, что при загрузке данных ты уже используешь сортировку (и потом её повторяешь при выводе) - это говорит, что ты знаешь какие данные тебя ждут и как ты их будешь обрабатывать - немного нарушена логическая цепочка изучения данных."
   ]
  },
  {
   "cell_type": "markdown",
   "metadata": {},
   "source": [
    "#### <span style=\"color:blue\">Спасибо за наводку, как раз выше высказывал гипотезы о характеристиках самолета и о зависимости численности города. Давай тогда проверим гипотезу по зависимости города математически  </span>"
   ]
  },
  {
   "cell_type": "markdown",
   "metadata": {},
   "source": [
    "### Шаг 3. Проверка гипотезы"
   ]
  },
  {
   "cell_type": "markdown",
   "metadata": {},
   "source": [
    "##### Нулевая гипотзеза:  Среднее количество рейсов в городах миллионниках и остальных городах равны"
   ]
  },
  {
   "cell_type": "markdown",
   "metadata": {},
   "source": [
    "Спервая необходимо узнать и добавить к существующей базе численность населенных городов"
   ]
  },
  {
   "cell_type": "code",
   "execution_count": 6,
   "metadata": {},
   "outputs": [
    {
     "data": {
      "text/html": [
       "<div>\n",
       "<style scoped>\n",
       "    .dataframe tbody tr th:only-of-type {\n",
       "        vertical-align: middle;\n",
       "    }\n",
       "\n",
       "    .dataframe tbody tr th {\n",
       "        vertical-align: top;\n",
       "    }\n",
       "\n",
       "    .dataframe thead th {\n",
       "        text-align: right;\n",
       "    }\n",
       "</style>\n",
       "<table border=\"1\" class=\"dataframe\">\n",
       "  <thead>\n",
       "    <tr style=\"text-align: right;\">\n",
       "      <th></th>\n",
       "      <th>Город</th>\n",
       "      <th>2018</th>\n",
       "    </tr>\n",
       "  </thead>\n",
       "  <tbody>\n",
       "    <tr>\n",
       "      <td>0</td>\n",
       "      <td>Москва</td>\n",
       "      <td>12506</td>\n",
       "    </tr>\n",
       "    <tr>\n",
       "      <td>1</td>\n",
       "      <td>Санкт-Петербург</td>\n",
       "      <td>5352</td>\n",
       "    </tr>\n",
       "    <tr>\n",
       "      <td>2</td>\n",
       "      <td>Новосибирск</td>\n",
       "      <td>1613</td>\n",
       "    </tr>\n",
       "    <tr>\n",
       "      <td>3</td>\n",
       "      <td>Екатеринбург</td>\n",
       "      <td>1469</td>\n",
       "    </tr>\n",
       "    <tr>\n",
       "      <td>4</td>\n",
       "      <td>Нижний Новгород</td>\n",
       "      <td>1259</td>\n",
       "    </tr>\n",
       "    <tr>\n",
       "      <td>5</td>\n",
       "      <td>Казань</td>\n",
       "      <td>1244</td>\n",
       "    </tr>\n",
       "    <tr>\n",
       "      <td>6</td>\n",
       "      <td>Челябинск</td>\n",
       "      <td>1202</td>\n",
       "    </tr>\n",
       "    <tr>\n",
       "      <td>7</td>\n",
       "      <td>Омск</td>\n",
       "      <td>1172</td>\n",
       "    </tr>\n",
       "    <tr>\n",
       "      <td>8</td>\n",
       "      <td>Самара</td>\n",
       "      <td>1163</td>\n",
       "    </tr>\n",
       "    <tr>\n",
       "      <td>9</td>\n",
       "      <td>Ростов-на-Дону</td>\n",
       "      <td>1130</td>\n",
       "    </tr>\n",
       "  </tbody>\n",
       "</table>\n",
       "</div>"
      ],
      "text/plain": [
       "             Город   2018\n",
       "0           Москва  12506\n",
       "1  Санкт-Петербург   5352\n",
       "2      Новосибирск   1613\n",
       "3     Екатеринбург   1469\n",
       "4  Нижний Новгород   1259\n",
       "5           Казань   1244\n",
       "6        Челябинск   1202\n",
       "7             Омск   1172\n",
       "8           Самара   1163\n",
       "9   Ростов-на-Дону   1130"
      ]
     },
     "metadata": {},
     "output_type": "display_data"
    }
   ],
   "source": [
    "import requests  \n",
    "from bs4 import BeautifulSoup \n",
    "\n",
    "URL='http://www.demoscope.ru/weekly/ssp/rus_urban100.php'\n",
    "\n",
    "req_page_text = requests.get(URL).text\n",
    "soup = BeautifulSoup(req_page_text, 'lxml')\n",
    "\n",
    "headers = []\n",
    "content = []\n",
    "\n",
    "for i in soup.find_all('table', attrs={'border':'1'}):\n",
    "    for header in i.find_all('p', attrs={'align':'center'}):\n",
    "        headers.append(header.text)\n",
    "\n",
    "for table in soup.find_all('table', attrs={'border':'1'}):\n",
    "    for table in table.find_all('tr'):\n",
    "        for row_data in table.find_all('p'):\n",
    "            if row_data.text not in headers:\n",
    "                content.append([data.text for data in table.find_all('p')])\n",
    "                break\n",
    "\n",
    "headers.remove('Год')\n",
    "\n",
    "city_data = pd.DataFrame(columns=headers, data=content) # Формуируем новую таблицу\n",
    "city_data = city_data.loc[:, ['Город', '2018']] #оставляем данные только по самый актуальный год\n",
    "display(city_data.head(10))"
   ]
  },
  {
   "cell_type": "markdown",
   "metadata": {},
   "source": [
    "Соединим данные и уберем лишнее.\n",
    "Также добавим индекс, который позволит сравнивать не величины напрямую, а их средние цифры. Это поможет избежать внешних факторов, которые могут сколнить данные в пользу городов миллиоников. Чем меньше индекс, тем выше популярность города у авиаперевозчиков."
   ]
  },
  {
   "cell_type": "code",
   "execution_count": 7,
   "metadata": {},
   "outputs": [
    {
     "data": {
      "text/html": [
       "<div>\n",
       "<style scoped>\n",
       "    .dataframe tbody tr th:only-of-type {\n",
       "        vertical-align: middle;\n",
       "    }\n",
       "\n",
       "    .dataframe tbody tr th {\n",
       "        vertical-align: top;\n",
       "    }\n",
       "\n",
       "    .dataframe thead th {\n",
       "        text-align: right;\n",
       "    }\n",
       "</style>\n",
       "<table border=\"1\" class=\"dataframe\">\n",
       "  <thead>\n",
       "    <tr style=\"text-align: right;\">\n",
       "      <th></th>\n",
       "      <th>city</th>\n",
       "      <th>av._flights</th>\n",
       "      <th>population_2018</th>\n",
       "      <th>av.population_on_1_flight(1k_pops)</th>\n",
       "    </tr>\n",
       "  </thead>\n",
       "  <tbody>\n",
       "    <tr>\n",
       "      <td>0</td>\n",
       "      <td>Москва</td>\n",
       "      <td>129.774194</td>\n",
       "      <td>12506</td>\n",
       "      <td>96</td>\n",
       "    </tr>\n",
       "    <tr>\n",
       "      <td>1</td>\n",
       "      <td>Санкт-Петербург</td>\n",
       "      <td>31.161290</td>\n",
       "      <td>5352</td>\n",
       "      <td>171</td>\n",
       "    </tr>\n",
       "    <tr>\n",
       "      <td>2</td>\n",
       "      <td>Новосибирск</td>\n",
       "      <td>17.322581</td>\n",
       "      <td>1613</td>\n",
       "      <td>93</td>\n",
       "    </tr>\n",
       "    <tr>\n",
       "      <td>3</td>\n",
       "      <td>Красноярск</td>\n",
       "      <td>11.580645</td>\n",
       "      <td>1091</td>\n",
       "      <td>94</td>\n",
       "    </tr>\n",
       "    <tr>\n",
       "      <td>4</td>\n",
       "      <td>Екатеринбург</td>\n",
       "      <td>11.322581</td>\n",
       "      <td>1469</td>\n",
       "      <td>129</td>\n",
       "    </tr>\n",
       "    <tr>\n",
       "      <td>5</td>\n",
       "      <td>Ростов-на-Дону</td>\n",
       "      <td>10.193548</td>\n",
       "      <td>1130</td>\n",
       "      <td>110</td>\n",
       "    </tr>\n",
       "    <tr>\n",
       "      <td>6</td>\n",
       "      <td>Пермь</td>\n",
       "      <td>10.129032</td>\n",
       "      <td>1052</td>\n",
       "      <td>103</td>\n",
       "    </tr>\n",
       "    <tr>\n",
       "      <td>7</td>\n",
       "      <td>Брянск</td>\n",
       "      <td>10.000000</td>\n",
       "      <td>406</td>\n",
       "      <td>40</td>\n",
       "    </tr>\n",
       "    <tr>\n",
       "      <td>8</td>\n",
       "      <td>Сочи</td>\n",
       "      <td>9.612903</td>\n",
       "      <td>424</td>\n",
       "      <td>44</td>\n",
       "    </tr>\n",
       "    <tr>\n",
       "      <td>9</td>\n",
       "      <td>Ульяновск</td>\n",
       "      <td>9.580645</td>\n",
       "      <td>627</td>\n",
       "      <td>65</td>\n",
       "    </tr>\n",
       "    <tr>\n",
       "      <td>10</td>\n",
       "      <td>Сургут</td>\n",
       "      <td>8.741935</td>\n",
       "      <td>366</td>\n",
       "      <td>41</td>\n",
       "    </tr>\n",
       "    <tr>\n",
       "      <td>11</td>\n",
       "      <td>Новый Уренгой</td>\n",
       "      <td>8.290323</td>\n",
       "      <td>115</td>\n",
       "      <td>13</td>\n",
       "    </tr>\n",
       "    <tr>\n",
       "      <td>12</td>\n",
       "      <td>Казань</td>\n",
       "      <td>7.741935</td>\n",
       "      <td>1244</td>\n",
       "      <td>160</td>\n",
       "    </tr>\n",
       "    <tr>\n",
       "      <td>13</td>\n",
       "      <td>Тюмень</td>\n",
       "      <td>6.967742</td>\n",
       "      <td>768</td>\n",
       "      <td>110</td>\n",
       "    </tr>\n",
       "    <tr>\n",
       "      <td>14</td>\n",
       "      <td>Челябинск</td>\n",
       "      <td>6.709677</td>\n",
       "      <td>1202</td>\n",
       "      <td>179</td>\n",
       "    </tr>\n",
       "  </tbody>\n",
       "</table>\n",
       "</div>"
      ],
      "text/plain": [
       "               city  av._flights  population_2018  \\\n",
       "0            Москва   129.774194            12506   \n",
       "1   Санкт-Петербург    31.161290             5352   \n",
       "2       Новосибирск    17.322581             1613   \n",
       "3        Красноярск    11.580645             1091   \n",
       "4      Екатеринбург    11.322581             1469   \n",
       "5    Ростов-на-Дону    10.193548             1130   \n",
       "6             Пермь    10.129032             1052   \n",
       "7            Брянск    10.000000              406   \n",
       "8              Сочи     9.612903              424   \n",
       "9         Ульяновск     9.580645              627   \n",
       "10           Сургут     8.741935              366   \n",
       "11    Новый Уренгой     8.290323              115   \n",
       "12           Казань     7.741935             1244   \n",
       "13           Тюмень     6.967742              768   \n",
       "14        Челябинск     6.709677             1202   \n",
       "\n",
       "    av.population_on_1_flight(1k_pops)  \n",
       "0                                   96  \n",
       "1                                  171  \n",
       "2                                   93  \n",
       "3                                   94  \n",
       "4                                  129  \n",
       "5                                  110  \n",
       "6                                  103  \n",
       "7                                   40  \n",
       "8                                   44  \n",
       "9                                   65  \n",
       "10                                  41  \n",
       "11                                  13  \n",
       "12                                 160  \n",
       "13                                 110  \n",
       "14                                 179  "
      ]
     },
     "metadata": {},
     "output_type": "display_data"
    }
   ],
   "source": [
    "city_with_pops = pd.merge(left=CITY, right=city_data, left_on='city', right_on='Город')\n",
    "city_with_pops = city_with_pops.drop(columns='Город')\n",
    "city_with_pops.columns = ['city', 'av._flights', 'population_2018']\n",
    "city_with_pops['population_2018'] = city_with_pops['population_2018'].astype('int')\n",
    "city_with_pops['av.population_on_1_flight(1k_pops)'] = (city_with_pops['population_2018'] / city_with_pops['av._flights']).astype('int')\n",
    "display(city_with_pops.head(15))"
   ]
  },
  {
   "cell_type": "code",
   "execution_count": 8,
   "metadata": {},
   "outputs": [
    {
     "data": {
      "text/html": [
       "<div>\n",
       "<style scoped>\n",
       "    .dataframe tbody tr th:only-of-type {\n",
       "        vertical-align: middle;\n",
       "    }\n",
       "\n",
       "    .dataframe tbody tr th {\n",
       "        vertical-align: top;\n",
       "    }\n",
       "\n",
       "    .dataframe thead th {\n",
       "        text-align: right;\n",
       "    }\n",
       "</style>\n",
       "<table border=\"1\" class=\"dataframe\">\n",
       "  <thead>\n",
       "    <tr style=\"text-align: right;\">\n",
       "      <th></th>\n",
       "      <th>city</th>\n",
       "      <th>av._flights</th>\n",
       "      <th>population_2018</th>\n",
       "      <th>av.population_on_1_flight(1k_pops)</th>\n",
       "    </tr>\n",
       "  </thead>\n",
       "  <tbody>\n",
       "    <tr>\n",
       "      <td>0</td>\n",
       "      <td>Брянск</td>\n",
       "      <td>10.000000</td>\n",
       "      <td>406</td>\n",
       "      <td>40</td>\n",
       "    </tr>\n",
       "    <tr>\n",
       "      <td>1</td>\n",
       "      <td>Сочи</td>\n",
       "      <td>9.612903</td>\n",
       "      <td>424</td>\n",
       "      <td>44</td>\n",
       "    </tr>\n",
       "    <tr>\n",
       "      <td>2</td>\n",
       "      <td>Ульяновск</td>\n",
       "      <td>9.580645</td>\n",
       "      <td>627</td>\n",
       "      <td>65</td>\n",
       "    </tr>\n",
       "    <tr>\n",
       "      <td>3</td>\n",
       "      <td>Сургут</td>\n",
       "      <td>8.741935</td>\n",
       "      <td>366</td>\n",
       "      <td>41</td>\n",
       "    </tr>\n",
       "    <tr>\n",
       "      <td>4</td>\n",
       "      <td>Новый Уренгой</td>\n",
       "      <td>8.290323</td>\n",
       "      <td>115</td>\n",
       "      <td>13</td>\n",
       "    </tr>\n",
       "    <tr>\n",
       "      <td>5</td>\n",
       "      <td>Тюмень</td>\n",
       "      <td>6.967742</td>\n",
       "      <td>768</td>\n",
       "      <td>110</td>\n",
       "    </tr>\n",
       "    <tr>\n",
       "      <td>6</td>\n",
       "      <td>Хабаровск</td>\n",
       "      <td>6.548387</td>\n",
       "      <td>618</td>\n",
       "      <td>94</td>\n",
       "    </tr>\n",
       "    <tr>\n",
       "      <td>7</td>\n",
       "      <td>Новокузнецк</td>\n",
       "      <td>6.032258</td>\n",
       "      <td>554</td>\n",
       "      <td>91</td>\n",
       "    </tr>\n",
       "    <tr>\n",
       "      <td>8</td>\n",
       "      <td>Иркутск</td>\n",
       "      <td>6.032258</td>\n",
       "      <td>624</td>\n",
       "      <td>103</td>\n",
       "    </tr>\n",
       "    <tr>\n",
       "      <td>9</td>\n",
       "      <td>Белгород</td>\n",
       "      <td>6.000000</td>\n",
       "      <td>392</td>\n",
       "      <td>65</td>\n",
       "    </tr>\n",
       "    <tr>\n",
       "      <td>10</td>\n",
       "      <td>Киров</td>\n",
       "      <td>6.000000</td>\n",
       "      <td>507</td>\n",
       "      <td>84</td>\n",
       "    </tr>\n",
       "    <tr>\n",
       "      <td>11</td>\n",
       "      <td>Петрозаводск</td>\n",
       "      <td>5.870968</td>\n",
       "      <td>279</td>\n",
       "      <td>47</td>\n",
       "    </tr>\n",
       "    <tr>\n",
       "      <td>12</td>\n",
       "      <td>Архангельск</td>\n",
       "      <td>5.354839</td>\n",
       "      <td>350</td>\n",
       "      <td>65</td>\n",
       "    </tr>\n",
       "    <tr>\n",
       "      <td>13</td>\n",
       "      <td>Оренбург</td>\n",
       "      <td>5.000000</td>\n",
       "      <td>565</td>\n",
       "      <td>113</td>\n",
       "    </tr>\n",
       "    <tr>\n",
       "      <td>14</td>\n",
       "      <td>Чебоксары</td>\n",
       "      <td>5.000000</td>\n",
       "      <td>492</td>\n",
       "      <td>98</td>\n",
       "    </tr>\n",
       "    <tr>\n",
       "      <td>15</td>\n",
       "      <td>Элиста</td>\n",
       "      <td>4.870968</td>\n",
       "      <td>103</td>\n",
       "      <td>21</td>\n",
       "    </tr>\n",
       "  </tbody>\n",
       "</table>\n",
       "</div>"
      ],
      "text/plain": [
       "             city  av._flights  population_2018  \\\n",
       "0          Брянск    10.000000              406   \n",
       "1            Сочи     9.612903              424   \n",
       "2       Ульяновск     9.580645              627   \n",
       "3          Сургут     8.741935              366   \n",
       "4   Новый Уренгой     8.290323              115   \n",
       "5          Тюмень     6.967742              768   \n",
       "6       Хабаровск     6.548387              618   \n",
       "7     Новокузнецк     6.032258              554   \n",
       "8         Иркутск     6.032258              624   \n",
       "9        Белгород     6.000000              392   \n",
       "10          Киров     6.000000              507   \n",
       "11   Петрозаводск     5.870968              279   \n",
       "12    Архангельск     5.354839              350   \n",
       "13       Оренбург     5.000000              565   \n",
       "14      Чебоксары     5.000000              492   \n",
       "15         Элиста     4.870968              103   \n",
       "\n",
       "    av.population_on_1_flight(1k_pops)  \n",
       "0                                   40  \n",
       "1                                   44  \n",
       "2                                   65  \n",
       "3                                   41  \n",
       "4                                   13  \n",
       "5                                  110  \n",
       "6                                   94  \n",
       "7                                   91  \n",
       "8                                  103  \n",
       "9                                   65  \n",
       "10                                  84  \n",
       "11                                  47  \n",
       "12                                  65  \n",
       "13                                 113  \n",
       "14                                  98  \n",
       "15                                  21  "
      ]
     },
     "metadata": {},
     "output_type": "display_data"
    }
   ],
   "source": [
    "cities_1M = city_with_pops[city_with_pops['population_2018'] > 1000] #Города с популяцией больше 1М\n",
    "cities_1M_wo_moscow = city_with_pops[city_with_pops['city'] != 'Москва'] #Города с популяцией больше 1М, кроме Москвы\n",
    "cities_100K = city_with_pops[(city_with_pops['population_2018'] > 100) \n",
    "                             & (city_with_pops['population_2018'] < 1000)] #Города с популяцией меньше 1М\n",
    "\n",
    "list_1M = len(cities_1M['city'])\n",
    "cities_top_100K = cities_100K.sort_values(by='av._flights', \n",
    "                                          ascending=False).reset_index(drop=True).loc[0:list_1M] # Топ 15 городов по количеству рейсов с популяцией меньше 1М\n",
    "display(cities_top_100K)"
   ]
  },
  {
   "cell_type": "markdown",
   "metadata": {},
   "source": [
    "##### Нулевая гипотзеза:  Среднее количество рейсов в городах миллионниках и остальных городах равны\n",
    "\n",
    "##### Проверяем гипотезу с разным набором данных\n",
    "Выборки у нас незавсимимые, поэтмоу используем метод scipy.stats.ttest_ind:\n",
    "\n",
    "Набор данных #1: все города до 1М и все города больше 1М на основании количества совершенных рейсов\n"
   ]
  },
  {
   "cell_type": "code",
   "execution_count": 9,
   "metadata": {},
   "outputs": [
    {
     "name": "stdout",
     "output_type": "stream",
     "text": [
      "p-значение: 0.0010384605514450521\n",
      "Отвергаем нулевую гипотезу\n"
     ]
    }
   ],
   "source": [
    "from scipy import stats as st\n",
    "\n",
    "#Проводим расчеты\n",
    "alpha = 0.05\n",
    "\n",
    "results = st.ttest_ind(cities_1M['av._flights'], cities_100K['av._flights'])\n",
    "print('p-значение:', results.pvalue)\n",
    "\n",
    "if (results.pvalue < alpha):\n",
    "    print(\"Отвергаем нулевую гипотезу\")\n",
    "else:\n",
    "    print(\"Не получилось отвергнуть нулевую гипотезу\")\n"
   ]
  },
  {
   "cell_type": "markdown",
   "metadata": {},
   "source": [
    "Очевидно, что среднее количество рейсов в городах миллионниках не равно, значительно в пользу крупных городов. Что же будет, если убрать из списка Москву?"
   ]
  },
  {
   "cell_type": "code",
   "execution_count": 10,
   "metadata": {},
   "outputs": [
    {
     "name": "stdout",
     "output_type": "stream",
     "text": [
      "p-значение: 0.08733984746265121\n",
      "Не получилось отвергнуть нулевую гипотезу\n"
     ]
    }
   ],
   "source": [
    "from scipy import stats as st\n",
    "\n",
    "#Проводим расчеты\n",
    "alpha = 0.05\n",
    "\n",
    "results = st.ttest_ind(cities_1M_wo_moscow['av._flights'], cities_100K['av._flights'])\n",
    "print('p-значение:', results.pvalue)\n",
    "\n",
    "if (results.pvalue < alpha):\n",
    "    print(\"Отвергаем нулевую гипотезу\")\n",
    "else:\n",
    "    print(\"Не получилось отвергнуть нулевую гипотезу\")\n"
   ]
  },
  {
   "cell_type": "markdown",
   "metadata": {},
   "source": [
    "В данном случае мы видим, что города миллионники без Москвы не обладают таким преимуществом.\n",
    "Что будет, если оставить в городах <1M только топ города по количеству рейсов, а к городам миллионикам снова прибавить Москву?"
   ]
  },
  {
   "cell_type": "code",
   "execution_count": 11,
   "metadata": {},
   "outputs": [
    {
     "name": "stdout",
     "output_type": "stream",
     "text": [
      "p-значение: 0.195866130022564\n",
      "Не получилось отвергнуть нулевую гипотезу\n"
     ]
    }
   ],
   "source": [
    "from scipy import stats as st\n",
    "\n",
    "#Проводим расчеты\n",
    "alpha = 0.05\n",
    "\n",
    "results = st.ttest_ind(cities_1M['av._flights'], cities_top_100K['av._flights'])\n",
    "print('p-значение:', results.pvalue)\n",
    "\n",
    "if (results.pvalue < alpha):\n",
    "    print(\"Отвергаем нулевую гипотезу\")\n",
    "else:\n",
    "    print(\"Не получилось отвергнуть нулевую гипотезу\")"
   ]
  },
  {
   "cell_type": "markdown",
   "metadata": {},
   "source": [
    "Верно утверждение, что топ 15 городов из регонов по количеству рейсов не уступает по средним рейсам из городов миллионников. Что будет, если сравнить индексы >1М и 1<M?"
   ]
  },
  {
   "cell_type": "code",
   "execution_count": 12,
   "metadata": {},
   "outputs": [
    {
     "name": "stdout",
     "output_type": "stream",
     "text": [
      "p-значение: 0.16329165215762417\n",
      "Не получилось отвергнуть нулевую гипотезу\n"
     ]
    }
   ],
   "source": [
    "from scipy import stats as st\n",
    "\n",
    "#Проводим расчеты\n",
    "alpha = 0.05\n",
    "\n",
    "results = st.ttest_ind(cities_1M['av.population_on_1_flight(1k_pops)'], cities_100K['av.population_on_1_flight(1k_pops)'])\n",
    "print('p-значение:', results.pvalue)\n",
    "\n",
    "if (results.pvalue < alpha):\n",
    "    print(\"Отвергаем нулевую гипотезу\")\n",
    "else:\n",
    "    print(\"Не получилось отвергнуть нулевую гипотезу\")\n"
   ]
  },
  {
   "cell_type": "markdown",
   "metadata": {},
   "source": [
    "Видим, что сведя среднее к популяции гипотезу о равенстве средних рейсов отклонить не удалось"
   ]
  },
  {
   "cell_type": "markdown",
   "metadata": {},
   "source": [
    "<hr style=\"border: 2px solid green;\" />\n",
    "\n",
    "## Общий комментарий\n",
    "Спасибо за проделанную работу🤝\n",
    "\n",
    "Работа выполнена хорошо. Очень круто, что ты подошел математически к проверки гипотезы, еще и придумав метрику👍\n",
    "\n",
    "Поздравляю, проект принят🚀"
   ]
  }
 ],
 "metadata": {
  "kernelspec": {
   "display_name": "Python 3 (ipykernel)",
   "language": "python",
   "name": "python3"
  },
  "language_info": {
   "codemirror_mode": {
    "name": "ipython",
    "version": 3
   },
   "file_extension": ".py",
   "mimetype": "text/x-python",
   "name": "python",
   "nbconvert_exporter": "python",
   "pygments_lexer": "ipython3",
   "version": "3.10.2"
  }
 },
 "nbformat": 4,
 "nbformat_minor": 4
}

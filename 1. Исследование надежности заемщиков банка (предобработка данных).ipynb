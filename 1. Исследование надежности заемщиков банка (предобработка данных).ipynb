{
 "cells": [
  {
   "cell_type": "markdown",
   "metadata": {},
   "source": [
    "<div style=\"border:solid green 2px; padding: 20px\"> <h1 style=\"color:green; margin-bottom:20px\">Комментарий наставника</h1>\n",
    "\n",
    "Привет! Буду обращаться в мужском роде так как не указано имя в работе. Поздравляю тебя с первым твоим проектом и спасибо, что вовремя сдал задание:) Ты проделал большую работу. Далее в файле мои коммефнтарии ты сможешь найти в ячейках, аналогичных данной ( если рамки комментария зелёные - всё сделано правильно; жёлтые - есть замечания, но не критично; красные - нужно переделать). Не удаляй эти комментарии и постарайся учесть их в ходе выполнения проекта. "
   ]
  },
  {
   "cell_type": "markdown",
   "metadata": {},
   "source": [
    "## Исследование надёжности заёмщиков\n",
    "\n",
    "Заказчик — кредитный отдел банка. Нужно разобраться, влияет ли семейное положение и количество детей клиента на факт погашения кредита в срок. Входные данные от банка — статистика о платёжеспособности клиентов.\n",
    "\n",
    "Результаты исследования будут учтены при построении модели **кредитного скоринга** — специальной системы, которая оценивает способность потенциального заёмщика вернуть кредит банку."
   ]
  },
  {
   "cell_type": "markdown",
   "metadata": {},
   "source": [
    "### Шаг 1. Откройте файл с данными и изучите общую информацию. "
   ]
  },
  {
   "cell_type": "code",
   "execution_count": 1,
   "metadata": {},
   "outputs": [
    {
     "name": "stdout",
     "output_type": "stream",
     "text": [
      "   children  days_employed  dob_years education  education_id  \\\n",
      "0         1   -8437.673028         42    высшее             0   \n",
      "1         1   -4024.803754         36   среднее             1   \n",
      "2         0   -5623.422610         33   Среднее             1   \n",
      "3         3   -4124.747207         32   среднее             1   \n",
      "4         0  340266.072047         53   среднее             1   \n",
      "5         0    -926.185831         27    высшее             0   \n",
      "6         0   -2879.202052         43    высшее             0   \n",
      "7         0    -152.779569         50   СРЕДНЕЕ             1   \n",
      "8         2   -6929.865299         35    ВЫСШЕЕ             0   \n",
      "9         0   -2188.756445         41   среднее             1   \n",
      "\n",
      "      family_status  family_status_id gender income_type  debt   total_income  \\\n",
      "0   женат / замужем                 0      F   сотрудник     0  253875.639453   \n",
      "1   женат / замужем                 0      F   сотрудник     0  112080.014102   \n",
      "2   женат / замужем                 0      M   сотрудник     0  145885.952297   \n",
      "3   женат / замужем                 0      M   сотрудник     0  267628.550329   \n",
      "4  гражданский брак                 1      F   пенсионер     0  158616.077870   \n",
      "5  гражданский брак                 1      M   компаньон     0  255763.565419   \n",
      "6   женат / замужем                 0      F   компаньон     0  240525.971920   \n",
      "7   женат / замужем                 0      M   сотрудник     0  135823.934197   \n",
      "8  гражданский брак                 1      F   сотрудник     0   95856.832424   \n",
      "9   женат / замужем                 0      M   сотрудник     0  144425.938277   \n",
      "\n",
      "                      purpose  \n",
      "0               покупка жилья  \n",
      "1     приобретение автомобиля  \n",
      "2               покупка жилья  \n",
      "3  дополнительное образование  \n",
      "4             сыграть свадьбу  \n",
      "5               покупка жилья  \n",
      "6           операции с жильем  \n",
      "7                 образование  \n",
      "8       на проведение свадьбы  \n",
      "9     покупка жилья для семьи  \n",
      "<class 'pandas.core.frame.DataFrame'>\n",
      "RangeIndex: 21525 entries, 0 to 21524\n",
      "Data columns (total 12 columns):\n",
      "children            21525 non-null int64\n",
      "days_employed       19351 non-null float64\n",
      "dob_years           21525 non-null int64\n",
      "education           21525 non-null object\n",
      "education_id        21525 non-null int64\n",
      "family_status       21525 non-null object\n",
      "family_status_id    21525 non-null int64\n",
      "gender              21525 non-null object\n",
      "income_type         21525 non-null object\n",
      "debt                21525 non-null int64\n",
      "total_income        19351 non-null float64\n",
      "purpose             21525 non-null object\n",
      "dtypes: float64(2), int64(5), object(5)\n",
      "memory usage: 2.0+ MB\n",
      "None\n"
     ]
    }
   ],
   "source": [
    "import pandas as pd\n",
    "df = pd.read_csv('/datasets/data.csv')\n",
    "\n",
    "# Визуальный осмотр предоставленных данных\n",
    "print(df.head(10))\n",
    "print(df.info())"
   ]
  },
  {
   "cell_type": "raw",
   "metadata": {},
   "source": [
    "# Вывод"
   ]
  },
  {
   "cell_type": "markdown",
   "metadata": {},
   "source": [
    "Часть предоставленных данных находится в некорректном виде и их необходимо исправить.\n",
    "\n",
    "Пропущены следующие значения:\n",
    "- days_employed\n",
    "- total_income\n",
    "\n",
    "Некорректные значения:\n",
    "- days_employed:\n",
    "    - положительные значения превышают допустимый стаж.\n",
    "    - отрицательные значения\n",
    "- children\n",
    "    - отрицательные значения\n",
    "    \n",
    "Данные не в едином стиле, что может привести к ошибкам в общих выводах:\n",
    "- education:\n",
    "        - разный регистр\n",
    "\n"
   ]
  },
  {
   "cell_type": "markdown",
   "metadata": {},
   "source": [
    "<div style=\"border:solid green 2px; padding: 20px\"> <h1 style=\"color:green; margin-bottom:20px\">Комментарий наставника</h1>\n",
    "\n",
    "Хорошее начало, так же, для большего понимания данных можно было бы использовать метод `describe`\n"
   ]
  },
  {
   "cell_type": "code",
   "execution_count": null,
   "metadata": {},
   "outputs": [],
   "source": []
  },
  {
   "cell_type": "markdown",
   "metadata": {},
   "source": [
    "### Шаг 2. Предобработка данных"
   ]
  },
  {
   "cell_type": "markdown",
   "metadata": {},
   "source": [
    "### Обработка пропусков"
   ]
  },
  {
   "cell_type": "code",
   "execution_count": 2,
   "metadata": {},
   "outputs": [
    {
     "name": "stdout",
     "output_type": "stream",
     "text": [
      "2173\n",
      "212\n",
      "17\n",
      "1\n",
      "5936\n",
      "8142\n",
      "21510\n",
      "children               0\n",
      "days_employed       2174\n",
      "dob_years              0\n",
      "education              0\n",
      "education_id           0\n",
      "family_status          0\n",
      "family_status_id       0\n",
      "gender                 0\n",
      "income_type            0\n",
      "debt                   0\n",
      "total_income        2174\n",
      "purpose                0\n",
      "work_years             1\n",
      "new_total_income       0\n",
      "dtype: int64\n"
     ]
    }
   ],
   "source": [
    "# Проверяем количество и столбцы по пропущенным значениям\n",
    "#print(df.isna().sum())\n",
    "\n",
    "# Приведение значений столбца \"education\" к единому регистру\n",
    "df['education'] = df['education'].str.lower()\n",
    "# print(df['education'].unique())\n",
    "# education_matching = df.groupby('education')['education_id'].unique().sort_values()\n",
    "# print('\\n', education_matching)\n",
    "\n",
    "# уточняем, насколько положительные значения корректны через сравнение количества дней при стаже в 60 непрерывных лет (21 900)\n",
    "# df['days_employed'] = df['days_employed'].replace([df['days_employed'] > 21900], '0')\n",
    "df.loc[(df['days_employed'] > 21900), 'days_employed'] = 0\n",
    "# print('\\n', df[(df['days_employed'] < 21900) & (df['days_employed'] > 0)])\n",
    "\n",
    "# корректируем отрицательные значения в стаже\n",
    "counter = 0\n",
    "for row in df['days_employed']:\n",
    "    if df.loc[counter, 'days_employed'] < 0:\n",
    "        df.loc[counter, 'days_employed'] = df.loc[counter, 'days_employed'] * (-1)\n",
    "        counter += 1\n",
    "    else:\n",
    "        counter += 1\n",
    "        continue\n",
    "        \n",
    "# добавляем колонку с временем стажа по периодам (можно без нее, но так проще на текущем этапе)\n",
    "def years(row):\n",
    "    if (row['days_employed'] / 365) == 0:\n",
    "        df_dobs = df[df['dob_years'] == row['dob_years']]\n",
    "        work_days = df_dobs['days_employed'].mean()\n",
    "        if (work_days / 365) > 0 and (work_days / 365) < 1:\n",
    "            return '1'\n",
    "        if (work_days / 365) >= 1 and (work_days / 365) < 3:\n",
    "            return '3'\n",
    "        if (work_days / 365) >= 3 and (work_days / 365) < 5:\n",
    "            return '5'\n",
    "        if (work_days / 365) >= 5 and (work_days / 365) < 10:\n",
    "            return '10'\n",
    "        if (work_days / 365) >= 10:\n",
    "            return '10+'\n",
    "    if (row['days_employed'] / 365) > 0 and (row['days_employed'] / 365) < 1:\n",
    "        return '1'\n",
    "    if (row['days_employed'] / 365) >= 1 and (row['days_employed'] / 365) < 3:\n",
    "        return '3'\n",
    "    if (row['days_employed'] / 365) >= 3 and (row['days_employed'] / 365) < 5:\n",
    "        return '5'\n",
    "    if (row['days_employed'] / 365) >= 5 and (row['days_employed'] / 365) < 10:\n",
    "        return '10'\n",
    "    if (row['days_employed'] / 365) >= 10:\n",
    "        return '10+'\n",
    "    \n",
    "df['work_years'] = df.apply(years, axis=1)\n",
    "\n",
    "# далее идет очень нерациональный способ, но не понимаю, почему цикл не выполняется с первого раза и его приходится повторять еще несколько раз. Медианные значения берутся из массива, который не меняется, но из раза в раз Nan позиции убывают\n",
    "data_2 = df['work_years']\n",
    "counter = 0\n",
    "\n",
    "for element in data_2:\n",
    "    if (data_2.isna().values[counter] == True) == True:\n",
    "        data_2_w_condition = df[df['dob_years'] == df.loc[counter, 'dob_years']]\n",
    "        data_2_w_condition_mean = data_2_w_condition['days_employed'].mean()\n",
    "        if (data_2_w_condition_mean / 365) > 0 and (data_2_w_condition_mean / 365) < 1:\n",
    "            df.loc[counter, 'work_years'] = '1'\n",
    "        if (data_2_w_condition_mean / 365) >= 1 and (data_2_w_condition_mean / 365) < 3:\n",
    "            df.loc[counter, 'work_years'] = '3'\n",
    "        if (data_2_w_condition_mean / 365) >= 3 and (data_2_w_condition_mean / 365) < 5:\n",
    "            df.loc[counter, 'work_years'] = '5'\n",
    "        if (data_2_w_condition_mean / 365) >= 5 and (data_2_w_condition_mean / 365) < 10:\n",
    "            df.loc[counter, 'work_years'] = '10'\n",
    "        if (data_2_w_condition_mean / 365) >= 10:\n",
    "            df.loc[counter, 'work_years'] = '10+'\n",
    "    else:\n",
    "        counter += 1\n",
    "        continue\n",
    "\n",
    "print(df['work_years'].isna().sum())\n",
    "\n",
    "data_3 = df['work_years']\n",
    "counter = 0\n",
    "\n",
    "for element in data_3:\n",
    "    if (data_3.isna().values[counter] == True) == True:\n",
    "        data_3_w_condition = df[df['dob_years'] == df.loc[counter, 'dob_years']]\n",
    "        data_3_w_condition_mean = data_3_w_condition['days_employed'].mean()\n",
    "        if (data_3_w_condition_mean / 365) > 0 and (data_3_w_condition_mean / 365) < 1:\n",
    "            df.loc[counter, 'work_years'] = '1'\n",
    "        if (data_3_w_condition_mean / 365) >= 1 and (data_3_w_condition_mean / 365) < 3:\n",
    "            df.loc[counter, 'work_years'] = '3'\n",
    "        if (data_3_w_condition_mean / 365) >= 3 and (data_3_w_condition_mean / 365) < 5:\n",
    "            df.loc[counter, 'work_years'] = '5'\n",
    "        if (data_3_w_condition_mean / 365) >= 5 and (data_3_w_condition_mean / 365) < 10:\n",
    "            df.loc[counter, 'work_years'] = '10'\n",
    "        if (data_3_w_condition_mean / 365) >= 10:\n",
    "            df.loc[counter, 'work_years'] = '10+'\n",
    "    else:\n",
    "        counter += 1\n",
    "        continue\n",
    "\n",
    "print(df['work_years'].isna().sum())\n",
    "\n",
    "data_5 = df['work_years']\n",
    "counter = 0\n",
    "\n",
    "for element in data_5:\n",
    "    if (data_5.isna().values[counter] == True) == True:\n",
    "        data_5_w_condition = df[df['dob_years'] == df.loc[counter, 'dob_years']]\n",
    "        data_5_w_condition_mean = data_5_w_condition['days_employed'].mean()\n",
    "        if (data_5_w_condition_mean / 365) > 0 and (data_5_w_condition_mean / 365) < 1:\n",
    "            df.loc[counter, 'work_years'] = '1'\n",
    "        if (data_5_w_condition_mean / 365) >= 1 and (data_5_w_condition_mean / 365) < 3:\n",
    "            df.loc[counter, 'work_years'] = '3'\n",
    "        if (data_5_w_condition_mean / 365) >= 3 and (data_5_w_condition_mean / 365) < 5:\n",
    "            df.loc[counter, 'work_years'] = '5'\n",
    "        if (data_5_w_condition_mean / 365) >= 5 and (data_5_w_condition_mean / 365) < 10:\n",
    "            df.loc[counter, 'work_years'] = '10'\n",
    "        if (data_5_w_condition_mean / 365) >= 10:\n",
    "            df.loc[counter, 'work_years'] = '10+'\n",
    "    else:\n",
    "        counter += 1\n",
    "        continue\n",
    "        \n",
    "print(df['work_years'].isna().sum())\n",
    "\n",
    "data_6 = df['work_years']\n",
    "counter = 0\n",
    "for element in data_6:\n",
    "    if (data_6.isna().values[counter] == True) == True:\n",
    "        data_6_w_condition = df[df['dob_years'] == df.loc[counter, 'dob_years']]\n",
    "        data_6_w_condition_mean = data_6_w_condition['days_employed'].mean()\n",
    "        if (data_6_w_condition_mean / 365) > 0 and (data_6_w_condition_mean / 365) < 1:\n",
    "            df.loc[counter, 'work_years'] = '1'\n",
    "        if (data_6_w_condition_mean / 365) >= 1 and (data_6_w_condition_mean / 365) < 3:\n",
    "            df.loc[counter, 'work_years'] = '3'\n",
    "        if (data_6_w_condition_mean / 365) >= 3 and (data_6_w_condition_mean / 365) < 5:\n",
    "            df.loc[counter, 'work_years'] = '5'\n",
    "        if (data_6_w_condition_mean / 365) >= 5 and (data_6_w_condition_mean / 365) < 10:\n",
    "            df.loc[counter, 'work_years'] = '10'\n",
    "        if (data_6_w_condition_mean / 365) >= 10:\n",
    "            df.loc[counter, 'work_years'] = '10+'\n",
    "    else:\n",
    "        counter += 1\n",
    "        continue\n",
    "        \n",
    "print(df['work_years'].isna().sum())\n",
    "\n",
    "# заполняем отсутсвующие значение медианными значениями, исходя из группы, к которой относится заёмщик\n",
    "data = df['total_income']\n",
    "counter = 0\n",
    "\n",
    "for element in data:\n",
    "    if (data.isna().values[counter] == True) == True:\n",
    "        data_w_condition = df[(df['income_type'] == df.loc[counter, 'income_type']) & \n",
    "                              (df['gender'] == df.loc[counter, 'gender']) & \n",
    "                             (df['education_id'] == df.loc[counter, 'education_id']) & \n",
    "                             (df['work_years'] == df.loc[counter, 'work_years'])]\n",
    "        data_w_condition_mean = data_w_condition['total_income'].mean()\n",
    "        df.loc[counter, 'new_total_income'] = data_w_condition_mean # новый столбец, чтобы увеличивающееся количество медианных данных чтобы на каждый новый виток цикла не сказывались накапливающиеся медианные данные\n",
    "        counter += 1\n",
    "    else:\n",
    "        df.loc[counter, 'new_total_income'] = df.loc[counter, 'total_income'] \n",
    "        counter += 1\n",
    "        continue\n",
    "    \n",
    "# костыли...\n",
    "data = df['new_total_income']\n",
    "\n",
    "counter = 0\n",
    "for element in data:\n",
    "    if (data.isna().values[counter] == True) == True:\n",
    "        print(counter)\n",
    "        counter += 1\n",
    "    else:\n",
    "        counter +=1\n",
    "        continue\n",
    "\n",
    "a_1 = df[(df['gender'] == df.loc[8142, 'gender']) & (df['education_id'] == df.loc[8142, 'education_id']) & (df['work_years'] == df.loc[8142, 'work_years'])]\n",
    "df.loc[8142,'new_total_income'] = a_1['total_income'].mean()\n",
    "\n",
    "a_2 = df[(df['gender'] == df.loc[5936, 'gender']) & (df['education_id'] == df.loc[5936, 'education_id']) & (df['work_years'] == df.loc[5936, 'work_years'])]\n",
    "df.loc[5936,'new_total_income'] = a_2['total_income'].mean()\n",
    "\n",
    "a_3 = df[(df['gender'] == df.loc[21510, 'gender']) & (df['education_id'] == df.loc[21510, 'education_id'])]\n",
    "df.loc[21510,'new_total_income'] = a_3['total_income'].mean()\n",
    "\n",
    "print(df.isna().sum())"
   ]
  },
  {
   "cell_type": "markdown",
   "metadata": {},
   "source": [
    "Вывод"
   ]
  },
  {
   "cell_type": "markdown",
   "metadata": {},
   "source": [
    "Имеются пропущенные данные по столбцам стажа и дохода.\n",
    "Причиной пропущенных значений могло послужить:\n",
    "     1. Отсутствие трудового стажа на момент получения данных\n",
    "     2. Человеческий / Технический фактор по отсутствию заполненных данных\n",
    "     3. Отсутвие требования по заполнению данных на момент сбора данных (первоначальная недоработанная версия анкеты)\n",
    "\n",
    "За основу берем п.2. и заполняем данные медианными значениями \n",
    "\n",
    "Имеются отрицательные значения и чрезмерно высокие положительные значения по колонке \"стаж\".  \n",
    "Положительные значения являются некорректными в связи с превышающим возможный стаж человека, их аннулируем, чтобы не вводить в заблуждение при последующих действиях с колонками\n",
    "Отрицательные значения перевод в положительные, т.к. визуально соответствуют реальности. \n",
    "\n",
    "Заполняем пропущенные значения в рамках дохода медианными данными, исходя из категории, в которой относится кредитор (стаж, пол, образование, профессия). Берем за основу медианные, т.к. лучше отражает средний доход по категории, без влияния сверхбогатых и сверхбедных."
   ]
  },
  {
   "cell_type": "markdown",
   "metadata": {},
   "source": [
    "<div style=\"border:solid green 2px; padding: 20px\"> <h1 style=\"color:green; margin-bottom:20px\">Комментарий наставника</h1>\n",
    "\n",
    "Пропуски заполнены, молодец)"
   ]
  },
  {
   "cell_type": "markdown",
   "metadata": {},
   "source": [
    "### Замена типа данных"
   ]
  },
  {
   "cell_type": "code",
   "execution_count": 3,
   "metadata": {
    "scrolled": true
   },
   "outputs": [
    {
     "name": "stdout",
     "output_type": "stream",
     "text": [
      "<class 'pandas.core.frame.DataFrame'>\n",
      "RangeIndex: 21525 entries, 0 to 21524\n",
      "Data columns (total 14 columns):\n",
      "children            21525 non-null int64\n",
      "days_employed       19351 non-null float64\n",
      "dob_years           21525 non-null int64\n",
      "education           21525 non-null object\n",
      "education_id        21525 non-null int64\n",
      "family_status       21525 non-null object\n",
      "family_status_id    21525 non-null int64\n",
      "gender              21525 non-null object\n",
      "income_type         21525 non-null object\n",
      "debt                21525 non-null int64\n",
      "total_income        19351 non-null float64\n",
      "purpose             21525 non-null object\n",
      "work_years          21524 non-null object\n",
      "new_total_income    21525 non-null float64\n",
      "dtypes: float64(3), int64(5), object(6)\n",
      "memory usage: 2.3+ MB\n",
      "None\n"
     ]
    }
   ],
   "source": [
    "print(df.info())"
   ]
  },
  {
   "cell_type": "markdown",
   "metadata": {},
   "source": [
    "### Вывод"
   ]
  },
  {
   "cell_type": "markdown",
   "metadata": {},
   "source": [
    "Я понимаю, что в критериях указано: \"вещественный на целочисленный\". Мы меняли данные в столбцах:\n",
    "- стаж (дробное, но все еще число)\n",
    "- доход (дробное, но все еще число)\n",
    "\n",
    "Чисто визуально не нахожу некорректной вещественной колонки. Также при работе с данными далее нет проблем для анализа и подготовки выводов. Буду благодарен за помощь)"
   ]
  },
  {
   "cell_type": "markdown",
   "metadata": {},
   "source": [
    "<div style=\"border:solid red 2px; padding: 20px\"> <h1 style=\"color:red; margin-bottom:20px\">Комментарий наставника</h1>\n",
    "\n",
    "Стоило заменить типы данных для столбцов, в которых заполнял пропуски, для более удобной работы и в критериях принятия работы указано какой тип на какой менять"
   ]
  },
  {
   "cell_type": "markdown",
   "metadata": {},
   "source": [
    "<div style=\"border:solid  green  2px; padding: 20px\"> <h1 style=\"color: green ; margin-bottom:20px\">Комментарий наставника</h1>\n",
    "Хорошо"
   ]
  },
  {
   "cell_type": "markdown",
   "metadata": {},
   "source": [
    "### Обработка дубликатов"
   ]
  },
  {
   "cell_type": "code",
   "execution_count": 4,
   "metadata": {},
   "outputs": [
    {
     "name": "stdout",
     "output_type": "stream",
     "text": [
      "0\n"
     ]
    }
   ],
   "source": [
    "df = df.drop_duplicates().reset_index(drop=True)\n",
    "print(df.duplicated().sum())"
   ]
  },
  {
   "cell_type": "markdown",
   "metadata": {},
   "source": [
    "### Вывод"
   ]
  },
  {
   "cell_type": "markdown",
   "metadata": {},
   "source": [
    "Для поиска дубликатов используем метод duplicated() вместе с методом суммирования значений.\n",
    "При удалении данных обнуляем индексы, чтобы не было пропущенных значений, которые вводят в заблуждение и приводят к ошибке в работе с ними.\n",
    "Данные могли задублироваться по причинам пользователя: отправлена заявка больше одного раза(возможно из-за тех неполадок на сайте или отсутствия отклика на первичную заявку пользователя). Или по техническим причинам. "
   ]
  },
  {
   "cell_type": "markdown",
   "metadata": {},
   "source": [
    "<div style=\"border:solid green 2px; padding: 20px\"> <h1 style=\"color:green; margin-bottom:20px\">Комментарий наставника</h1>\n",
    "\n",
    "Дубликаты найдены и обработаны верно,отлично\n"
   ]
  },
  {
   "cell_type": "code",
   "execution_count": null,
   "metadata": {},
   "outputs": [],
   "source": []
  },
  {
   "cell_type": "markdown",
   "metadata": {},
   "source": [
    "### Лемматизация"
   ]
  },
  {
   "cell_type": "code",
   "execution_count": 5,
   "metadata": {},
   "outputs": [
    {
     "name": "stdout",
     "output_type": "stream",
     "text": [
      "Counter({' ': 33570, '\\n': 21454, 'недвижимость': 6351, 'покупка': 5897, 'жилье': 4460, 'автомобиль': 4306, 'образование': 4013, 'с': 2918, 'операция': 2604, 'свадьба': 2324, 'свой': 2230, 'на': 2222, 'строительство': 1878, 'высокий': 1374, 'получение': 1314, 'коммерческий': 1311, 'для': 1289, 'жилой': 1230, 'сделка': 941, 'дополнительный': 906, 'заниматься': 904, 'проведение': 768, 'сыграть': 765, 'сдача': 651, 'семья': 638, 'собственный': 635, 'со': 627, 'ремонт': 607, 'подержанный': 486, 'подержать': 478, 'приобретение': 461, 'профильный': 436})\n",
      "children               0\n",
      "days_employed       2103\n",
      "dob_years              0\n",
      "education              0\n",
      "education_id           0\n",
      "family_status          0\n",
      "family_status_id       0\n",
      "gender                 0\n",
      "income_type            0\n",
      "debt                   0\n",
      "total_income        2103\n",
      "purpose                0\n",
      "work_years             1\n",
      "new_total_income       0\n",
      "words_in_purpose       0\n",
      "general_purposes       0\n",
      "dtype: int64\n"
     ]
    }
   ],
   "source": [
    "from pymystem3 import Mystem\n",
    "from collections import Counter\n",
    "m = Mystem()\n",
    "\n",
    "# Создаем функцию для получения инфинитива каждой строки\n",
    "def lemmatizator(row):\n",
    "    return m.lemmatize(row['purpose'])\n",
    "\n",
    "df['words_in_purpose'] = df.apply(lemmatizator, axis=1)\n",
    "\n",
    "test_data = df.loc[:,'words_in_purpose']\n",
    "\n",
    "list = []\n",
    "for row in test_data:\n",
    "    for word in row:\n",
    "        list.append(word)\n",
    "        \n",
    "print(Counter(list))\n",
    "\n",
    "# не во всех целях присутсвует типизация. К примеру, \"недвижимость\" (коммерческая? / жилая?). Поэтому список обобщенный\n",
    "purposes = ['недвижимость', 'жилье', 'автомобиль', 'образование', 'свадьба']\n",
    "purposes_data = df['words_in_purpose']\n",
    "line = 0\n",
    "\n",
    "for row in purposes_data:\n",
    "    for word in row:\n",
    "        if word in purposes:\n",
    "            df.loc[line, 'general_purposes'] = word\n",
    "            line += 1\n",
    "        else:\n",
    "            continue\n",
    "\n",
    "df.loc[(df['general_purposes'] == 'жилье'), 'general_purposes'] = 'недвижимость'\n",
    "print(df.isna().sum())"
   ]
  },
  {
   "cell_type": "markdown",
   "metadata": {},
   "source": [
    "### Вывод"
   ]
  },
  {
   "cell_type": "markdown",
   "metadata": {},
   "source": [
    "Т.к. нельзя лемматизировать весь Series 'purpose' целиком, то проводим лемматизацию на каждую строку и далее соединяем в один большой список, в рамках которого выделяем наиболее популярные цели кредита. Т.к. не везде присутствует уточняющие данные по цели кредита, то взяты общие категории: 'недвижимость', 'жилье', 'автомобиль', 'образование', 'свадьба'\n",
    "\n",
    "В дальнейшем можно провести более глубокую лемматизацию по подтипам. К примеру, недвижимость: коммерческая / жилая, ремонт / покупка, стротельство недвижимости / покупка недвижимости и т.д. "
   ]
  },
  {
   "cell_type": "markdown",
   "metadata": {},
   "source": [
    "### Категоризация данных"
   ]
  },
  {
   "cell_type": "code",
   "execution_count": null,
   "metadata": {},
   "outputs": [],
   "source": []
  },
  {
   "cell_type": "markdown",
   "metadata": {},
   "source": [
    "### Вывод"
   ]
  },
  {
   "cell_type": "markdown",
   "metadata": {},
   "source": [
    "Данные категоризированы в рамках выводов, согасно задаваемому вопросу."
   ]
  },
  {
   "cell_type": "markdown",
   "metadata": {},
   "source": [
    "<div style=\"border:solid green 2px; padding: 20px\"> <h1 style=\"color:green; margin-bottom:20px\">Комментарий наставника</h1>\n",
    "\n",
    "\n",
    "Лемматизация и категоризация проведена верно"
   ]
  },
  {
   "cell_type": "markdown",
   "metadata": {},
   "source": [
    "### Шаг 3. Ответьте на вопросы"
   ]
  },
  {
   "cell_type": "markdown",
   "metadata": {},
   "source": [
    "- Есть ли зависимость между наличием детей и возвратом кредита в срок?"
   ]
  },
  {
   "cell_type": "code",
   "execution_count": 1,
   "metadata": {
    "scrolled": false
   },
   "outputs": [
    {
     "ename": "NameError",
     "evalue": "name 'df' is not defined",
     "output_type": "error",
     "traceback": [
      "\u001b[0;31m---------------------------------------------------------------------------\u001b[0m",
      "\u001b[0;31mNameError\u001b[0m                                 Traceback (most recent call last)",
      "\u001b[0;32m<ipython-input-1-7f6c07edbed3>\u001b[0m in \u001b[0;36m<module>\u001b[0;34m\u001b[0m\n\u001b[1;32m      1\u001b[0m \u001b[0;31m# Отбрасываем строки со значениям \"20\" в колонке \"Количество детей\", т.к. данные выглядят некорректными\u001b[0m\u001b[0;34m\u001b[0m\u001b[0;34m\u001b[0m\u001b[0;34m\u001b[0m\u001b[0m\n\u001b[0;32m----> 2\u001b[0;31m \u001b[0mdf_children\u001b[0m \u001b[0;34m=\u001b[0m \u001b[0mdf\u001b[0m\u001b[0;34m[\u001b[0m\u001b[0;34m(\u001b[0m\u001b[0mdf\u001b[0m\u001b[0;34m[\u001b[0m\u001b[0;34m'children'\u001b[0m\u001b[0;34m]\u001b[0m \u001b[0;34m!=\u001b[0m \u001b[0;36m20\u001b[0m\u001b[0;34m)\u001b[0m \u001b[0;34m&\u001b[0m \u001b[0;34m(\u001b[0m\u001b[0mdf\u001b[0m\u001b[0;34m[\u001b[0m\u001b[0;34m'children'\u001b[0m\u001b[0;34m]\u001b[0m \u001b[0;34m!=\u001b[0m \u001b[0;34m-\u001b[0m\u001b[0;36m1\u001b[0m\u001b[0;34m)\u001b[0m\u001b[0;34m]\u001b[0m\u001b[0;34m\u001b[0m\u001b[0;34m\u001b[0m\u001b[0m\n\u001b[0m\u001b[1;32m      3\u001b[0m \u001b[0;34m\u001b[0m\u001b[0m\n\u001b[1;32m      4\u001b[0m \u001b[0;31m#Объединяем заемщиков, у которых есть дети\u001b[0m\u001b[0;34m\u001b[0m\u001b[0;34m\u001b[0m\u001b[0;34m\u001b[0m\u001b[0m\n\u001b[1;32m      5\u001b[0m \u001b[0mdf_children\u001b[0m\u001b[0;34m.\u001b[0m\u001b[0mloc\u001b[0m\u001b[0;34m[\u001b[0m\u001b[0;34m(\u001b[0m\u001b[0mdf_children\u001b[0m\u001b[0;34m[\u001b[0m\u001b[0;34m'children'\u001b[0m\u001b[0;34m]\u001b[0m \u001b[0;34m>\u001b[0m \u001b[0;36m0\u001b[0m\u001b[0;34m)\u001b[0m\u001b[0;34m,\u001b[0m \u001b[0;34m'children'\u001b[0m\u001b[0;34m]\u001b[0m \u001b[0;34m=\u001b[0m \u001b[0;36m1\u001b[0m\u001b[0;34m\u001b[0m\u001b[0;34m\u001b[0m\u001b[0m\n",
      "\u001b[0;31mNameError\u001b[0m: name 'df' is not defined"
     ]
    }
   ],
   "source": [
    "# Отбрасываем строки со значениям \"20\" в колонке \"Количество детей\", т.к. данные выглядят некорректными\n",
    "df_children = df[(df['children'] != 20) & (df['children'] != -1)]\n",
    "\n",
    "#Объединяем заемщиков, у которых есть дети\n",
    "df_children.loc[(df_children['children'] > 0), 'children'] = 1\n",
    "\n",
    "children_summary = df_children.pivot_table(index='children', values='debt')\n",
    "\n",
    "print('Доля задолженностей по кредиту среди бездетных заемщиков: {:.2%}'.format(children_summary.loc[0,'debt']))\n",
    "print('Доля задолженностей по кредиту среди заемщиков с детьми: {:.2%}'.format(children_summary.loc[1,'debt']))\n",
    "print('На {:.2%} кредиторы с детьми чаще являются задолжниками по сравнению с бездетными'.format(children_summary.loc[1,'debt'] / children_summary.loc[0,'debt'] - 1))\n"
   ]
  },
  {
   "cell_type": "markdown",
   "metadata": {},
   "source": [
    "# Вывод"
   ]
  },
  {
   "cell_type": "markdown",
   "metadata": {},
   "source": [
    "Есть небольшая зависимость между кредиторами с детьми и без.\n",
    "Кредиторы с детьми чаще являются задолжниками, нежели кредиторы без детей - на 22.5%"
   ]
  },
  {
   "cell_type": "markdown",
   "metadata": {},
   "source": [
    "- Есть ли зависимость между семейным положением и возвратом кредита в срок?"
   ]
  },
  {
   "cell_type": "code",
   "execution_count": 89,
   "metadata": {},
   "outputs": [
    {
     "name": "stdout",
     "output_type": "stream",
     "text": [
      "                           debt\n",
      "family_status                  \n",
      "Не женат / не замужем  0.097509\n",
      "в разводе              0.071130\n",
      "вдовец / вдова         0.065693\n",
      "гражданский брак       0.093471\n",
      "женат / замужем        0.075452\n"
     ]
    }
   ],
   "source": [
    "print(df.pivot_table(index='family_status', values='debt'))"
   ]
  },
  {
   "cell_type": "markdown",
   "metadata": {},
   "source": [
    "### Вывод"
   ]
  },
  {
   "cell_type": "markdown",
   "metadata": {},
   "source": [
    "Также есть минимальная зависимость по семейному статусу. \n",
    "Так наименьшее количество задолжников среди кредиторов имеют статус \"вдовец / вдова\" - 6,5%\n",
    "По сравнению с ними почти в половину больше невозвратных случае у кредиторов \"не женат / замужем\" и \"гражданский брак\", которые являются наибольшими задолжниками, срежи всех групп.\n",
    "\n",
    "Если смотреть с точки зрения проживает один или с кем-то, то заивимость не наблюдается. Но можно отметить, что пользовати  прошедшие через институт брака или находящиеся в нем имеют лучший процент возврата средств. Возможно это связано с возрастом, необходимо проводить дополнительный анализ."
   ]
  },
  {
   "cell_type": "markdown",
   "metadata": {},
   "source": [
    "- Есть ли зависимость между уровнем дохода и возвратом кредита в срок?"
   ]
  },
  {
   "cell_type": "code",
   "execution_count": 91,
   "metadata": {},
   "outputs": [
    {
     "name": "stdout",
     "output_type": "stream",
     "text": [
      "                      debt\n",
      "income_group              \n",
      "0 < x < 70K       0.068475\n",
      "100K <= x < 150K  0.085327\n",
      "150K <= x < 200K  0.089604\n",
      "1M <= x           0.080000\n",
      "200K <= x < 300K  0.069528\n",
      "300K <= x < 500K  0.072884\n",
      "500K <= x < 1M    0.060914\n",
      "70K <= x < 100K   0.084615\n"
     ]
    }
   ],
   "source": [
    "def income_group(data):\n",
    "    if data['new_total_income'] < 70000:\n",
    "        return '0 < x < 70K'\n",
    "    if (data['new_total_income'] >= 70000) & (data['new_total_income'] < 100000):\n",
    "        return '70K <= x < 100K'\n",
    "    if (data['new_total_income'] >= 100000) & (data['new_total_income'] < 150000):\n",
    "        return '100K <= x < 150K'\n",
    "    if (data['new_total_income'] >= 150000) & (data['new_total_income'] < 200000):\n",
    "        return '150K <= x < 200K'\n",
    "    if (data['new_total_income'] >= 200000) & (data['new_total_income'] < 300000):\n",
    "        return '200K <= x < 300K'\n",
    "    if (data['new_total_income'] >= 300000) & (data['new_total_income'] < 500000):\n",
    "        return '300K <= x < 500K'\n",
    "    if (data['new_total_income'] >= 500000) & (data['new_total_income'] < 1000000):\n",
    "        return '500K <= x < 1M'\n",
    "    if data['new_total_income'] >= 1000000:\n",
    "        return '1M <= x'\n",
    "    \n",
    "df['income_group'] = df.apply(income_group, axis=1)\n",
    "\n",
    "print(df.pivot_table(index='income_group', values='debt'))"
   ]
  },
  {
   "cell_type": "markdown",
   "metadata": {},
   "source": [
    "### Вывод"
   ]
  },
  {
   "cell_type": "markdown",
   "metadata": {},
   "source": [
    "Зависимости между невозвратом кредита и доходов кредитора не наблюдается.\n",
    "Можно отметить, что кредиторы с минимальными доходами и доходами от 200К до 300К д.е / месяц имеют статистику вовзратов лучше по группе с доходом до 500К д.е. / месяц. Остальные категории имеют минимальную разницу ~<10% между собой\n",
    "\n",
    "Можно отметить, что после выхода из черты минимального дохода (до 70К/месяц) пользователи начинают с большей вероятностью становитсья должниками банка до момента получения дохода 200К+"
   ]
  },
  {
   "cell_type": "markdown",
   "metadata": {},
   "source": [
    "- Как разные цели кредита влияют на его возврат в срок?"
   ]
  },
  {
   "cell_type": "code",
   "execution_count": 93,
   "metadata": {},
   "outputs": [
    {
     "name": "stdout",
     "output_type": "stream",
     "text": [
      "                      debt\n",
      "general_purposes          \n",
      "автомобиль        0.093590\n",
      "недвижимость      0.072334\n",
      "образование       0.092200\n",
      "свадьба           0.080034\n"
     ]
    }
   ],
   "source": [
    "print(df.pivot_table(index='general_purposes', values='debt'))"
   ]
  },
  {
   "cell_type": "markdown",
   "metadata": {},
   "source": [
    "### Вывод"
   ]
  },
  {
   "cell_type": "markdown",
   "metadata": {},
   "source": [
    "Есть зависимость целей от возврата кредита.\n",
    "Так наиболее ответствуенно относятся к возврату кредита пользователи, которые берут на действия с недвижимостью.Возможно большие суммы лучше влияют на ответственный подход пользователя.\n",
    "Наибольшая доля задолжников у целей с автомобилем и образованием."
   ]
  },
  {
   "cell_type": "markdown",
   "metadata": {},
   "source": [
    "<div style=\"border:solid  orange  2px; padding: 20px\"> <h1 style=\"color: orange ; margin-bottom:20px\">Комментарий наставника</h1>\n",
    "\n",
    "Выводы все правильные, молодец, но задание лучше было бы выполнить используя сводные таблицы\n"
   ]
  },
  {
   "cell_type": "markdown",
   "metadata": {},
   "source": [
    "<div style=\"border:solid green 2px; padding: 20px\"> <h1 style=\"color:green; margin-bottom:20px\">Комментарий наставника</h1>\n",
    "\n",
    "Все выводы верны, код написан правильно, радует, что используешь сводные таблицы)\n"
   ]
  },
  {
   "cell_type": "code",
   "execution_count": null,
   "metadata": {},
   "outputs": [],
   "source": []
  },
  {
   "cell_type": "markdown",
   "metadata": {},
   "source": [
    "### Шаг 4. Общий вывод"
   ]
  },
  {
   "cell_type": "markdown",
   "metadata": {},
   "source": [
    "В рамках работы были дозаполненые отсутствующие данные исходя из логики отношения пользователя к категории пользователей на основании медианных значений, как наиболе \"справедливых\" для оценки среднего значения.\n",
    "\n",
    "Полученные данные были проанализированы и почти во всех случаях были выявлены минимальные расхождения между группами:\n",
    "- Кредиторы с детьми чаще являются задолжниками по сравнению с бесдетными (+22.5%)\n",
    "- Наибольшими должниками являются кредитозаемщики в статусе \"не женат / не замужем\". Особенность: пользовати прошедшие через институт брака или находящиеся в нем имеют лучший процент возврата средств.\n",
    "- Закономерности между доходов и возвратом кредита не было выявлено. Но стоит отметить, что после выхода из черты минимального дохода (до 70К/месяц) пользователи начинают с большей вероятностью становитсья должниками банка до момента получения дохода 200К+\n",
    "- Наиболее ответственными являются заемщики с целью операций с недвижимостью. Противоположность - операции с автомобилями и образованием.\n",
    "\n",
    "Рекомендовано применить полученные результаты для составления скоринговой модели"
   ]
  },
  {
   "cell_type": "markdown",
   "metadata": {},
   "source": [
    "<div style=\"border:solid  orange  2px; padding: 20px\"> <h1 style=\"color: orange ; margin-bottom:20px\">Комментарий наставника</h1>\n",
    "\n",
    "Обязательно надо написать подробный вывод из проведённого анализа, в котором отразить все полученные результаты + дать советы по использованию данного анализа\n"
   ]
  },
  {
   "cell_type": "markdown",
   "metadata": {},
   "source": [
    "<div style=\"border:solid green 2px; padding: 20px\"> <h1 style=\"color:green; margin-bottom:20px\">Комментарий наставника</h1>\n",
    "\n",
    "Точные и обоснованные выводы, супер)"
   ]
  },
  {
   "cell_type": "code",
   "execution_count": null,
   "metadata": {},
   "outputs": [],
   "source": []
  },
  {
   "cell_type": "markdown",
   "metadata": {},
   "source": [
    "### Чек-лист готовности проекта\n",
    "\n",
    "Поставьте 'x' в выполненных пунктах. Далее нажмите Shift+Enter."
   ]
  },
  {
   "cell_type": "markdown",
   "metadata": {},
   "source": [
    "- [x]  открыт файл;\n",
    "- [x]  файл изучен;\n",
    "- [x]  определены пропущенные значения;\n",
    "- [x]  заполнены пропущенные значения;\n",
    "- [x]  есть пояснение, какие пропущенные значения обнаружены;\n",
    "- [x]  описаны возможные причины появления пропусков в данных;\n",
    "- [x]  объяснено, по какому принципу заполнены пропуски;\n",
    "- [ ]  заменен вещественный тип данных на целочисленный;\n",
    "- [ ]  есть пояснение, какой метод используется для изменения типа данных и почему;\n",
    "- [x]  удалены дубликаты;\n",
    "- [x]  есть пояснение, какой метод используется для поиска и удаления дубликатов;\n",
    "- [x]  описаны возможные причины появления дубликатов в данных;\n",
    "- [x]  выделены леммы в значениях столбца с целями получения кредита;\n",
    "- [x]  описан процесс лемматизации;\n",
    "- [x]  данные категоризированы;\n",
    "- [x]  есть объяснение принципа категоризации данных;\n",
    "- [x]  есть ответ на вопрос: \"Есть ли зависимость между наличием детей и возвратом кредита в срок?\";\n",
    "- [x]  есть ответ на вопрос: \"Есть ли зависимость между семейным положением и возвратом кредита в срок?\";\n",
    "- [x]  есть ответ на вопрос: \"Есть ли зависимость между уровнем дохода и возвратом кредита в срок?\";\n",
    "- [x]  есть ответ на вопрос: \"Как разные цели кредита влияют на его возврат в срок?\";\n",
    "- [x]  в каждом этапе есть выводы;\n",
    "- [x]  есть общий вывод."
   ]
  },
  {
   "cell_type": "markdown",
   "metadata": {},
   "source": [
    "<div style=\"border:solid  orange  2px; padding: 20px\"> <h1 style=\"color: orange ; margin-bottom:20px\">Комментарий наставника</h1>\n",
    "\n",
    "Работа хорошая, но стоит исправить обозначенные неточности, буду ждать исправленный вариант, удачи!)\n"
   ]
  },
  {
   "cell_type": "markdown",
   "metadata": {},
   "source": [
    "<div style=\"border:solid  green  2px; padding: 20px\"> <h1 style=\"color: green ; margin-bottom:20px\">Комментарий наставника</h1>\n",
    "\n",
    "#### Код\n",
    "\n",
    "Всё отлично. Из того, что очень порадовало - соблюдена структура проекта, шаги из задания обозначены и выполнены последовательно, код написан аккуратно, используются комментарии к коду, быстро можно понять, какие операции выполняют сложные конструкции. В качестве совета предлагаю глубже изучить и начать чаще применять конструкцию try-except в решении задачи — это улучшит отказоустойчивость кода и обезопасит код от поломок в будущем, а так же изучить средства для построения изображений в Python для более глубокого понимания данных.\n",
    "#### Выводы\n",
    "\n",
    "У тебя отлично получается анализировать сложные данные, выдвигать корректные гипотезы и проверять свои выводы на возможность соответствия реальности. Видно глубокое понимание сути проведённого анализа. Было очень интересно проверять твой проект и следить за твоей мыслью, так держать!)\n"
   ]
  },
  {
   "cell_type": "markdown",
   "metadata": {},
   "source": [
    "<div style=\"border:solid  green  2px; padding: 20px\"> <h1 style=\"color: green ; margin-bottom:20px\">Комментарий наставника</h1>\n",
    "Работа принята!) Очень рад, что у тебя всё получилось и надеюсь тебе понравится весь курс, будь усерден и у тебя всё получится! Удачи в будущих проектах)"
   ]
  },
  {
   "cell_type": "code",
   "execution_count": null,
   "metadata": {},
   "outputs": [],
   "source": []
  }
 ],
 "metadata": {
  "kernelspec": {
   "display_name": "Python 3 (ipykernel)",
   "language": "python",
   "name": "python3"
  },
  "language_info": {
   "codemirror_mode": {
    "name": "ipython",
    "version": 3
   },
   "file_extension": ".py",
   "mimetype": "text/x-python",
   "name": "python",
   "nbconvert_exporter": "python",
   "pygments_lexer": "ipython3",
   "version": "3.10.2"
  }
 },
 "nbformat": 4,
 "nbformat_minor": 2
}
